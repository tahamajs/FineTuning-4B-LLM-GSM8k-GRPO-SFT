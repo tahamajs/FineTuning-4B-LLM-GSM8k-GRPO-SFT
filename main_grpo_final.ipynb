{
  "cells": [
    {
      "cell_type": "markdown",
      "metadata": {
        "id": "e5xER-TWZrFV"
      },
      "source": [
        "# GRPO Fine Tuning Qwen3 4B on GSM8K"
      ]
    },
    {
      "cell_type": "markdown",
      "metadata": {
        "id": "u0MkrFX3ZnRK"
      },
      "source": [
        "## install Libraries"
      ]
    },
    {
      "cell_type": "code",
      "execution_count": null,
      "metadata": {
        "colab": {
          "base_uri": "https://localhost:8080/"
        },
        "id": "PHS2zWqYOz5Y",
        "outputId": "06dd5668-24b1-4286-986f-75e6f5e560fa"
      },
      "outputs": [
        {
          "name": "stdout",
          "output_type": "stream",
          "text": [
            "Collecting unsloth\n",
            "  Downloading unsloth-2025.8.6-py3-none-any.whl.metadata (47 kB)\n",
            "\u001b[?25l     \u001b[90m━━━━━━━━━━━━━━━━━━━━━━━━━━━━━━━━━━━━━━━━\u001b[0m \u001b[32m0.0/47.6 kB\u001b[0m \u001b[31m?\u001b[0m eta \u001b[36m-:--:--\u001b[0m\r\u001b[2K     \u001b[90m━━━━━━━━━━━━━━━━━━━━━━━━━━━━━━━━━━━━━━━━\u001b[0m \u001b[32m47.6/47.6 kB\u001b[0m \u001b[31m2.9 MB/s\u001b[0m eta \u001b[36m0:00:00\u001b[0m\n",
            "\u001b[?25hCollecting unsloth_zoo>=2025.8.5 (from unsloth)\n",
            "  Downloading unsloth_zoo-2025.8.5-py3-none-any.whl.metadata (9.4 kB)\n",
            "Requirement already satisfied: torch>=2.4.0 in /usr/local/lib/python3.11/dist-packages (from unsloth) (2.6.0+cu124)\n",
            "Collecting xformers>=0.0.27.post2 (from unsloth)\n",
            "  Downloading xformers-0.0.32.post2-cp39-abi3-manylinux_2_28_x86_64.whl.metadata (1.1 kB)\n",
            "Collecting bitsandbytes (from unsloth)\n",
            "  Downloading bitsandbytes-0.47.0-py3-none-manylinux_2_24_x86_64.whl.metadata (11 kB)\n",
            "Requirement already satisfied: triton>=3.0.0 in /usr/local/lib/python3.11/dist-packages (from unsloth) (3.2.0)\n",
            "Requirement already satisfied: packaging in /usr/local/lib/python3.11/dist-packages (from unsloth) (25.0)\n",
            "Collecting tyro (from unsloth)\n",
            "  Downloading tyro-0.9.28-py3-none-any.whl.metadata (11 kB)\n",
            "Requirement already satisfied: transformers!=4.47.0,!=4.52.0,!=4.52.1,!=4.52.2,!=4.52.3,!=4.53.0,>=4.51.3 in /usr/local/lib/python3.11/dist-packages (from unsloth) (4.55.1)\n",
            "Collecting datasets<4.0.0,>=3.4.1 (from unsloth)\n",
            "  Downloading datasets-3.6.0-py3-none-any.whl.metadata (19 kB)\n",
            "Requirement already satisfied: sentencepiece>=0.2.0 in /usr/local/lib/python3.11/dist-packages (from unsloth) (0.2.1)\n",
            "Requirement already satisfied: tqdm in /usr/local/lib/python3.11/dist-packages (from unsloth) (4.67.1)\n",
            "Requirement already satisfied: psutil in /usr/local/lib/python3.11/dist-packages (from unsloth) (5.9.5)\n",
            "Requirement already satisfied: wheel>=0.42.0 in /usr/local/lib/python3.11/dist-packages (from unsloth) (0.45.1)\n",
            "Requirement already satisfied: numpy in /usr/local/lib/python3.11/dist-packages (from unsloth) (2.0.2)\n",
            "Requirement already satisfied: accelerate>=0.34.1 in /usr/local/lib/python3.11/dist-packages (from unsloth) (1.10.0)\n",
            "Collecting trl!=0.15.0,!=0.19.0,!=0.9.0,!=0.9.1,!=0.9.2,!=0.9.3,>=0.7.9 (from unsloth)\n",
            "  Downloading trl-0.21.0-py3-none-any.whl.metadata (11 kB)\n",
            "Requirement already satisfied: peft!=0.11.0,>=0.7.1 in /usr/local/lib/python3.11/dist-packages (from unsloth) (0.17.0)\n",
            "Requirement already satisfied: protobuf in /usr/local/lib/python3.11/dist-packages (from unsloth) (5.29.5)\n",
            "Requirement already satisfied: huggingface_hub>=0.34.0 in /usr/local/lib/python3.11/dist-packages (from unsloth) (0.34.4)\n",
            "Requirement already satisfied: hf_transfer in /usr/local/lib/python3.11/dist-packages (from unsloth) (0.1.9)\n",
            "Requirement already satisfied: diffusers in /usr/local/lib/python3.11/dist-packages (from unsloth) (0.34.0)\n",
            "Requirement already satisfied: torchvision in /usr/local/lib/python3.11/dist-packages (from unsloth) (0.21.0+cu124)\n",
            "Requirement already satisfied: pyyaml in /usr/local/lib/python3.11/dist-packages (from accelerate>=0.34.1->unsloth) (6.0.2)\n",
            "Requirement already satisfied: safetensors>=0.4.3 in /usr/local/lib/python3.11/dist-packages (from accelerate>=0.34.1->unsloth) (0.6.2)\n",
            "Requirement already satisfied: filelock in /usr/local/lib/python3.11/dist-packages (from datasets<4.0.0,>=3.4.1->unsloth) (3.18.0)\n",
            "Requirement already satisfied: pyarrow>=15.0.0 in /usr/local/lib/python3.11/dist-packages (from datasets<4.0.0,>=3.4.1->unsloth) (18.1.0)\n",
            "Requirement already satisfied: dill<0.3.9,>=0.3.0 in /usr/local/lib/python3.11/dist-packages (from datasets<4.0.0,>=3.4.1->unsloth) (0.3.8)\n",
            "Requirement already satisfied: pandas in /usr/local/lib/python3.11/dist-packages (from datasets<4.0.0,>=3.4.1->unsloth) (2.2.2)\n",
            "Requirement already satisfied: requests>=2.32.2 in /usr/local/lib/python3.11/dist-packages (from datasets<4.0.0,>=3.4.1->unsloth) (2.32.3)\n",
            "Requirement already satisfied: xxhash in /usr/local/lib/python3.11/dist-packages (from datasets<4.0.0,>=3.4.1->unsloth) (3.5.0)\n",
            "Requirement already satisfied: multiprocess<0.70.17 in /usr/local/lib/python3.11/dist-packages (from datasets<4.0.0,>=3.4.1->unsloth) (0.70.16)\n",
            "Requirement already satisfied: fsspec<=2025.3.0,>=2023.1.0 in /usr/local/lib/python3.11/dist-packages (from fsspec[http]<=2025.3.0,>=2023.1.0->datasets<4.0.0,>=3.4.1->unsloth) (2025.3.0)\n",
            "Requirement already satisfied: typing-extensions>=3.7.4.3 in /usr/local/lib/python3.11/dist-packages (from huggingface_hub>=0.34.0->unsloth) (4.14.1)\n",
            "Requirement already satisfied: hf-xet<2.0.0,>=1.1.3 in /usr/local/lib/python3.11/dist-packages (from huggingface_hub>=0.34.0->unsloth) (1.1.7)\n",
            "Requirement already satisfied: networkx in /usr/local/lib/python3.11/dist-packages (from torch>=2.4.0->unsloth) (3.5)\n",
            "Requirement already satisfied: jinja2 in /usr/local/lib/python3.11/dist-packages (from torch>=2.4.0->unsloth) (3.1.6)\n",
            "Collecting nvidia-cuda-nvrtc-cu12==12.4.127 (from torch>=2.4.0->unsloth)\n",
            "  Downloading nvidia_cuda_nvrtc_cu12-12.4.127-py3-none-manylinux2014_x86_64.whl.metadata (1.5 kB)\n",
            "Collecting nvidia-cuda-runtime-cu12==12.4.127 (from torch>=2.4.0->unsloth)\n",
            "  Downloading nvidia_cuda_runtime_cu12-12.4.127-py3-none-manylinux2014_x86_64.whl.metadata (1.5 kB)\n",
            "Collecting nvidia-cuda-cupti-cu12==12.4.127 (from torch>=2.4.0->unsloth)\n",
            "  Downloading nvidia_cuda_cupti_cu12-12.4.127-py3-none-manylinux2014_x86_64.whl.metadata (1.6 kB)\n",
            "Collecting nvidia-cudnn-cu12==9.1.0.70 (from torch>=2.4.0->unsloth)\n",
            "  Downloading nvidia_cudnn_cu12-9.1.0.70-py3-none-manylinux2014_x86_64.whl.metadata (1.6 kB)\n",
            "Collecting nvidia-cublas-cu12==12.4.5.8 (from torch>=2.4.0->unsloth)\n",
            "  Downloading nvidia_cublas_cu12-12.4.5.8-py3-none-manylinux2014_x86_64.whl.metadata (1.5 kB)\n",
            "Collecting nvidia-cufft-cu12==11.2.1.3 (from torch>=2.4.0->unsloth)\n",
            "  Downloading nvidia_cufft_cu12-11.2.1.3-py3-none-manylinux2014_x86_64.whl.metadata (1.5 kB)\n",
            "Collecting nvidia-curand-cu12==10.3.5.147 (from torch>=2.4.0->unsloth)\n",
            "  Downloading nvidia_curand_cu12-10.3.5.147-py3-none-manylinux2014_x86_64.whl.metadata (1.5 kB)\n",
            "Collecting nvidia-cusolver-cu12==11.6.1.9 (from torch>=2.4.0->unsloth)\n",
            "  Downloading nvidia_cusolver_cu12-11.6.1.9-py3-none-manylinux2014_x86_64.whl.metadata (1.6 kB)\n",
            "Collecting nvidia-cusparse-cu12==12.3.1.170 (from torch>=2.4.0->unsloth)\n",
            "  Downloading nvidia_cusparse_cu12-12.3.1.170-py3-none-manylinux2014_x86_64.whl.metadata (1.6 kB)\n",
            "Requirement already satisfied: nvidia-cusparselt-cu12==0.6.2 in /usr/local/lib/python3.11/dist-packages (from torch>=2.4.0->unsloth) (0.6.2)\n",
            "Collecting nvidia-nccl-cu12==2.21.5 (from torch>=2.4.0->unsloth)\n",
            "  Downloading nvidia_nccl_cu12-2.21.5-py3-none-manylinux2014_x86_64.whl.metadata (1.8 kB)\n",
            "Requirement already satisfied: nvidia-nvtx-cu12==12.4.127 in /usr/local/lib/python3.11/dist-packages (from torch>=2.4.0->unsloth) (12.4.127)\n",
            "Collecting nvidia-nvjitlink-cu12==12.4.127 (from torch>=2.4.0->unsloth)\n",
            "  Downloading nvidia_nvjitlink_cu12-12.4.127-py3-none-manylinux2014_x86_64.whl.metadata (1.5 kB)\n",
            "Requirement already satisfied: sympy==1.13.1 in /usr/local/lib/python3.11/dist-packages (from torch>=2.4.0->unsloth) (1.13.1)\n",
            "Requirement already satisfied: mpmath<1.4,>=1.1.0 in /usr/local/lib/python3.11/dist-packages (from sympy==1.13.1->torch>=2.4.0->unsloth) (1.3.0)\n",
            "Requirement already satisfied: regex!=2019.12.17 in /usr/local/lib/python3.11/dist-packages (from transformers!=4.47.0,!=4.52.0,!=4.52.1,!=4.52.2,!=4.52.3,!=4.53.0,>=4.51.3->unsloth) (2024.11.6)\n",
            "Requirement already satisfied: tokenizers<0.22,>=0.21 in /usr/local/lib/python3.11/dist-packages (from transformers!=4.47.0,!=4.52.0,!=4.52.1,!=4.52.2,!=4.52.3,!=4.53.0,>=4.51.3->unsloth) (0.21.4)\n",
            "Collecting cut_cross_entropy (from unsloth_zoo>=2025.8.5->unsloth)\n",
            "  Downloading cut_cross_entropy-25.1.1-py3-none-any.whl.metadata (9.3 kB)\n",
            "Requirement already satisfied: pillow in /usr/local/lib/python3.11/dist-packages (from unsloth_zoo>=2025.8.5->unsloth) (11.3.0)\n",
            "Collecting msgspec (from unsloth_zoo>=2025.8.5->unsloth)\n",
            "  Downloading msgspec-0.19.0-cp311-cp311-manylinux_2_17_x86_64.manylinux2014_x86_64.whl.metadata (6.9 kB)\n",
            "Collecting torch>=2.4.0 (from unsloth)\n",
            "  Downloading torch-2.8.0-cp311-cp311-manylinux_2_28_x86_64.whl.metadata (30 kB)\n",
            "Collecting sympy>=1.13.3 (from torch>=2.4.0->unsloth)\n",
            "  Downloading sympy-1.14.0-py3-none-any.whl.metadata (12 kB)\n",
            "Collecting nvidia-cuda-nvrtc-cu12==12.8.93 (from torch>=2.4.0->unsloth)\n",
            "  Downloading nvidia_cuda_nvrtc_cu12-12.8.93-py3-none-manylinux2010_x86_64.manylinux_2_12_x86_64.whl.metadata (1.7 kB)\n",
            "Collecting nvidia-cuda-runtime-cu12==12.8.90 (from torch>=2.4.0->unsloth)\n",
            "  Downloading nvidia_cuda_runtime_cu12-12.8.90-py3-none-manylinux2014_x86_64.manylinux_2_17_x86_64.whl.metadata (1.7 kB)\n",
            "Collecting nvidia-cuda-cupti-cu12==12.8.90 (from torch>=2.4.0->unsloth)\n",
            "  Downloading nvidia_cuda_cupti_cu12-12.8.90-py3-none-manylinux2014_x86_64.manylinux_2_17_x86_64.whl.metadata (1.7 kB)\n",
            "Collecting nvidia-cudnn-cu12==9.10.2.21 (from torch>=2.4.0->unsloth)\n",
            "  Downloading nvidia_cudnn_cu12-9.10.2.21-py3-none-manylinux_2_27_x86_64.whl.metadata (1.8 kB)\n",
            "Collecting nvidia-cublas-cu12 (from nvidia-cudnn-cu12==9.1.0.70->torch>=2.4.0->unsloth)\n",
            "  Downloading nvidia_cublas_cu12-12.8.4.1-py3-none-manylinux_2_27_x86_64.whl.metadata (1.7 kB)\n",
            "Collecting nvidia-cufft-cu12==11.3.3.83 (from torch>=2.4.0->unsloth)\n",
            "  Downloading nvidia_cufft_cu12-11.3.3.83-py3-none-manylinux2014_x86_64.manylinux_2_17_x86_64.whl.metadata (1.7 kB)\n",
            "Collecting nvidia-curand-cu12==10.3.9.90 (from torch>=2.4.0->unsloth)\n",
            "  Downloading nvidia_curand_cu12-10.3.9.90-py3-none-manylinux_2_27_x86_64.whl.metadata (1.7 kB)\n",
            "Collecting nvidia-cusolver-cu12==11.7.3.90 (from torch>=2.4.0->unsloth)\n",
            "  Downloading nvidia_cusolver_cu12-11.7.3.90-py3-none-manylinux_2_27_x86_64.whl.metadata (1.8 kB)\n",
            "Collecting nvidia-cusparse-cu12 (from nvidia-cusolver-cu12==11.6.1.9->torch>=2.4.0->unsloth)\n",
            "  Downloading nvidia_cusparse_cu12-12.5.8.93-py3-none-manylinux2014_x86_64.manylinux_2_17_x86_64.whl.metadata (1.8 kB)\n",
            "Collecting nvidia-cusparselt-cu12==0.7.1 (from torch>=2.4.0->unsloth)\n",
            "  Downloading nvidia_cusparselt_cu12-0.7.1-py3-none-manylinux2014_x86_64.whl.metadata (7.0 kB)\n",
            "Collecting nvidia-nccl-cu12==2.27.3 (from torch>=2.4.0->unsloth)\n",
            "  Downloading nvidia_nccl_cu12-2.27.3-py3-none-manylinux2014_x86_64.manylinux_2_17_x86_64.whl.metadata (2.0 kB)\n",
            "Collecting nvidia-nvtx-cu12==12.8.90 (from torch>=2.4.0->unsloth)\n",
            "  Downloading nvidia_nvtx_cu12-12.8.90-py3-none-manylinux2014_x86_64.manylinux_2_17_x86_64.whl.metadata (1.8 kB)\n",
            "Collecting nvidia-nvjitlink-cu12 (from nvidia-cusolver-cu12==11.6.1.9->torch>=2.4.0->unsloth)\n",
            "  Downloading nvidia_nvjitlink_cu12-12.8.93-py3-none-manylinux2010_x86_64.manylinux_2_12_x86_64.whl.metadata (1.7 kB)\n",
            "Collecting nvidia-cufile-cu12==1.13.1.3 (from torch>=2.4.0->unsloth)\n",
            "  Downloading nvidia_cufile_cu12-1.13.1.3-py3-none-manylinux2014_x86_64.manylinux_2_17_x86_64.whl.metadata (1.7 kB)\n",
            "Collecting triton>=3.0.0 (from unsloth)\n",
            "  Downloading triton-3.4.0-cp311-cp311-manylinux_2_27_x86_64.manylinux_2_28_x86_64.whl.metadata (1.7 kB)\n",
            "Requirement already satisfied: setuptools>=40.8.0 in /usr/local/lib/python3.11/dist-packages (from triton>=3.0.0->unsloth) (75.2.0)\n",
            "Requirement already satisfied: importlib_metadata in /usr/local/lib/python3.11/dist-packages (from diffusers->unsloth) (8.7.0)\n",
            "INFO: pip is looking at multiple versions of torchvision to determine which version is compatible with other requirements. This could take a while.\n",
            "Collecting torchvision (from unsloth)\n",
            "  Downloading torchvision-0.23.0-cp311-cp311-manylinux_2_28_x86_64.whl.metadata (6.1 kB)\n",
            "Requirement already satisfied: docstring-parser>=0.15 in /usr/local/lib/python3.11/dist-packages (from tyro->unsloth) (0.17.0)\n",
            "Requirement already satisfied: rich>=11.1.0 in /usr/local/lib/python3.11/dist-packages (from tyro->unsloth) (13.9.4)\n",
            "Collecting shtab>=1.5.6 (from tyro->unsloth)\n",
            "  Downloading shtab-1.7.2-py3-none-any.whl.metadata (7.4 kB)\n",
            "Requirement already satisfied: typeguard>=4.0.0 in /usr/local/lib/python3.11/dist-packages (from tyro->unsloth) (4.4.4)\n",
            "Requirement already satisfied: aiohttp!=4.0.0a0,!=4.0.0a1 in /usr/local/lib/python3.11/dist-packages (from fsspec[http]<=2025.3.0,>=2023.1.0->datasets<4.0.0,>=3.4.1->unsloth) (3.12.15)\n",
            "Requirement already satisfied: charset-normalizer<4,>=2 in /usr/local/lib/python3.11/dist-packages (from requests>=2.32.2->datasets<4.0.0,>=3.4.1->unsloth) (3.4.3)\n",
            "Requirement already satisfied: idna<4,>=2.5 in /usr/local/lib/python3.11/dist-packages (from requests>=2.32.2->datasets<4.0.0,>=3.4.1->unsloth) (3.10)\n",
            "Requirement already satisfied: urllib3<3,>=1.21.1 in /usr/local/lib/python3.11/dist-packages (from requests>=2.32.2->datasets<4.0.0,>=3.4.1->unsloth) (2.5.0)\n",
            "Requirement already satisfied: certifi>=2017.4.17 in /usr/local/lib/python3.11/dist-packages (from requests>=2.32.2->datasets<4.0.0,>=3.4.1->unsloth) (2025.8.3)\n",
            "Requirement already satisfied: markdown-it-py>=2.2.0 in /usr/local/lib/python3.11/dist-packages (from rich>=11.1.0->tyro->unsloth) (4.0.0)\n",
            "Requirement already satisfied: pygments<3.0.0,>=2.13.0 in /usr/local/lib/python3.11/dist-packages (from rich>=11.1.0->tyro->unsloth) (2.19.2)\n",
            "Requirement already satisfied: zipp>=3.20 in /usr/local/lib/python3.11/dist-packages (from importlib_metadata->diffusers->unsloth) (3.23.0)\n",
            "Requirement already satisfied: MarkupSafe>=2.0 in /usr/local/lib/python3.11/dist-packages (from jinja2->torch>=2.4.0->unsloth) (3.0.2)\n",
            "Requirement already satisfied: python-dateutil>=2.8.2 in /usr/local/lib/python3.11/dist-packages (from pandas->datasets<4.0.0,>=3.4.1->unsloth) (2.9.0.post0)\n",
            "Requirement already satisfied: pytz>=2020.1 in /usr/local/lib/python3.11/dist-packages (from pandas->datasets<4.0.0,>=3.4.1->unsloth) (2025.2)\n",
            "Requirement already satisfied: tzdata>=2022.7 in /usr/local/lib/python3.11/dist-packages (from pandas->datasets<4.0.0,>=3.4.1->unsloth) (2025.2)\n",
            "Requirement already satisfied: aiohappyeyeballs>=2.5.0 in /usr/local/lib/python3.11/dist-packages (from aiohttp!=4.0.0a0,!=4.0.0a1->fsspec[http]<=2025.3.0,>=2023.1.0->datasets<4.0.0,>=3.4.1->unsloth) (2.6.1)\n",
            "Requirement already satisfied: aiosignal>=1.4.0 in /usr/local/lib/python3.11/dist-packages (from aiohttp!=4.0.0a0,!=4.0.0a1->fsspec[http]<=2025.3.0,>=2023.1.0->datasets<4.0.0,>=3.4.1->unsloth) (1.4.0)\n",
            "Requirement already satisfied: attrs>=17.3.0 in /usr/local/lib/python3.11/dist-packages (from aiohttp!=4.0.0a0,!=4.0.0a1->fsspec[http]<=2025.3.0,>=2023.1.0->datasets<4.0.0,>=3.4.1->unsloth) (25.3.0)\n",
            "Requirement already satisfied: frozenlist>=1.1.1 in /usr/local/lib/python3.11/dist-packages (from aiohttp!=4.0.0a0,!=4.0.0a1->fsspec[http]<=2025.3.0,>=2023.1.0->datasets<4.0.0,>=3.4.1->unsloth) (1.7.0)\n",
            "Requirement already satisfied: multidict<7.0,>=4.5 in /usr/local/lib/python3.11/dist-packages (from aiohttp!=4.0.0a0,!=4.0.0a1->fsspec[http]<=2025.3.0,>=2023.1.0->datasets<4.0.0,>=3.4.1->unsloth) (6.6.4)\n",
            "Requirement already satisfied: propcache>=0.2.0 in /usr/local/lib/python3.11/dist-packages (from aiohttp!=4.0.0a0,!=4.0.0a1->fsspec[http]<=2025.3.0,>=2023.1.0->datasets<4.0.0,>=3.4.1->unsloth) (0.3.2)\n",
            "Requirement already satisfied: yarl<2.0,>=1.17.0 in /usr/local/lib/python3.11/dist-packages (from aiohttp!=4.0.0a0,!=4.0.0a1->fsspec[http]<=2025.3.0,>=2023.1.0->datasets<4.0.0,>=3.4.1->unsloth) (1.20.1)\n",
            "Requirement already satisfied: mdurl~=0.1 in /usr/local/lib/python3.11/dist-packages (from markdown-it-py>=2.2.0->rich>=11.1.0->tyro->unsloth) (0.1.2)\n",
            "Requirement already satisfied: six>=1.5 in /usr/local/lib/python3.11/dist-packages (from python-dateutil>=2.8.2->pandas->datasets<4.0.0,>=3.4.1->unsloth) (1.17.0)\n",
            "Downloading unsloth-2025.8.6-py3-none-any.whl (307 kB)\n",
            "\u001b[2K   \u001b[90m━━━━━━━━━━━━━━━━━━━━━━━━━━━━━━━━━━━━━━━━\u001b[0m \u001b[32m307.9/307.9 kB\u001b[0m \u001b[31m12.9 MB/s\u001b[0m eta \u001b[36m0:00:00\u001b[0m\n",
            "\u001b[?25hDownloading datasets-3.6.0-py3-none-any.whl (491 kB)\n",
            "\u001b[2K   \u001b[90m━━━━━━━━━━━━━━━━━━━━━━━━━━━━━━━━━━━━━━━━\u001b[0m \u001b[32m491.5/491.5 kB\u001b[0m \u001b[31m31.0 MB/s\u001b[0m eta \u001b[36m0:00:00\u001b[0m\n",
            "\u001b[?25hDownloading trl-0.21.0-py3-none-any.whl (511 kB)\n",
            "\u001b[2K   \u001b[90m━━━━━━━━━━━━━━━━━━━━━━━━━━━━━━━━━━━━━━━━\u001b[0m \u001b[32m511.9/511.9 kB\u001b[0m \u001b[31m24.1 MB/s\u001b[0m eta \u001b[36m0:00:00\u001b[0m\n",
            "\u001b[?25hDownloading unsloth_zoo-2025.8.5-py3-none-any.whl (182 kB)\n",
            "\u001b[2K   \u001b[90m━━━━━━━━━━━━━━━━━━━━━━━━━━━━━━━━━━━━━━━━\u001b[0m \u001b[32m182.7/182.7 kB\u001b[0m \u001b[31m17.9 MB/s\u001b[0m eta \u001b[36m0:00:00\u001b[0m\n",
            "\u001b[?25hDownloading xformers-0.0.32.post2-cp39-abi3-manylinux_2_28_x86_64.whl (117.2 MB)\n",
            "\u001b[2K   \u001b[90m━━━━━━━━━━━━━━━━━━━━━━━━━━━━━━━━━━━━━━━━\u001b[0m \u001b[32m117.2/117.2 MB\u001b[0m \u001b[31m8.0 MB/s\u001b[0m eta \u001b[36m0:00:00\u001b[0m\n",
            "\u001b[?25hDownloading torch-2.8.0-cp311-cp311-manylinux_2_28_x86_64.whl (888.1 MB)\n",
            "\u001b[2K   \u001b[90m━━━━━━━━━━━━━━━━━━━━━━━━━━━━━━━━━━━━━━━━\u001b[0m \u001b[32m888.1/888.1 MB\u001b[0m \u001b[31m1.2 MB/s\u001b[0m eta \u001b[36m0:00:00\u001b[0m\n",
            "\u001b[?25hDownloading triton-3.4.0-cp311-cp311-manylinux_2_27_x86_64.manylinux_2_28_x86_64.whl (155.5 MB)\n",
            "\u001b[2K   \u001b[90m━━━━━━━━━━━━━━━━━━━━━━━━━━━━━━━━━━━━━━━━\u001b[0m \u001b[32m155.5/155.5 MB\u001b[0m \u001b[31m6.7 MB/s\u001b[0m eta \u001b[36m0:00:00\u001b[0m\n",
            "\u001b[?25hDownloading nvidia_cublas_cu12-12.8.4.1-py3-none-manylinux_2_27_x86_64.whl (594.3 MB)\n",
            "\u001b[2K   \u001b[90m━━━━━━━━━━━━━━━━━━━━━━━━━━━━━━━━━━━━━━━━\u001b[0m \u001b[32m594.3/594.3 MB\u001b[0m \u001b[31m2.1 MB/s\u001b[0m eta \u001b[36m0:00:00\u001b[0m\n",
            "\u001b[?25hDownloading nvidia_cuda_cupti_cu12-12.8.90-py3-none-manylinux2014_x86_64.manylinux_2_17_x86_64.whl (10.2 MB)\n",
            "\u001b[2K   \u001b[90m━━━━━━━━━━━━━━━━━━━━━━━━━━━━━━━━━━━━━━━━\u001b[0m \u001b[32m10.2/10.2 MB\u001b[0m \u001b[31m95.5 MB/s\u001b[0m eta \u001b[36m0:00:00\u001b[0m\n",
            "\u001b[?25hDownloading nvidia_cuda_nvrtc_cu12-12.8.93-py3-none-manylinux2010_x86_64.manylinux_2_12_x86_64.whl (88.0 MB)\n",
            "\u001b[2K   \u001b[90m━━━━━━━━━━━━━━━━━━━━━━━━━━━━━━━━━━━━━━━━\u001b[0m \u001b[32m88.0/88.0 MB\u001b[0m \u001b[31m9.9 MB/s\u001b[0m eta \u001b[36m0:00:00\u001b[0m\n",
            "\u001b[?25hDownloading nvidia_cuda_runtime_cu12-12.8.90-py3-none-manylinux2014_x86_64.manylinux_2_17_x86_64.whl (954 kB)\n",
            "\u001b[2K   \u001b[90m━━━━━━━━━━━━━━━━━━━━━━━━━━━━━━━━━━━━━━━━\u001b[0m \u001b[32m954.8/954.8 kB\u001b[0m \u001b[31m64.2 MB/s\u001b[0m eta \u001b[36m0:00:00\u001b[0m\n",
            "\u001b[?25hDownloading nvidia_cudnn_cu12-9.10.2.21-py3-none-manylinux_2_27_x86_64.whl (706.8 MB)\n",
            "\u001b[2K   \u001b[90m━━━━━━━━━━━━━━━━━━━━━━━━━━━━━━━━━━━━━━━━\u001b[0m \u001b[32m706.8/706.8 MB\u001b[0m \u001b[31m2.0 MB/s\u001b[0m eta \u001b[36m0:00:00\u001b[0m\n",
            "\u001b[?25hDownloading nvidia_cufft_cu12-11.3.3.83-py3-none-manylinux2014_x86_64.manylinux_2_17_x86_64.whl (193.1 MB)\n",
            "\u001b[2K   \u001b[90m━━━━━━━━━━━━━━━━━━━━━━━━━━━━━━━━━━━━━━━━\u001b[0m \u001b[32m193.1/193.1 MB\u001b[0m \u001b[31m6.3 MB/s\u001b[0m eta \u001b[36m0:00:00\u001b[0m\n",
            "\u001b[?25hDownloading nvidia_cufile_cu12-1.13.1.3-py3-none-manylinux2014_x86_64.manylinux_2_17_x86_64.whl (1.2 MB)\n",
            "\u001b[2K   \u001b[90m━━━━━━━━━━━━━━━━━━━━━━━━━━━━━━━━━━━━━━━━\u001b[0m \u001b[32m1.2/1.2 MB\u001b[0m \u001b[31m72.8 MB/s\u001b[0m eta \u001b[36m0:00:00\u001b[0m\n",
            "\u001b[?25hDownloading nvidia_curand_cu12-10.3.9.90-py3-none-manylinux_2_27_x86_64.whl (63.6 MB)\n",
            "\u001b[2K   \u001b[90m━━━━━━━━━━━━━━━━━━━━━━━━━━━━━━━━━━━━━━━━\u001b[0m \u001b[32m63.6/63.6 MB\u001b[0m \u001b[31m12.1 MB/s\u001b[0m eta \u001b[36m0:00:00\u001b[0m\n",
            "\u001b[?25hDownloading nvidia_cusolver_cu12-11.7.3.90-py3-none-manylinux_2_27_x86_64.whl (267.5 MB)\n",
            "\u001b[2K   \u001b[90m━━━━━━━━━━━━━━━━━━━━━━━━━━━━━━━━━━━━━━━━\u001b[0m \u001b[32m267.5/267.5 MB\u001b[0m \u001b[31m5.1 MB/s\u001b[0m eta \u001b[36m0:00:00\u001b[0m\n",
            "\u001b[?25hDownloading nvidia_cusparse_cu12-12.5.8.93-py3-none-manylinux2014_x86_64.manylinux_2_17_x86_64.whl (288.2 MB)\n",
            "\u001b[2K   \u001b[90m━━━━━━━━━━━━━━━━━━━━━━━━━━━━━━━━━━━━━━━━\u001b[0m \u001b[32m288.2/288.2 MB\u001b[0m \u001b[31m5.5 MB/s\u001b[0m eta \u001b[36m0:00:00\u001b[0m\n",
            "\u001b[?25hDownloading nvidia_cusparselt_cu12-0.7.1-py3-none-manylinux2014_x86_64.whl (287.2 MB)\n",
            "\u001b[2K   \u001b[90m━━━━━━━━━━━━━━━━━━━━━━━━━━━━━━━━━━━━━━━━\u001b[0m \u001b[32m287.2/287.2 MB\u001b[0m \u001b[31m1.3 MB/s\u001b[0m eta \u001b[36m0:00:00\u001b[0m\n",
            "\u001b[?25hDownloading nvidia_nccl_cu12-2.27.3-py3-none-manylinux2014_x86_64.manylinux_2_17_x86_64.whl (322.4 MB)\n",
            "\u001b[2K   \u001b[90m━━━━━━━━━━━━━━━━━━━━━━━━━━━━━━━━━━━━━━━━\u001b[0m \u001b[32m322.4/322.4 MB\u001b[0m \u001b[31m4.7 MB/s\u001b[0m eta \u001b[36m0:00:00\u001b[0m\n",
            "\u001b[?25hDownloading nvidia_nvjitlink_cu12-12.8.93-py3-none-manylinux2010_x86_64.manylinux_2_12_x86_64.whl (39.3 MB)\n",
            "\u001b[2K   \u001b[90m━━━━━━━━━━━━━━━━━━━━━━━━━━━━━━━━━━━━━━━━\u001b[0m \u001b[32m39.3/39.3 MB\u001b[0m \u001b[31m21.3 MB/s\u001b[0m eta \u001b[36m0:00:00\u001b[0m\n",
            "\u001b[?25hDownloading nvidia_nvtx_cu12-12.8.90-py3-none-manylinux2014_x86_64.manylinux_2_17_x86_64.whl (89 kB)\n",
            "\u001b[2K   \u001b[90m━━━━━━━━━━━━━━━━━━━━━━━━━━━━━━━━━━━━━━━━\u001b[0m \u001b[32m90.0/90.0 kB\u001b[0m \u001b[31m8.8 MB/s\u001b[0m eta \u001b[36m0:00:00\u001b[0m\n",
            "\u001b[?25hDownloading bitsandbytes-0.47.0-py3-none-manylinux_2_24_x86_64.whl (61.3 MB)\n",
            "\u001b[2K   \u001b[90m━━━━━━━━━━━━━━━━━━━━━━━━━━━━━━━━━━━━━━━━\u001b[0m \u001b[32m61.3/61.3 MB\u001b[0m \u001b[31m16.0 MB/s\u001b[0m eta \u001b[36m0:00:00\u001b[0m\n",
            "\u001b[?25hDownloading torchvision-0.23.0-cp311-cp311-manylinux_2_28_x86_64.whl (8.6 MB)\n",
            "\u001b[2K   \u001b[90m━━━━━━━━━━━━━━━━━━━━━━━━━━━━━━━━━━━━━━━━\u001b[0m \u001b[32m8.6/8.6 MB\u001b[0m \u001b[31m104.4 MB/s\u001b[0m eta \u001b[36m0:00:00\u001b[0m\n",
            "\u001b[?25hDownloading tyro-0.9.28-py3-none-any.whl (129 kB)\n",
            "\u001b[2K   \u001b[90m━━━━━━━━━━━━━━━━━━━━━━━━━━━━━━━━━━━━━━━━\u001b[0m \u001b[32m129.2/129.2 kB\u001b[0m \u001b[31m13.6 MB/s\u001b[0m eta \u001b[36m0:00:00\u001b[0m\n",
            "\u001b[?25hDownloading shtab-1.7.2-py3-none-any.whl (14 kB)\n",
            "Downloading sympy-1.14.0-py3-none-any.whl (6.3 MB)\n",
            "\u001b[2K   \u001b[90m━━━━━━━━━━━━━━━━━━━━━━━━━━━━━━━━━━━━━━━━\u001b[0m \u001b[32m6.3/6.3 MB\u001b[0m \u001b[31m110.6 MB/s\u001b[0m eta \u001b[36m0:00:00\u001b[0m\n",
            "\u001b[?25hDownloading cut_cross_entropy-25.1.1-py3-none-any.whl (22 kB)\n",
            "Downloading msgspec-0.19.0-cp311-cp311-manylinux_2_17_x86_64.manylinux2014_x86_64.whl (210 kB)\n",
            "\u001b[2K   \u001b[90m━━━━━━━━━━━━━━━━━━━━━━━━━━━━━━━━━━━━━━━━\u001b[0m \u001b[32m210.7/210.7 kB\u001b[0m \u001b[31m21.7 MB/s\u001b[0m eta \u001b[36m0:00:00\u001b[0m\n",
            "\u001b[?25hInstalling collected packages: nvidia-cusparselt-cu12, triton, sympy, shtab, nvidia-nvtx-cu12, nvidia-nvjitlink-cu12, nvidia-nccl-cu12, nvidia-curand-cu12, nvidia-cufile-cu12, nvidia-cuda-runtime-cu12, nvidia-cuda-nvrtc-cu12, nvidia-cuda-cupti-cu12, nvidia-cublas-cu12, msgspec, nvidia-cusparse-cu12, nvidia-cufft-cu12, nvidia-cudnn-cu12, tyro, nvidia-cusolver-cu12, torch, datasets, xformers, torchvision, cut_cross_entropy, bitsandbytes, trl, unsloth_zoo, unsloth\n",
            "  Attempting uninstall: nvidia-cusparselt-cu12\n",
            "    Found existing installation: nvidia-cusparselt-cu12 0.6.2\n",
            "    Uninstalling nvidia-cusparselt-cu12-0.6.2:\n",
            "      Successfully uninstalled nvidia-cusparselt-cu12-0.6.2\n",
            "  Attempting uninstall: triton\n",
            "    Found existing installation: triton 3.2.0\n",
            "    Uninstalling triton-3.2.0:\n",
            "      Successfully uninstalled triton-3.2.0\n",
            "  Attempting uninstall: sympy\n",
            "    Found existing installation: sympy 1.13.1\n",
            "    Uninstalling sympy-1.13.1:\n",
            "      Successfully uninstalled sympy-1.13.1\n",
            "  Attempting uninstall: nvidia-nvtx-cu12\n",
            "    Found existing installation: nvidia-nvtx-cu12 12.4.127\n",
            "    Uninstalling nvidia-nvtx-cu12-12.4.127:\n",
            "      Successfully uninstalled nvidia-nvtx-cu12-12.4.127\n",
            "  Attempting uninstall: nvidia-nvjitlink-cu12\n",
            "    Found existing installation: nvidia-nvjitlink-cu12 12.5.82\n",
            "    Uninstalling nvidia-nvjitlink-cu12-12.5.82:\n",
            "      Successfully uninstalled nvidia-nvjitlink-cu12-12.5.82\n",
            "  Attempting uninstall: nvidia-nccl-cu12\n",
            "    Found existing installation: nvidia-nccl-cu12 2.23.4\n",
            "    Uninstalling nvidia-nccl-cu12-2.23.4:\n",
            "      Successfully uninstalled nvidia-nccl-cu12-2.23.4\n",
            "  Attempting uninstall: nvidia-curand-cu12\n",
            "    Found existing installation: nvidia-curand-cu12 10.3.6.82\n",
            "    Uninstalling nvidia-curand-cu12-10.3.6.82:\n",
            "      Successfully uninstalled nvidia-curand-cu12-10.3.6.82\n",
            "  Attempting uninstall: nvidia-cuda-runtime-cu12\n",
            "    Found existing installation: nvidia-cuda-runtime-cu12 12.5.82\n",
            "    Uninstalling nvidia-cuda-runtime-cu12-12.5.82:\n",
            "      Successfully uninstalled nvidia-cuda-runtime-cu12-12.5.82\n",
            "  Attempting uninstall: nvidia-cuda-nvrtc-cu12\n",
            "    Found existing installation: nvidia-cuda-nvrtc-cu12 12.5.82\n",
            "    Uninstalling nvidia-cuda-nvrtc-cu12-12.5.82:\n",
            "      Successfully uninstalled nvidia-cuda-nvrtc-cu12-12.5.82\n",
            "  Attempting uninstall: nvidia-cuda-cupti-cu12\n",
            "    Found existing installation: nvidia-cuda-cupti-cu12 12.5.82\n",
            "    Uninstalling nvidia-cuda-cupti-cu12-12.5.82:\n",
            "      Successfully uninstalled nvidia-cuda-cupti-cu12-12.5.82\n",
            "  Attempting uninstall: nvidia-cublas-cu12\n",
            "    Found existing installation: nvidia-cublas-cu12 12.5.3.2\n",
            "    Uninstalling nvidia-cublas-cu12-12.5.3.2:\n",
            "      Successfully uninstalled nvidia-cublas-cu12-12.5.3.2\n",
            "  Attempting uninstall: nvidia-cusparse-cu12\n",
            "    Found existing installation: nvidia-cusparse-cu12 12.5.1.3\n",
            "    Uninstalling nvidia-cusparse-cu12-12.5.1.3:\n",
            "      Successfully uninstalled nvidia-cusparse-cu12-12.5.1.3\n",
            "  Attempting uninstall: nvidia-cufft-cu12\n",
            "    Found existing installation: nvidia-cufft-cu12 11.2.3.61\n",
            "    Uninstalling nvidia-cufft-cu12-11.2.3.61:\n",
            "      Successfully uninstalled nvidia-cufft-cu12-11.2.3.61\n",
            "  Attempting uninstall: nvidia-cudnn-cu12\n",
            "    Found existing installation: nvidia-cudnn-cu12 9.3.0.75\n",
            "    Uninstalling nvidia-cudnn-cu12-9.3.0.75:\n",
            "      Successfully uninstalled nvidia-cudnn-cu12-9.3.0.75\n",
            "  Attempting uninstall: nvidia-cusolver-cu12\n",
            "    Found existing installation: nvidia-cusolver-cu12 11.6.3.83\n",
            "    Uninstalling nvidia-cusolver-cu12-11.6.3.83:\n",
            "      Successfully uninstalled nvidia-cusolver-cu12-11.6.3.83\n",
            "  Attempting uninstall: torch\n",
            "    Found existing installation: torch 2.6.0+cu124\n",
            "    Uninstalling torch-2.6.0+cu124:\n",
            "      Successfully uninstalled torch-2.6.0+cu124\n",
            "  Attempting uninstall: datasets\n",
            "    Found existing installation: datasets 4.0.0\n",
            "    Uninstalling datasets-4.0.0:\n",
            "      Successfully uninstalled datasets-4.0.0\n",
            "  Attempting uninstall: torchvision\n",
            "    Found existing installation: torchvision 0.21.0+cu124\n",
            "    Uninstalling torchvision-0.21.0+cu124:\n",
            "      Successfully uninstalled torchvision-0.21.0+cu124\n",
            "\u001b[31mERROR: pip's dependency resolver does not currently take into account all the packages that are installed. This behaviour is the source of the following dependency conflicts.\n",
            "torchaudio 2.6.0+cu124 requires torch==2.6.0, but you have torch 2.8.0 which is incompatible.\n",
            "fastai 2.7.19 requires torch<2.7,>=1.10, but you have torch 2.8.0 which is incompatible.\u001b[0m\u001b[31m\n",
            "\u001b[0mSuccessfully installed bitsandbytes-0.47.0 cut_cross_entropy-25.1.1 datasets-3.6.0 msgspec-0.19.0 nvidia-cublas-cu12-12.8.4.1 nvidia-cuda-cupti-cu12-12.8.90 nvidia-cuda-nvrtc-cu12-12.8.93 nvidia-cuda-runtime-cu12-12.8.90 nvidia-cudnn-cu12-9.10.2.21 nvidia-cufft-cu12-11.3.3.83 nvidia-cufile-cu12-1.13.1.3 nvidia-curand-cu12-10.3.9.90 nvidia-cusolver-cu12-11.7.3.90 nvidia-cusparse-cu12-12.5.8.93 nvidia-cusparselt-cu12-0.7.1 nvidia-nccl-cu12-2.27.3 nvidia-nvjitlink-cu12-12.8.93 nvidia-nvtx-cu12-12.8.90 shtab-1.7.2 sympy-1.14.0 torch-2.8.0 torchvision-0.23.0 triton-3.4.0 trl-0.21.0 tyro-0.9.28 unsloth-2025.8.6 unsloth_zoo-2025.8.5 xformers-0.0.32.post2\n"
          ]
        }
      ],
      "source": [
        "pip install unsloth"
      ]
    },
    {
      "cell_type": "markdown",
      "metadata": {
        "id": "lfir057jkmf3"
      },
      "source": [
        "## import libraries"
      ]
    },
    {
      "cell_type": "code",
      "execution_count": 1,
      "metadata": {
        "colab": {
          "base_uri": "https://localhost:8080/"
        },
        "id": "WJ5gSqW4O6zC",
        "outputId": "5ffe96ba-6d48-4dbc-c35f-cb0536f60c29"
      },
      "outputs": [
        {
          "name": "stdout",
          "output_type": "stream",
          "text": [
            "🦥 Unsloth: Will patch your computer to enable 2x faster free finetuning.\n",
            "🦥 Unsloth Zoo will now patch everything to make training faster!\n"
          ]
        },
        {
          "name": "stderr",
          "output_type": "stream",
          "text": [
            "Using the `WANDB_DISABLED` environment variable is deprecated and will be removed in v5. Use the --report_to flag to control the integrations used for logging result (for instance --report_to none).\n",
            "Using the `WANDB_DISABLED` environment variable is deprecated and will be removed in v5. Use the --report_to flag to control the integrations used for logging result (for instance --report_to none).\n",
            "Using the `WANDB_DISABLED` environment variable is deprecated and will be removed in v5. Use the --report_to flag to control the integrations used for logging result (for instance --report_to none).\n",
            "Using the `WANDB_DISABLED` environment variable is deprecated and will be removed in v5. Use the --report_to flag to control the integrations used for logging result (for instance --report_to none).\n",
            "Using the `WANDB_DISABLED` environment variable is deprecated and will be removed in v5. Use the --report_to flag to control the integrations used for logging result (for instance --report_to none).\n",
            "Using the `WANDB_DISABLED` environment variable is deprecated and will be removed in v5. Use the --report_to flag to control the integrations used for logging result (for instance --report_to none).\n",
            "Using the `WANDB_DISABLED` environment variable is deprecated and will be removed in v5. Use the --report_to flag to control the integrations used for logging result (for instance --report_to none).\n",
            "Using the `WANDB_DISABLED` environment variable is deprecated and will be removed in v5. Use the --report_to flag to control the integrations used for logging result (for instance --report_to none).\n",
            "Using the `WANDB_DISABLED` environment variable is deprecated and will be removed in v5. Use the --report_to flag to control the integrations used for logging result (for instance --report_to none).\n",
            "Using the `WANDB_DISABLED` environment variable is deprecated and will be removed in v5. Use the --report_to flag to control the integrations used for logging result (for instance --report_to none).\n",
            "Using the `WANDB_DISABLED` environment variable is deprecated and will be removed in v5. Use the --report_to flag to control the integrations used for logging result (for instance --report_to none).\n",
            "Using the `WANDB_DISABLED` environment variable is deprecated and will be removed in v5. Use the --report_to flag to control the integrations used for logging result (for instance --report_to none).\n",
            "Using the `WANDB_DISABLED` environment variable is deprecated and will be removed in v5. Use the --report_to flag to control the integrations used for logging result (for instance --report_to none).\n",
            "Using the `WANDB_DISABLED` environment variable is deprecated and will be removed in v5. Use the --report_to flag to control the integrations used for logging result (for instance --report_to none).\n",
            "Using the `WANDB_DISABLED` environment variable is deprecated and will be removed in v5. Use the --report_to flag to control the integrations used for logging result (for instance --report_to none).\n",
            "Using the `WANDB_DISABLED` environment variable is deprecated and will be removed in v5. Use the --report_to flag to control the integrations used for logging result (for instance --report_to none).\n",
            "Using the `WANDB_DISABLED` environment variable is deprecated and will be removed in v5. Use the --report_to flag to control the integrations used for logging result (for instance --report_to none).\n",
            "Using the `WANDB_DISABLED` environment variable is deprecated and will be removed in v5. Use the --report_to flag to control the integrations used for logging result (for instance --report_to none).\n",
            "Using the `WANDB_DISABLED` environment variable is deprecated and will be removed in v5. Use the --report_to flag to control the integrations used for logging result (for instance --report_to none).\n"
          ]
        }
      ],
      "source": [
        "import os\n",
        "os.environ[\"WANDB_DISABLED\"] = \"true\"\n",
        "\n",
        "try:\n",
        "    import unsloth\n",
        "except ImportError:\n",
        "    print(\"Installing Unsloth...\")\n",
        "    os.system(\"pip install 'unsloth[colab-new]' --quiet\")\n",
        "    import unsloth\n",
        "\n",
        "import re\n",
        "import gc,random\n",
        "import torch\n",
        "import matplotlib.pyplot as plt\n",
        "import pandas as pd\n",
        "from datasets import load_dataset, Dataset\n",
        "from transformers import set_seed\n",
        "from unsloth import FastLanguageModel\n",
        "from trl import GRPOConfig, GRPOTrainer\n",
        "from tqdm import tqdm\n",
        "from sklearn.metrics import accuracy_score, f1_score\n",
        "from collections import Counter\n",
        "import math\n",
        "from huggingface_hub import HfApi\n",
        "import json\n",
        "from typing import Callable, List, Dict, Any, Optional, Tuple ,Any\n",
        "from peft import PeftModel"
      ]
    },
    {
      "cell_type": "markdown",
      "metadata": {
        "id": "4hYfXSGiA_J0"
      },
      "source": [
        "## Hyper parameters:"
      ]
    },
    {
      "cell_type": "code",
      "execution_count": 2,
      "metadata": {
        "id": "pz9C_DZFO88X"
      },
      "outputs": [],
      "source": [
        "set_seed(3407)\n",
        "torch.manual_seed(3407)\n",
        "\n",
        "MAX_PROMPT_LEN   = 512\n",
        "MAX_COMPLETION_LEN = 700\n",
        "LORA_RANK        = 64\n",
        "MODEL_NAME       = \"Qwen/Qwen3-4B\"\n",
        "\n",
        "DATASET_NAME = \"openai/gsm8k\"\n",
        "GRPO_OUTPUT_DIR = \"outputs_grpo\"\n",
        "ADAPTER_REPO = \"tahamajs/Qwen3-4b-gsm8k-Qlora-GRPO\"\n",
        "ADAPTER_DIR = \"addapter-grpo\"\n",
        "DATASET_SPLIT = \"test\"\n",
        "BATCH_SIZE = 5\n",
        "NUM_SAMPLES = 5\n",
        "\n",
        "W_STRICT = 0.5\n",
        "W_SOFT   = 0.3\n",
        "W_XML    = 0.2\n",
        "W_CORR   = 2.0\n",
        "\n",
        "W_LEN_SHAPING = 0.1\n",
        "W_REPEAT_PEN  = 0.1\n",
        "\n",
        "NUM_GENERATIONS = 4\n",
        "\n",
        "W_STRICT = 0.5\n",
        "W_SOFT   = 0.3\n",
        "W_XML    = 0.2\n",
        "W_CORR   = 2.0\n",
        "\n",
        "PRINT_EVERY = 50\n",
        "SHOW_SAMPLES = 0"
      ]
    },
    {
      "cell_type": "code",
      "execution_count": 3,
      "metadata": {
        "id": "JpFKEKRgApUh"
      },
      "outputs": [],
      "source": [
        "_RE_STRICT = re.compile(\n",
        "    r\"^\\s*<reasoning>\\s*(.*?)\\s*</reasoning>\\s*<answer>\\s*(.*?)\\s*</answer>\\s*$\",\n",
        "    re.DOTALL,\n",
        ")\n",
        "_NUM_RE = re.compile(r\"[-+]?\\d*\\.\\d+|\\d+\")\n",
        "\n",
        "\n",
        "_RE_SOFT = re.compile(\n",
        "    r\"<reasoning>.*?</reasoning>\\s*<answer>.*?</answer>\",\n",
        "    re.DOTALL,\n",
        ")\n",
        "\n",
        "_RE_NUM = re.compile(r\"([+-]?\\d{1,3}(?:,\\d{3})*(?:\\.\\d+)?|[+-]?\\d+(?:\\.\\d+)?)\")"
      ]
    },
    {
      "cell_type": "markdown",
      "metadata": {
        "id": "lf2N8ILTBDBk"
      },
      "source": [
        "## Loading Model"
      ]
    },
    {
      "cell_type": "markdown",
      "metadata": {
        "id": "hXYEcOz0Q7IT"
      },
      "source": [
        "### load base model for training"
      ]
    },
    {
      "cell_type": "code",
      "execution_count": 5,
      "metadata": {
        "colab": {
          "base_uri": "https://localhost:8080/"
        },
        "id": "Demg5Aq9PHRF",
        "outputId": "8a0120b4-8748-4686-bfa5-cc425445d1c9"
      },
      "outputs": [
        {
          "name": "stdout",
          "output_type": "stream",
          "text": [
            "==((====))==  Unsloth 2025.8.6: Fast Qwen3 patching. Transformers: 4.55.1.\n",
            "   \\\\   /|    Tesla T4. Num GPUs = 1. Max memory: 14.741 GB. Platform: Linux.\n",
            "O^O/ \\_/ \\    Torch: 2.8.0+cu128. CUDA: 7.5. CUDA Toolkit: 12.8. Triton: 3.4.0\n",
            "\\        /    Bfloat16 = FALSE. FA [Xformers = 0.0.32.post2. FA2 = False]\n",
            " \"-____-\"     Free license: http://github.com/unslothai/unsloth\n",
            "Unsloth: Fast downloading is enabled - ignore downloading bars which are red colored!\n"
          ]
        },
        {
          "data": {
            "text/plain": [
              "Qwen3ForCausalLM(\n",
              "  (model): Qwen3Model(\n",
              "    (embed_tokens): Embedding(151936, 2560, padding_idx=151654)\n",
              "    (layers): ModuleList(\n",
              "      (0-1): 2 x Qwen3DecoderLayer(\n",
              "        (self_attn): Qwen3Attention(\n",
              "          (q_proj): Linear(in_features=2560, out_features=4096, bias=False)\n",
              "          (k_proj): Linear(in_features=2560, out_features=1024, bias=False)\n",
              "          (v_proj): Linear(in_features=2560, out_features=1024, bias=False)\n",
              "          (o_proj): Linear(in_features=4096, out_features=2560, bias=False)\n",
              "          (q_norm): Qwen3RMSNorm((128,), eps=1e-06)\n",
              "          (k_norm): Qwen3RMSNorm((128,), eps=1e-06)\n",
              "          (rotary_emb): LlamaRotaryEmbedding()\n",
              "        )\n",
              "        (mlp): Qwen3MLP(\n",
              "          (gate_proj): Linear(in_features=2560, out_features=9728, bias=False)\n",
              "          (up_proj): Linear(in_features=2560, out_features=9728, bias=False)\n",
              "          (down_proj): Linear(in_features=9728, out_features=2560, bias=False)\n",
              "          (act_fn): SiLU()\n",
              "        )\n",
              "        (input_layernorm): Qwen3RMSNorm((2560,), eps=1e-06)\n",
              "        (post_attention_layernorm): Qwen3RMSNorm((2560,), eps=1e-06)\n",
              "      )\n",
              "      (2): Qwen3DecoderLayer(\n",
              "        (self_attn): Qwen3Attention(\n",
              "          (q_proj): Linear4bit(in_features=2560, out_features=4096, bias=False)\n",
              "          (k_proj): Linear4bit(in_features=2560, out_features=1024, bias=False)\n",
              "          (v_proj): Linear4bit(in_features=2560, out_features=1024, bias=False)\n",
              "          (o_proj): Linear4bit(in_features=4096, out_features=2560, bias=False)\n",
              "          (q_norm): Qwen3RMSNorm((128,), eps=1e-06)\n",
              "          (k_norm): Qwen3RMSNorm((128,), eps=1e-06)\n",
              "          (rotary_emb): LlamaRotaryEmbedding()\n",
              "        )\n",
              "        (mlp): Qwen3MLP(\n",
              "          (gate_proj): Linear4bit(in_features=2560, out_features=9728, bias=False)\n",
              "          (up_proj): Linear4bit(in_features=2560, out_features=9728, bias=False)\n",
              "          (down_proj): Linear4bit(in_features=9728, out_features=2560, bias=False)\n",
              "          (act_fn): SiLU()\n",
              "        )\n",
              "        (input_layernorm): Qwen3RMSNorm((2560,), eps=1e-06)\n",
              "        (post_attention_layernorm): Qwen3RMSNorm((2560,), eps=1e-06)\n",
              "      )\n",
              "      (3): Qwen3DecoderLayer(\n",
              "        (self_attn): Qwen3Attention(\n",
              "          (q_proj): Linear4bit(in_features=2560, out_features=4096, bias=False)\n",
              "          (k_proj): Linear4bit(in_features=2560, out_features=1024, bias=False)\n",
              "          (v_proj): Linear4bit(in_features=2560, out_features=1024, bias=False)\n",
              "          (o_proj): Linear4bit(in_features=4096, out_features=2560, bias=False)\n",
              "          (q_norm): Qwen3RMSNorm((128,), eps=1e-06)\n",
              "          (k_norm): Qwen3RMSNorm((128,), eps=1e-06)\n",
              "          (rotary_emb): LlamaRotaryEmbedding()\n",
              "        )\n",
              "        (mlp): Qwen3MLP(\n",
              "          (gate_proj): Linear(in_features=2560, out_features=9728, bias=False)\n",
              "          (up_proj): Linear(in_features=2560, out_features=9728, bias=False)\n",
              "          (down_proj): Linear(in_features=9728, out_features=2560, bias=False)\n",
              "          (act_fn): SiLU()\n",
              "        )\n",
              "        (input_layernorm): Qwen3RMSNorm((2560,), eps=1e-06)\n",
              "        (post_attention_layernorm): Qwen3RMSNorm((2560,), eps=1e-06)\n",
              "      )\n",
              "      (4): Qwen3DecoderLayer(\n",
              "        (self_attn): Qwen3Attention(\n",
              "          (q_proj): Linear(in_features=2560, out_features=4096, bias=False)\n",
              "          (k_proj): Linear(in_features=2560, out_features=1024, bias=False)\n",
              "          (v_proj): Linear(in_features=2560, out_features=1024, bias=False)\n",
              "          (o_proj): Linear(in_features=4096, out_features=2560, bias=False)\n",
              "          (q_norm): Qwen3RMSNorm((128,), eps=1e-06)\n",
              "          (k_norm): Qwen3RMSNorm((128,), eps=1e-06)\n",
              "          (rotary_emb): LlamaRotaryEmbedding()\n",
              "        )\n",
              "        (mlp): Qwen3MLP(\n",
              "          (gate_proj): Linear(in_features=2560, out_features=9728, bias=False)\n",
              "          (up_proj): Linear(in_features=2560, out_features=9728, bias=False)\n",
              "          (down_proj): Linear(in_features=9728, out_features=2560, bias=False)\n",
              "          (act_fn): SiLU()\n",
              "        )\n",
              "        (input_layernorm): Qwen3RMSNorm((2560,), eps=1e-06)\n",
              "        (post_attention_layernorm): Qwen3RMSNorm((2560,), eps=1e-06)\n",
              "      )\n",
              "      (5): Qwen3DecoderLayer(\n",
              "        (self_attn): Qwen3Attention(\n",
              "          (q_proj): Linear4bit(in_features=2560, out_features=4096, bias=False)\n",
              "          (k_proj): Linear4bit(in_features=2560, out_features=1024, bias=False)\n",
              "          (v_proj): Linear4bit(in_features=2560, out_features=1024, bias=False)\n",
              "          (o_proj): Linear4bit(in_features=4096, out_features=2560, bias=False)\n",
              "          (q_norm): Qwen3RMSNorm((128,), eps=1e-06)\n",
              "          (k_norm): Qwen3RMSNorm((128,), eps=1e-06)\n",
              "          (rotary_emb): LlamaRotaryEmbedding()\n",
              "        )\n",
              "        (mlp): Qwen3MLP(\n",
              "          (gate_proj): Linear4bit(in_features=2560, out_features=9728, bias=False)\n",
              "          (up_proj): Linear4bit(in_features=2560, out_features=9728, bias=False)\n",
              "          (down_proj): Linear4bit(in_features=9728, out_features=2560, bias=False)\n",
              "          (act_fn): SiLU()\n",
              "        )\n",
              "        (input_layernorm): Qwen3RMSNorm((2560,), eps=1e-06)\n",
              "        (post_attention_layernorm): Qwen3RMSNorm((2560,), eps=1e-06)\n",
              "      )\n",
              "      (6): Qwen3DecoderLayer(\n",
              "        (self_attn): Qwen3Attention(\n",
              "          (q_proj): Linear(in_features=2560, out_features=4096, bias=False)\n",
              "          (k_proj): Linear(in_features=2560, out_features=1024, bias=False)\n",
              "          (v_proj): Linear(in_features=2560, out_features=1024, bias=False)\n",
              "          (o_proj): Linear(in_features=4096, out_features=2560, bias=False)\n",
              "          (q_norm): Qwen3RMSNorm((128,), eps=1e-06)\n",
              "          (k_norm): Qwen3RMSNorm((128,), eps=1e-06)\n",
              "          (rotary_emb): LlamaRotaryEmbedding()\n",
              "        )\n",
              "        (mlp): Qwen3MLP(\n",
              "          (gate_proj): Linear(in_features=2560, out_features=9728, bias=False)\n",
              "          (up_proj): Linear(in_features=2560, out_features=9728, bias=False)\n",
              "          (down_proj): Linear(in_features=9728, out_features=2560, bias=False)\n",
              "          (act_fn): SiLU()\n",
              "        )\n",
              "        (input_layernorm): Qwen3RMSNorm((2560,), eps=1e-06)\n",
              "        (post_attention_layernorm): Qwen3RMSNorm((2560,), eps=1e-06)\n",
              "      )\n",
              "      (7-32): 26 x Qwen3DecoderLayer(\n",
              "        (self_attn): Qwen3Attention(\n",
              "          (q_proj): Linear4bit(in_features=2560, out_features=4096, bias=False)\n",
              "          (k_proj): Linear4bit(in_features=2560, out_features=1024, bias=False)\n",
              "          (v_proj): Linear4bit(in_features=2560, out_features=1024, bias=False)\n",
              "          (o_proj): Linear4bit(in_features=4096, out_features=2560, bias=False)\n",
              "          (q_norm): Qwen3RMSNorm((128,), eps=1e-06)\n",
              "          (k_norm): Qwen3RMSNorm((128,), eps=1e-06)\n",
              "          (rotary_emb): LlamaRotaryEmbedding()\n",
              "        )\n",
              "        (mlp): Qwen3MLP(\n",
              "          (gate_proj): Linear4bit(in_features=2560, out_features=9728, bias=False)\n",
              "          (up_proj): Linear4bit(in_features=2560, out_features=9728, bias=False)\n",
              "          (down_proj): Linear4bit(in_features=9728, out_features=2560, bias=False)\n",
              "          (act_fn): SiLU()\n",
              "        )\n",
              "        (input_layernorm): Qwen3RMSNorm((2560,), eps=1e-06)\n",
              "        (post_attention_layernorm): Qwen3RMSNorm((2560,), eps=1e-06)\n",
              "      )\n",
              "      (33): Qwen3DecoderLayer(\n",
              "        (self_attn): Qwen3Attention(\n",
              "          (q_proj): Linear(in_features=2560, out_features=4096, bias=False)\n",
              "          (k_proj): Linear(in_features=2560, out_features=1024, bias=False)\n",
              "          (v_proj): Linear(in_features=2560, out_features=1024, bias=False)\n",
              "          (o_proj): Linear(in_features=4096, out_features=2560, bias=False)\n",
              "          (q_norm): Qwen3RMSNorm((128,), eps=1e-06)\n",
              "          (k_norm): Qwen3RMSNorm((128,), eps=1e-06)\n",
              "          (rotary_emb): LlamaRotaryEmbedding()\n",
              "        )\n",
              "        (mlp): Qwen3MLP(\n",
              "          (gate_proj): Linear4bit(in_features=2560, out_features=9728, bias=False)\n",
              "          (up_proj): Linear4bit(in_features=2560, out_features=9728, bias=False)\n",
              "          (down_proj): Linear4bit(in_features=9728, out_features=2560, bias=False)\n",
              "          (act_fn): SiLU()\n",
              "        )\n",
              "        (input_layernorm): Qwen3RMSNorm((2560,), eps=1e-06)\n",
              "        (post_attention_layernorm): Qwen3RMSNorm((2560,), eps=1e-06)\n",
              "      )\n",
              "      (34): Qwen3DecoderLayer(\n",
              "        (self_attn): Qwen3Attention(\n",
              "          (q_proj): Linear(in_features=2560, out_features=4096, bias=False)\n",
              "          (k_proj): Linear(in_features=2560, out_features=1024, bias=False)\n",
              "          (v_proj): Linear(in_features=2560, out_features=1024, bias=False)\n",
              "          (o_proj): Linear(in_features=4096, out_features=2560, bias=False)\n",
              "          (q_norm): Qwen3RMSNorm((128,), eps=1e-06)\n",
              "          (k_norm): Qwen3RMSNorm((128,), eps=1e-06)\n",
              "          (rotary_emb): LlamaRotaryEmbedding()\n",
              "        )\n",
              "        (mlp): Qwen3MLP(\n",
              "          (gate_proj): Linear(in_features=2560, out_features=9728, bias=False)\n",
              "          (up_proj): Linear(in_features=2560, out_features=9728, bias=False)\n",
              "          (down_proj): Linear(in_features=9728, out_features=2560, bias=False)\n",
              "          (act_fn): SiLU()\n",
              "        )\n",
              "        (input_layernorm): Qwen3RMSNorm((2560,), eps=1e-06)\n",
              "        (post_attention_layernorm): Qwen3RMSNorm((2560,), eps=1e-06)\n",
              "      )\n",
              "      (35): Qwen3DecoderLayer(\n",
              "        (self_attn): Qwen3Attention(\n",
              "          (q_proj): Linear4bit(in_features=2560, out_features=4096, bias=False)\n",
              "          (k_proj): Linear4bit(in_features=2560, out_features=1024, bias=False)\n",
              "          (v_proj): Linear4bit(in_features=2560, out_features=1024, bias=False)\n",
              "          (o_proj): Linear4bit(in_features=4096, out_features=2560, bias=False)\n",
              "          (q_norm): Qwen3RMSNorm((128,), eps=1e-06)\n",
              "          (k_norm): Qwen3RMSNorm((128,), eps=1e-06)\n",
              "          (rotary_emb): LlamaRotaryEmbedding()\n",
              "        )\n",
              "        (mlp): Qwen3MLP(\n",
              "          (gate_proj): Linear4bit(in_features=2560, out_features=9728, bias=False)\n",
              "          (up_proj): Linear4bit(in_features=2560, out_features=9728, bias=False)\n",
              "          (down_proj): Linear4bit(in_features=9728, out_features=2560, bias=False)\n",
              "          (act_fn): SiLU()\n",
              "        )\n",
              "        (input_layernorm): Qwen3RMSNorm((2560,), eps=1e-06)\n",
              "        (post_attention_layernorm): Qwen3RMSNorm((2560,), eps=1e-06)\n",
              "      )\n",
              "    )\n",
              "    (norm): Qwen3RMSNorm((2560,), eps=1e-06)\n",
              "    (rotary_emb): LlamaRotaryEmbedding()\n",
              "  )\n",
              "  (lm_head): Linear(in_features=2560, out_features=151936, bias=False)\n",
              ")"
            ]
          },
          "execution_count": 5,
          "metadata": {},
          "output_type": "execute_result"
        }
      ],
      "source": [
        "model, tokenizer = FastLanguageModel.from_pretrained(\n",
        "    model_name       = MODEL_NAME,\n",
        "    max_seq_length   = MAX_PROMPT_LEN + MAX_COMPLETION_LEN,\n",
        "    load_in_4bit     = True,\n",
        "    dtype            = None,\n",
        ")\n",
        "\n",
        "FastLanguageModel.for_training(model)\n",
        "\n"
      ]
    },
    {
      "cell_type": "code",
      "execution_count": null,
      "metadata": {
        "id": "-47XaIQ8R6hV"
      },
      "outputs": [],
      "source": [
        "model = FastLanguageModel.get_peft_model(\n",
        "    model,\n",
        "    r = LORA_RANK,\n",
        "    lora_alpha = LORA_RANK,\n",
        "    lora_dropout = 0.05,\n",
        "    target_modules = [\"q_proj\",\"k_proj\",\"v_proj\",\"o_proj\",\"gate_proj\",\"up_proj\",\"down_proj\"],\n",
        "    use_gradient_checkpointing = False,\n",
        "    random_state = 3497,\n",
        ")"
      ]
    },
    {
      "cell_type": "markdown",
      "metadata": {
        "id": "4iBBhm8IQ_98"
      },
      "source": [
        "### load adapter from huggingface"
      ]
    },
    {
      "cell_type": "code",
      "execution_count": 4,
      "metadata": {
        "colab": {
          "base_uri": "https://localhost:8080/"
        },
        "id": "QbWgA63vRFro",
        "outputId": "2d8c7334-f2b6-4adf-968c-96f6ea5d8bd2"
      },
      "outputs": [
        {
          "name": "stdout",
          "output_type": "stream",
          "text": [
            "==((====))==  Unsloth 2025.8.6: Fast Qwen3 patching. Transformers: 4.55.1.\n",
            "   \\\\   /|    Tesla T4. Num GPUs = 1. Max memory: 14.741 GB. Platform: Linux.\n",
            "O^O/ \\_/ \\    Torch: 2.8.0+cu128. CUDA: 7.5. CUDA Toolkit: 12.8. Triton: 3.4.0\n",
            "\\        /    Bfloat16 = FALSE. FA [Xformers = 0.0.32.post2. FA2 = False]\n",
            " \"-____-\"     Free license: http://github.com/unslothai/unsloth\n",
            "Unsloth: Fast downloading is enabled - ignore downloading bars which are red colored!\n"
          ]
        }
      ],
      "source": [
        "model, tokenizer = FastLanguageModel.from_pretrained(\n",
        "    model_name=MODEL_NAME,\n",
        "    load_in_4bit=True,\n",
        "    dtype=None,\n",
        "    device_map=\"auto\",\n",
        ")\n",
        "\n"
      ]
    },
    {
      "cell_type": "code",
      "execution_count": 5,
      "metadata": {
        "id": "KMvM6Hd9ziLh"
      },
      "outputs": [],
      "source": [
        "model = PeftModel.from_pretrained(\n",
        "    model,\n",
        "    ADAPTER_REPO,\n",
        "    is_trainable=True,\n",
        ")\n"
      ]
    },
    {
      "cell_type": "markdown",
      "metadata": {
        "id": "rdw5ao6Nied9"
      },
      "source": [
        "### System Prompt:"
      ]
    },
    {
      "cell_type": "code",
      "execution_count": 6,
      "metadata": {
        "id": "QHGEoJ4UPN63"
      },
      "outputs": [],
      "source": [
        "SYSTEM_PROMPT = (\n",
        "    \"You are a helpful assistant.\\n\"\n",
        "    \"First think through the problem, then provide the answer.\\n\"\n",
        "    \"Use this strict format:\\n\"\n",
        "    \"<reasoning>\\n\"\n",
        "    \"your step-by-step reasoning here\\n\"\n",
        "    \"</reasoning>\\n\"\n",
        "    \"<answer>\\n\"\n",
        "    \"The final answer is [final_number].\\n\"\n",
        "    \"</answer>\\n\"\n",
        ")"
      ]
    },
    {
      "cell_type": "markdown",
      "metadata": {
        "id": "1_VdJke_15sd"
      },
      "source": [
        "## Helper Functions:\n"
      ]
    },
    {
      "cell_type": "code",
      "execution_count": 7,
      "metadata": {
        "colab": {
          "base_uri": "https://localhost:8080/"
        },
        "id": "tkKvle3ZPI1X",
        "outputId": "f16c3cfe-f3a1-4979-deea-5015d3e3f68f"
      },
      "outputs": [
        {
          "name": "stdout",
          "output_type": "stream",
          "text": [
            "---- formatted prompt ----\n",
            "<|im_start|>system\n",
            "You are a helpful math assistant.<|im_end|>\n",
            "<|im_start|>user\n",
            "What is 2 + 2?<|im_end|>\n",
            "<|im_start|>assistant\n",
            "\n",
            "Model setup with Unsloth and LoRA is complete.\n"
          ]
        }
      ],
      "source": [
        "def ensure_qwen_chat_template(tokenizer, force: bool = False):\n",
        "    if not force and getattr(tokenizer, \"chat_template\", None):\n",
        "        if tokenizer.pad_token is None and tokenizer.eos_token is not None:\n",
        "            tokenizer.pad_token = tokenizer.eos_token\n",
        "        return tokenizer\n",
        "\n",
        "    needed_specials = [\"<|im_start|>\", \"<|im_end|>\"]\n",
        "    to_add = [t for t in needed_specials if t not in tokenizer.get_vocab()]\n",
        "    if to_add:\n",
        "        tokenizer.add_special_tokens({\"additional_special_tokens\": to_add})\n",
        "\n",
        "    if tokenizer.pad_token is None and tokenizer.eos_token is not None:\n",
        "        tokenizer.pad_token = tokenizer.eos_token\n",
        "\n",
        "    tokenizer.chat_template = (\n",
        "        \"{% for message in messages %}\"\n",
        "        \"{% if message['role'] == 'system' %}\"\n",
        "        \"<|im_start|>system\\n{{ message['content'] }}<|im_end|>\\n\"\n",
        "        \"{% elif message['role'] == 'user' %}\"\n",
        "        \"<|im_start|>user\\n{{ message['content'] }}<|im_end|>\\n\"\n",
        "        \"{% elif message['role'] == 'assistant' %}\"\n",
        "        \"<|im_start|>assistant\\n{{ message['content'] }}<|im_end|>\\n\"\n",
        "        \"{% else %}\"\n",
        "        \"<|im_start|>{{ message['role'] }}\\n{{ message['content'] }}<|im_end|>\\n\"\n",
        "        \"{% endif %}\"\n",
        "        \"{% endfor %}\"\n",
        "        \"{% if add_generation_prompt %}<|im_start|>assistant\\n{% endif %}\"\n",
        "    )\n",
        "    return tokenizer\n",
        "\n",
        "tokenizer = ensure_qwen_chat_template(tokenizer)\n",
        "\n",
        "messages = [\n",
        "    {\"role\": \"system\", \"content\": \"You are a helpful math assistant.\"},\n",
        "    {\"role\": \"user\",   \"content\": \"What is 2 + 2?\"},\n",
        "]\n",
        "formatted = tokenizer.apply_chat_template(messages, tokenize=False, add_generation_prompt=True)\n",
        "print(\"---- formatted prompt ----\")\n",
        "print(formatted)\n",
        "\n",
        "print(\"Model setup with Unsloth and LoRA is complete.\")"
      ]
    },
    {
      "cell_type": "code",
      "execution_count": 8,
      "metadata": {
        "id": "47DI-0dOPPur"
      },
      "outputs": [],
      "source": [
        "def extract_hash_answer(text: str) -> str | None:\n",
        "    if text is None:\n",
        "        return None\n",
        "    m = re.search(r\"####\\s*([^\\n]+)\", text)\n",
        "    if not m:\n",
        "        return None\n",
        "    return m.group(1).strip().replace(\",\", \"\")\n",
        "\n",
        "def get_gsm8k(split=\"train\") -> Dataset:\n",
        "    ds = load_dataset(\"openai/gsm8k\", \"main\")[split]\n",
        "    ds = ds.map(lambda x: {\n",
        "        \"prompt\": [\n",
        "            {\"role\": \"system\", \"content\": SYSTEM_PROMPT},\n",
        "            {\"role\": \"user\",   \"content\": x[\"question\"]},\n",
        "        ],\n",
        "        \"answer\": extract_hash_answer(x[\"answer\"]),\n",
        "        \"question\": x[\"question\"],\n",
        "    })\n",
        "    ds = ds.filter(lambda x: x[\"answer\"] is not None and len(x[\"answer\"]) > 0)\n",
        "    return ds\n"
      ]
    },
    {
      "cell_type": "markdown",
      "metadata": {
        "id": "M0l67DJNNaMq"
      },
      "source": [
        "### Ploting Functions:"
      ]
    },
    {
      "cell_type": "code",
      "execution_count": 9,
      "metadata": {
        "id": "WGtKRFyoNaxS"
      },
      "outputs": [],
      "source": [
        "\n",
        "def plot_loss_curves(log_history, title=\"Training Progress\"):\n",
        "    \"\"\"Plots training and validation loss curves from Trainer log history.\"\"\"\n",
        "    print(f\"\\nPlotting loss curves for {title}...\")\n",
        "    train_logs = [log for log in log_history if 'loss' in log]\n",
        "    eval_logs = [log for log in log_history if 'eval_loss' in log]\n",
        "\n",
        "    plt.figure(figsize=(12, 6))\n",
        "    if train_logs:\n",
        "        plt.plot([log['step'] for log in train_logs],\n",
        "                 [log['loss'] for log in train_logs],\n",
        "                 label='Training Loss')\n",
        "    if eval_logs:\n",
        "        plt.plot([log['step'] for log in eval_logs],\n",
        "                 [log['eval_loss'] for log in eval_logs],\n",
        "                 marker='o',\n",
        "                 label='Validation Loss')\n",
        "\n",
        "    plt.title(f'Loss Curves - {title}')\n",
        "    plt.xlabel('Step')\n",
        "    plt.ylabel('Loss')\n",
        "    plt.legend()\n",
        "    plt.grid(True)\n",
        "    plt.show()\n",
        "\n",
        "\n",
        "def plot_metric(log_history, metric_name, title=None):\n",
        "    \"\"\"Plots a single metric over steps.\"\"\"\n",
        "    metric_logs = [log for log in log_history if metric_name in log]\n",
        "    if not metric_logs:\n",
        "        print(f\"No logs found for metric: {metric_name}\")\n",
        "        return\n",
        "\n",
        "    steps = [log['step'] for log in metric_logs]\n",
        "    values = [log[metric_name] for log in metric_logs]\n",
        "\n",
        "    plt.figure(figsize=(12, 6))\n",
        "    plt.plot(steps, values, marker='o')\n",
        "    plt.title(title or f'{metric_name} over Steps')\n",
        "    plt.xlabel('Step')\n",
        "    plt.ylabel(metric_name)\n",
        "    plt.grid(True)\n",
        "    plt.show()\n",
        "\n",
        "\n",
        "def plot_multiple_metrics(log_history, metric_names, title=\"Metrics Over Time\"):\n",
        "    \"\"\"Plots multiple metrics on the same figure.\"\"\"\n",
        "    plt.figure(figsize=(12, 6))\n",
        "    for metric_name in metric_names:\n",
        "        metric_logs = [log for log in log_history if metric_name in log]\n",
        "        if not metric_logs:\n",
        "            print(f\"Skipping {metric_name} (not found)\")\n",
        "            continue\n",
        "        steps = [log['step'] for log in metric_logs]\n",
        "        values = [log[metric_name] for log in metric_logs]\n",
        "        plt.plot(steps, values, marker='o', label=metric_name)\n",
        "\n",
        "    plt.title(title)\n",
        "    plt.xlabel('Step')\n",
        "    plt.ylabel('Value')\n",
        "    plt.legend()\n",
        "    plt.grid(True)\n",
        "    plt.show()\n",
        "\n",
        "\n",
        "def plot_reward_components(log_history, reward_names=None, every_n=1):\n",
        "    if reward_names is None:\n",
        "        keys = set().union(*log_history)\n",
        "        reward_names = [k for k in keys if k.startswith(\"reward\") or k.startswith(\"r_\")]\n",
        "\n",
        "    for reward_name in reward_names:\n",
        "        reward_logs = [log for log in log_history if reward_name in log]\n",
        "        if not reward_logs:\n",
        "            print(f\"Skipping reward {reward_name} (not found)\")\n",
        "            continue\n",
        "\n",
        "        steps = [log['step'] for log in reward_logs][::every_n]\n",
        "        values = [log[reward_name] for log in reward_logs][::every_n]\n",
        "\n",
        "        plt.figure(figsize=(12, 6))\n",
        "        plt.plot(steps, values, marker='o', label=reward_name)\n",
        "        plt.title(f'{reward_name} over Steps')\n",
        "        plt.xlabel('Step')\n",
        "        plt.ylabel('Reward')\n",
        "        plt.grid(True)\n",
        "        plt.legend()\n",
        "        plt.show()\n"
      ]
    },
    {
      "cell_type": "code",
      "execution_count": 10,
      "metadata": {
        "id": "BEUDjpve18-q"
      },
      "outputs": [],
      "source": [
        "def create_prompt(problem_text: str) -> str:\n",
        "    messages = [\n",
        "        {\"role\": \"system\", \"content\": SYSTEM_PROMPT},\n",
        "        {\"role\": \"user\", \"content\": problem_text},\n",
        "    ]\n",
        "    return tokenizer.apply_chat_template(\n",
        "        messages, tokenize=False, add_generation_prompt=True\n",
        "    )\n",
        "\n",
        "def extract_last_number(generated_text: str) -> str:\n",
        "    if not generated_text: return \"\"\n",
        "    numbers = re.findall(r\"[-+]?\\d*\\.\\d+|\\d+\", generated_text)\n",
        "    return numbers[-1] if numbers else \"\"\n",
        "\n",
        "\n",
        "def _extract_last_number(text: Optional[str]) -> str:\n",
        "    if not text: return \"\"\n",
        "    m = _NUM_RE.findall(text)\n",
        "    return m[-1] if m else \"\"\n",
        "\n",
        "def _get_question(ex: Dict[str, Any]) -> str:\n",
        "    if \"question\" in ex:\n",
        "        return ex[\"question\"]\n",
        "    if \"messages\" in ex and isinstance(ex[\"messages\"], list) and len(ex[\"messages\"]) >= 2:\n",
        "        return ex[\"messages\"][1].get(\"content\", \"\")\n",
        "    raise KeyError(\"Example is missing a 'question' or chat-style 'messages' field.\")\n",
        "\n",
        "def _get_reference_answer(ex: Dict[str, Any]) -> str:\n",
        "    if \"answer\" in ex and ex[\"answer\"] is not None and ex[\"answer\"] != \"\":\n",
        "        return str(ex[\"answer\"])\n",
        "    if \"answer_text\" in ex and ex[\"answer_text\"]:\n",
        "        return _extract_last_number(ex[\"answer_text\"])\n",
        "    if \"solution\" in ex:\n",
        "        return _extract_last_number(ex[\"solution\"])\n",
        "    return \"\"\n",
        "\n",
        "def _detect_model_dtype(model) -> Optional[torch.dtype]:\n",
        "    dt = getattr(getattr(model, \"config\", None), \"torch_dtype\", None)\n",
        "    if dt is None:\n",
        "        try:\n",
        "            dt = model.get_input_embeddings().weight.dtype\n",
        "        except Exception:\n",
        "            dt = None\n",
        "    return dt\n",
        "\n",
        "\n",
        "\n",
        "\n",
        "def evaluate_self_consistency(\n",
        "    model,\n",
        "    tokenizer,\n",
        "    dataset,\n",
        "    create_prompt: Callable[[str], str],\n",
        "    num_samples: int = 5,\n",
        "    batch_size: int = 8,\n",
        "    max_new_tokens: int = 512,\n",
        "    temperature: float = 0.7,\n",
        "    top_p: float = 0.9,\n",
        "    max_input_len: int = 2048,\n",
        "    verbose: bool = True,\n",
        ") -> Dict[str, Any]:\n",
        "    try:\n",
        "        tokenizer.padding_side = \"right\"\n",
        "    except Exception:\n",
        "        pass\n",
        "    if tokenizer.pad_token_id is None and tokenizer.eos_token_id is not None:\n",
        "        tokenizer.pad_token = tokenizer.eos_token\n",
        "\n",
        "    if hasattr(dataset, \"__len__\") and hasattr(dataset, \"__getitem__\"):\n",
        "        ds_len = len(dataset)\n",
        "        get_item = dataset.__getitem__\n",
        "    else:\n",
        "        raise TypeError(\"dataset must be indexable and have __len__ / __getitem__.\")\n",
        "\n",
        "    device = getattr(model, \"device\", torch.device(\"cuda\" if torch.cuda.is_available() else \"cpu\"))\n",
        "    model_dtype = _detect_model_dtype(model)\n",
        "\n",
        "    try:\n",
        "        model.gradient_checkpointing_disable()\n",
        "    except Exception:\n",
        "        pass\n",
        "    try:\n",
        "        model.config.use_cache = True\n",
        "    except Exception:\n",
        "        pass\n",
        "\n",
        "    model.eval()\n",
        "\n",
        "    if verbose:\n",
        "        print(f\"\\n--- Starting evaluation with Self-Consistency (samples: {num_samples}) ---\")\n",
        "\n",
        "    predictions: List[str] = []\n",
        "    references: List[str] = []\n",
        "\n",
        "    for i in tqdm(range(0, ds_len, batch_size), desc=\"Evaluating Batches\"):\n",
        "        batch = [get_item(k) for k in range(i, min(i + batch_size, ds_len))]\n",
        "\n",
        "        batch_questions = [_get_question(ex) for ex in batch]\n",
        "        batch_prompts   = [create_prompt(q) for q in batch_questions]\n",
        "        batch_refs      = [_get_reference_answer(ex) for ex in batch]\n",
        "\n",
        "        enc = tokenizer(\n",
        "            batch_prompts,\n",
        "            return_tensors=\"pt\",\n",
        "            padding=True,\n",
        "            truncation=True,\n",
        "            max_length=max_input_len,\n",
        "        )\n",
        "        enc = {k: v.to(device) for k, v in enc.items()}\n",
        "\n",
        "        with torch.no_grad():\n",
        "            use_autocast = (device.type == \"cuda\") and (model_dtype in (torch.float16, torch.bfloat16))\n",
        "            if use_autocast:\n",
        "                with torch.autocast(device_type=\"cuda\", dtype=model_dtype):\n",
        "                    outputs = model.generate(\n",
        "                        **enc,\n",
        "                        max_new_tokens=max_new_tokens,\n",
        "                        do_sample=True,\n",
        "                        temperature=temperature,\n",
        "                        top_p=top_p,\n",
        "                        num_return_sequences=num_samples,\n",
        "                        pad_token_id=tokenizer.eos_token_id,\n",
        "                    )\n",
        "            else:\n",
        "                outputs = model.generate(\n",
        "                    **enc,\n",
        "                    max_new_tokens=max_new_tokens,\n",
        "                    do_sample=True,\n",
        "                    temperature=temperature,\n",
        "                    top_p=top_p,\n",
        "                    num_return_sequences=num_samples,\n",
        "                    pad_token_id=tokenizer.eos_token_id,\n",
        "                )\n",
        "\n",
        "        decoded = tokenizer.batch_decode(outputs, skip_special_tokens=True)\n",
        "\n",
        "        for j, prompt in enumerate(batch_prompts):\n",
        "            start = j * num_samples\n",
        "            end   = start + num_samples\n",
        "            samples_for_prompt = decoded[start:end]\n",
        "\n",
        "            sample_answers: List[str] = []\n",
        "            for text in samples_for_prompt:\n",
        "                completion_only = text[len(prompt):]\n",
        "                ans = _extract_last_number(completion_only)\n",
        "                if ans:\n",
        "                    sample_answers.append(ans)\n",
        "\n",
        "            final_answer = \"\"\n",
        "            if sample_answers:\n",
        "                vote_counts = Counter(sample_answers)\n",
        "                final_answer = vote_counts.most_common(1)[0][0]\n",
        "\n",
        "            predictions.append(final_answer)\n",
        "            if verbose:\n",
        "                print(f\"Samples: {sample_answers} -> Voted: {final_answer}, Reference: {batch_refs[j]}\")\n",
        "\n",
        "        references.extend(batch_refs)\n",
        "\n",
        "    correct = sum(1 for p, r in zip(predictions, references) if (r != \"\" and p == r))\n",
        "    total = len(references)\n",
        "    acc = (correct / total) * 100 if total else 0.0\n",
        "\n",
        "    if verbose:\n",
        "        print(\"\\n--- Evaluation Complete ---\")\n",
        "        print(f\"Correct Answers: {correct} / {total}\")\n",
        "        print(f\"Accuracy: {acc:.2f}%\")\n",
        "\n",
        "    return {\n",
        "        \"accuracy\": acc,\n",
        "        \"correct\": correct,\n",
        "        \"total\": total,\n",
        "        \"predictions\": predictions,\n",
        "        \"references\": references,\n",
        "    }\n"
      ]
    },
    {
      "cell_type": "markdown",
      "metadata": {
        "id": "Qy6mCV0QUfDo"
      },
      "source": [
        "### saving functions"
      ]
    },
    {
      "cell_type": "code",
      "execution_count": 11,
      "metadata": {
        "id": "-6Dd1CLlUeOx"
      },
      "outputs": [],
      "source": [
        "def save_trainer_bundle(trainer, tokenizer, out_dir: str,\n",
        "                        save_merged_full_model: bool = False,\n",
        "                        merged_dir: Optional[str] = None):\n",
        "    os.makedirs(out_dir, exist_ok=True)\n",
        "    trainer.save_model(out_dir)\n",
        "    tokenizer.save_pretrained(out_dir)\n",
        "    trainer.save_state()\n",
        "\n",
        "    try:\n",
        "        with open(os.path.join(out_dir, \"log_history.json\"), \"w\") as f:\n",
        "            json.dump(trainer.state.log_history, f, indent=2)\n",
        "    except Exception as e:\n",
        "        print(f\"Warning: could not write log_history.json: {e}\")\n",
        "\n",
        "    print(f\"✅ Saved model/adapter, tokenizer, and trainer state to: {out_dir}\")\n",
        "\n",
        "    if save_merged_full_model:\n",
        "        if merged_dir is None:\n",
        "            merged_dir = os.path.join(out_dir, \"merged_full_model\")\n",
        "        os.makedirs(merged_dir, exist_ok=True)\n",
        "\n",
        "        model = trainer.model\n",
        "        if isinstance(model, PeftModel):\n",
        "            print(\"Merging LoRA into base model for a standalone checkpoint...\")\n",
        "            merged = model.merge_and_unload()\n",
        "            merged.save_pretrained(merged_dir, safe_serialization=True)\n",
        "            tokenizer.save_pretrained(merged_dir)\n",
        "            print(f\"✅ Saved merged full model to: {merged_dir}\")\n",
        "        else:\n",
        "            print(\"Model is not a PEFT/LoRA model; skipping merge (already full model).\")\n"
      ]
    },
    {
      "cell_type": "markdown",
      "metadata": {
        "id": "hzj_9I4yMoW8"
      },
      "source": [
        "### Parsing / utilities\n"
      ]
    },
    {
      "cell_type": "code",
      "execution_count": 12,
      "metadata": {
        "id": "hwkz2HEjMnG7"
      },
      "outputs": [],
      "source": [
        "def _strip_commas(s: str) -> str:\n",
        "    return s.replace(\",\", \"\")\n",
        "\n",
        "def _to_float_safe(s: Optional[str]) -> Optional[float]:\n",
        "    if s is None:\n",
        "        return None\n",
        "    try:\n",
        "        return float(_strip_commas(s).strip())\n",
        "    except Exception:\n",
        "        return None\n",
        "\n",
        "def extract_last_number(text: Optional[str]) -> Optional[str]:\n",
        "    if not text:\n",
        "        return None\n",
        "    m = list(_RE_NUM.finditer(text))\n",
        "    if not m:\n",
        "        return None\n",
        "    return m[-1].group(1)\n",
        "\n",
        "def strict_xml_ok(text: str) -> bool:\n",
        "    return _RE_STRICT.match(text) is not None\n",
        "\n",
        "def soft_xml_ok(text: str) -> bool:\n",
        "    return _RE_SOFT.search(text) is not None\n",
        "\n",
        "def _tag_counts(text: str) -> Dict[str, int]:\n",
        "    return {\n",
        "        \"open_reasoning\": text.count(\"<reasoning>\"),\n",
        "        \"close_reasoning\": text.count(\"</reasoning>\"),\n",
        "        \"open_answer\": text.count(\"<answer>\"),\n",
        "        \"close_answer\": text.count(\"</answer>\"),\n",
        "    }\n",
        "\n",
        "def _trailing_after_answer(text: str) -> str:\n",
        "    if \"</answer>\" not in text:\n",
        "        return text\n",
        "    return text.split(\"</answer>\", 1)[-1]\n",
        "\n",
        "def xml_counter(text: str) -> float:\n",
        "    score = 0.0\n",
        "    counts = _tag_counts(text)\n",
        "\n",
        "    score += 0.125 if counts[\"open_reasoning\"] == 1 else 0.0\n",
        "    score += 0.125 if counts[\"close_reasoning\"] == 1 else 0.0\n",
        "    score += 0.125 if counts[\"open_answer\"] == 1 else 0.0\n",
        "    score += 0.125 if counts[\"close_answer\"] == 1 else 0.0\n",
        "\n",
        "    if (counts[\"open_reasoning\"] != counts[\"close_reasoning\"]) or (counts[\"open_answer\"] != counts[\"close_answer\"]):\n",
        "        score -= 0.25\n",
        "    if counts[\"open_reasoning\"] > 1 or counts[\"open_answer\"] > 1:\n",
        "        score -= 0.25\n",
        "\n",
        "    trail = _trailing_after_answer(text).strip()\n",
        "    if trail:\n",
        "        score -= min(len(trail) * 0.001, 0.5)\n",
        "    return score\n",
        "\n",
        "def _numbers_equal(gold: Optional[str], pred: Optional[str], rtol=1e-6, atol=1e-8) -> bool:\n",
        "    g = _to_float_safe(gold)\n",
        "    p = _to_float_safe(pred)\n",
        "    if g is None or p is None:\n",
        "        return False\n",
        "    return math.isclose(g, p, rel_tol=rtol, abs_tol=atol)\n",
        "\n",
        "def _len_shaping(text: str, target_max_chars: int = 1200) -> float:\n",
        "    n = len(text)\n",
        "    if n <= target_max_chars:\n",
        "        return 0.2 * (1.0 - n / target_max_chars)\n",
        "    over = n - target_max_chars\n",
        "    return -min(over / target_max_chars * 0.2, 0.2)\n",
        "\n",
        "def _repeat_penalty(text: str, n: int = 3) -> float:\n",
        "    toks = text.split()\n",
        "    if len(toks) < n:\n",
        "        return 0.0\n",
        "    seen = {}\n",
        "    for i in range(len(toks) - n + 1):\n",
        "        ng = tuple(toks[i:i+n])\n",
        "        seen[ng] = seen.get(ng, 0) + 1\n",
        "    repeats = sum(c - 1 for c in seen.values() if c > 1)\n",
        "    return -min(repeats * 0.05, 0.2)"
      ]
    },
    {
      "cell_type": "markdown",
      "metadata": {
        "id": "ZNJu52IEMhAh"
      },
      "source": [
        "### Reward Functions"
      ]
    },
    {
      "cell_type": "code",
      "execution_count": 13,
      "metadata": {
        "id": "XY4tlaKSMjZt"
      },
      "outputs": [],
      "source": [
        "def r_strict(prompts, completions, **kwargs):\n",
        "    texts = [c[0][\"content\"] for c in completions]\n",
        "    base = [1.0 if strict_xml_ok(t) else 0.0 for t in texts]\n",
        "    vals = [W_STRICT * b for b in base]\n",
        "    _maybe_print_stats(\"r_strict\", vals)\n",
        "    return vals\n",
        "\n",
        "def r_soft(prompts, completions, **kwargs):\n",
        "    texts = [c[0][\"content\"] for c in completions]\n",
        "    base = [1.0 if soft_xml_ok(t) else 0.0 for t in texts]\n",
        "    vals = [W_SOFT * b for b in base]\n",
        "    _maybe_print_stats(\"r_soft\", vals)\n",
        "    return vals\n",
        "\n",
        "def r_xmlcount(prompts, completions, **kwargs):\n",
        "    texts = [c[0][\"content\"] for c in completions]\n",
        "    vals = [W_XML * xml_counter(t) for t in texts]\n",
        "    _maybe_print_stats(\"r_xmlcount\", vals)\n",
        "    return vals\n",
        "def r_correctness(prompts, completions, answer, **kwargs):\n",
        "    texts = [c[0][\"content\"] for c in completions]\n",
        "    preds = [extract_last_number(t) for t in texts]\n",
        "    golds = answer\n",
        "\n",
        "    raw = [(1.0 if _numbers_equal(g, p) else 0.0) for g, p in zip(golds, preds)]\n",
        "    vals = [W_CORR * v for v in raw]\n",
        "\n",
        "    vals_tensor = torch.tensor(vals, dtype=torch.float32, device=kwargs.get(\"device\", \"cuda\"))\n",
        "\n",
        "    if kwargs.get(\"verbose\", False):\n",
        "        _maybe_print_stats(\n",
        "            \"r_correctness\", vals,\n",
        "            extra_info={\"batch_acc\": sum(raw)/len(raw) if raw else 0.0}\n",
        "        )\n",
        "\n",
        "    return vals_tensor\n",
        "\n",
        "def r_shaping(prompts, completions, **kwargs):\n",
        "    if W_LEN_SHAPING == 0.0 and W_REPEAT_PEN == 0.0:\n",
        "        return [0.0 for _ in completions]\n",
        "    texts = [c[0][\"content\"] for c in completions]\n",
        "    vals = []\n",
        "    for t in texts:\n",
        "        v = 0.0\n",
        "        if W_LEN_SHAPING:\n",
        "            v += W_LEN_SHAPING * _len_shaping(t)\n",
        "        if W_REPEAT_PEN:\n",
        "            v += W_REPEAT_PEN * _repeat_penalty(t, n=3)\n",
        "        vals.append(v)\n",
        "    _maybe_print_stats(\"r_shaping\", vals)\n",
        "    return vals\n"
      ]
    },
    {
      "cell_type": "markdown",
      "metadata": {
        "id": "v8-2cziPMb2F"
      },
      "source": [
        "### Printing helpers"
      ]
    },
    {
      "cell_type": "code",
      "execution_count": 14,
      "metadata": {
        "id": "lconFMpCMbPF"
      },
      "outputs": [],
      "source": [
        "_PRINT_CTR = {}\n",
        "\n",
        "def _maybe_print_stats(name: str, values: List[float], extra_info: Dict[str, Any] = None):\n",
        "    if PRINT_EVERY <= 0:\n",
        "        return\n",
        "    cnt = _PRINT_CTR.get(name, 0) + 1\n",
        "    _PRINT_CTR[name] = cnt\n",
        "    if cnt % PRINT_EVERY != 0:\n",
        "        return\n",
        "    if not values:\n",
        "        print(f\"[{name}] call={cnt} (empty batch)\")\n",
        "        return\n",
        "    mean = sum(values) / len(values)\n",
        "    mn, mx = min(values), max(values)\n",
        "    line = f\"[{name}] call={cnt} batch={len(values)} mean={mean:.4f} min={mn:.4f} max={mx:.4f}\"\n",
        "    if extra_info:\n",
        "        for k, v in extra_info.items():\n",
        "            line += f\" {k}={v:.4f}\" if isinstance(v, (int, float)) else f\" {k}={v}\"\n",
        "    print(line)\n",
        "    if SHOW_SAMPLES > 0:\n",
        "        print(f\"  samples: {values[:SHOW_SAMPLES]}\")\n",
        "\n",
        "def print_reward_breakdown_for_batch(\n",
        "    prompts, completions, answer, max_items: int = 3, truncate: int = 160\n",
        "):\n",
        "    texts = [c[0][\"content\"] for c in completions]\n",
        "    golds = answer\n",
        "    for idx, (t, g) in enumerate(zip(texts, golds)):\n",
        "        if idx >= max_items: break\n",
        "        pred = extract_last_number(t)\n",
        "        comp = {\n",
        "            \"strict\":      1.0 if strict_xml_ok(t) else 0.0,\n",
        "            \"soft\":        1.0 if soft_xml_ok(t) else 0.0,\n",
        "            \"xmlcount\":    xml_counter(t),\n",
        "            \"correctness\": 1.0 if _numbers_equal(g, pred) else 0.0,\n",
        "            \"len_shape\":   _len_shaping(t) if W_LEN_SHAPING else 0.0,\n",
        "            \"repeat_pen\":  _repeat_penalty(t) if W_REPEAT_PEN else 0.0,\n",
        "        }\n",
        "        total = (W_STRICT*comp[\"strict\"] + W_SOFT*comp[\"soft\"] + W_XML*comp[\"xmlcount\"]\n",
        "                 + W_CORR*comp[\"correctness\"]\n",
        "                 + W_LEN_SHAPING*comp[\"len_shape\"] + W_REPEAT_PEN*comp[\"repeat_pen\"])\n",
        "        preview = (t[:truncate] + \"…\") if len(t) > truncate else t\n",
        "        print(f\"\\n--- Reward breakdown: sample {idx} ---\")\n",
        "        print(f\"gold: {g} | pred: {pred}\")\n",
        "        print(f\"preview: {preview}\")\n",
        "        print(f\"components: {comp}\")\n",
        "        print(f\"weighted total (intuition): {total:.4f}\")\n"
      ]
    },
    {
      "cell_type": "markdown",
      "metadata": {
        "id": "90B70gIjiial"
      },
      "source": [
        "## Load *Dataset*"
      ]
    },
    {
      "cell_type": "code",
      "execution_count": 15,
      "metadata": {
        "colab": {
          "base_uri": "https://localhost:8080/"
        },
        "id": "XvK4e_B8PSw7",
        "outputId": "c228b146-624a-4169-8f1e-8ce1c4e67d13"
      },
      "outputs": [
        {
          "name": "stdout",
          "output_type": "stream",
          "text": [
            "\n",
            "Taking a 2% subset of the main dataset (7473 examples)...\n",
            "Working with 747 examples now.\n"
          ]
        }
      ],
      "source": [
        "full_main_dataset = get_gsm8k(\"train\")\n",
        "\n",
        "print(f\"\\nTaking a 2% subset of the main dataset ({len(full_main_dataset)} examples)...\")\n",
        "subset_split = full_main_dataset.train_test_split(train_size=0.1, seed=42)\n",
        "working_dataset = subset_split['train']\n",
        "print(f\"Working with {len(working_dataset)} examples now.\")\n",
        "\n",
        "final_split = working_dataset.train_test_split(test_size=0.2, seed=42)\n",
        "train_ds, test_ds = final_split[\"train\"], final_split[\"test\"]\n",
        "\n"
      ]
    },
    {
      "cell_type": "markdown",
      "metadata": {
        "id": "C0E4E4sHTY3S"
      },
      "source": [
        "## Test BaseLine"
      ]
    },
    {
      "cell_type": "markdown",
      "metadata": {},
      "source": [
        "#### test with 20 samples"
      ]
    },
    {
      "cell_type": "code",
      "execution_count": 21,
      "metadata": {
        "colab": {
          "base_uri": "https://localhost:8080/"
        },
        "id": "Fke5X4R2OKC8",
        "outputId": "52f3ce4d-e563-4dd1-9844-8218fd86d711"
      },
      "outputs": [
        {
          "name": "stdout",
          "output_type": "stream",
          "text": [
            "\n",
            "--- Starting evaluation with Self-Consistency (samples: 5) ---\n"
          ]
        },
        {
          "name": "stderr",
          "output_type": "stream",
          "text": [
            "Evaluating Batches:  33%|███▎      | 1/3 [03:45<07:31, 225.85s/it]"
          ]
        },
        {
          "name": "stdout",
          "output_type": "stream",
          "text": [
            "Samples: ['700', '700', '700', '700', '700'] -> Voted: 700, Reference: 700\n",
            "Samples: ['13', '39', '13', '39', '39'] -> Voted: 39, Reference: 39\n",
            "Samples: ['7', '7', '7', '7', '7'] -> Voted: 7, Reference: 7\n",
            "Samples: ['6', '6', '6', '6', '6'] -> Voted: 6, Reference: 6\n",
            "Samples: ['4', '4', '4', '4', '4'] -> Voted: 4, Reference: 4\n",
            "Samples: ['120', '132', '131', '142', '142'] -> Voted: 142, Reference: 142\n",
            "Samples: ['130', '250', '130', '130', '130'] -> Voted: 130, Reference: 130\n",
            "Samples: ['20', '20', '20'] -> Voted: 20, Reference: 20\n"
          ]
        },
        {
          "name": "stderr",
          "output_type": "stream",
          "text": [
            "\rEvaluating Batches:  67%|██████▋   | 2/3 [07:23<03:41, 221.01s/it]"
          ]
        },
        {
          "name": "stdout",
          "output_type": "stream",
          "text": [
            "Samples: ['13', '13', '13', '13', '13'] -> Voted: 13, Reference: 13\n",
            "Samples: ['570', '570', '570', '570', '570'] -> Voted: 570, Reference: 570\n",
            "Samples: ['81', '81', '81', '81', '81'] -> Voted: 81, Reference: 81\n",
            "Samples: ['4096', '4096', '4096', '4096', '4096'] -> Voted: 4096, Reference: 4096\n",
            "Samples: ['7', '7', '7', '7', '7'] -> Voted: 7, Reference: 7\n",
            "Samples: ['4', '3', '100', '3', '3'] -> Voted: 3, Reference: 810\n",
            "Samples: ['20', '20', '20', '20', '20'] -> Voted: 20, Reference: 20\n",
            "Samples: ['60', '60', '60', '60', '60'] -> Voted: 60, Reference: 60\n"
          ]
        },
        {
          "name": "stderr",
          "output_type": "stream",
          "text": [
            "/usr/local/lib/python3.11/dist-packages/unsloth/kernels/utils.py:660: UserWarning: An output with one or more elements was resized since it had shape [1, 20, 2560], which does not match the required output shape [20, 1, 2560]. This behavior is deprecated, and in a future PyTorch release outputs will not be resized unless they have zero elements. You can explicitly reuse an out tensor t by resizing it, inplace, to zero elements with t.resize_(0). (Triggered internally at /pytorch/aten/src/ATen/native/Resize.cpp:31.)\n",
            "  out = torch_matmul(X, W.t(), out = out)\n",
            "/usr/local/lib/python3.11/dist-packages/unsloth/kernels/utils.py:665: UserWarning: An output with one or more elements was resized since it had shape [1, 20, 2560], which does not match the required output shape [20, 1, 2560]. This behavior is deprecated, and in a future PyTorch release outputs will not be resized unless they have zero elements. You can explicitly reuse an out tensor t by resizing it, inplace, to zero elements with t.resize_(0). (Triggered internally at /pytorch/aten/src/ATen/native/Resize.cpp:31.)\n",
            "  out = torch_matmul(X, W, out = out)\n",
            "Evaluating Batches: 100%|██████████| 3/3 [09:40<00:00, 193.46s/it]"
          ]
        },
        {
          "name": "stdout",
          "output_type": "stream",
          "text": [
            "Samples: ['180', '310', '180', '3', '180'] -> Voted: 180, Reference: 180\n",
            "Samples: ['19', '19', '19', '19', '19'] -> Voted: 19, Reference: 19\n",
            "Samples: ['24', '24', '24', '24', '24'] -> Voted: 24, Reference: 24\n",
            "Samples: ['13', '13', '13', '13', '13'] -> Voted: 13, Reference: 13\n",
            "\n",
            "--- Evaluation Complete ---\n",
            "Correct Answers: 19 / 20\n",
            "Accuracy: 95.00%\n",
            "Final accuracy: 95.00%\n"
          ]
        },
        {
          "name": "stderr",
          "output_type": "stream",
          "text": [
            "\n"
          ]
        }
      ],
      "source": [
        "samples = random.sample(list(full_main_dataset), 40)\n",
        "\n",
        "\n",
        "results = evaluate_self_consistency(\n",
        "    model=model,\n",
        "    tokenizer=tokenizer,\n",
        "    dataset=samples,\n",
        "    create_prompt=create_prompt,\n",
        "    num_samples=5,\n",
        "    batch_size=8,\n",
        "    max_new_tokens=512,\n",
        ")\n",
        "\n",
        "print(f\"Final accuracy: {results['accuracy']:.2f}%\")"
      ]
    },
    {
      "cell_type": "markdown",
      "metadata": {},
      "source": [
        "#### test with 40 samples"
      ]
    },
    {
      "cell_type": "code",
      "execution_count": 22,
      "metadata": {
        "colab": {
          "base_uri": "https://localhost:8080/"
        },
        "id": "ZbSgGbigW4F2",
        "outputId": "19582363-6dee-41cc-e999-2ce8e5c05168"
      },
      "outputs": [
        {
          "name": "stdout",
          "output_type": "stream",
          "text": [
            "\n",
            "--- Starting evaluation with Self-Consistency (samples: 5) ---\n"
          ]
        },
        {
          "name": "stderr",
          "output_type": "stream",
          "text": [
            "Evaluating Batches:  20%|██        | 1/5 [03:34<14:17, 214.26s/it]"
          ]
        },
        {
          "name": "stdout",
          "output_type": "stream",
          "text": [
            "Samples: ['68', '84', '84', '84', '84'] -> Voted: 84, Reference: 84\n",
            "Samples: ['150', '5', '150', '5', '000'] -> Voted: 150, Reference: 150\n",
            "Samples: ['60', '60', '60', '60', '60'] -> Voted: 60, Reference: 60\n",
            "Samples: ['84', '84', '84', '84', '84'] -> Voted: 84, Reference: 84\n",
            "Samples: ['70', '5', '2', '240', '46'] -> Voted: 70, Reference: 46\n",
            "Samples: ['32139', '32139', '32139', '32139', '139'] -> Voted: 32139, Reference: 32139\n",
            "Samples: ['000', '000', '000', '0', '000'] -> Voted: 000, Reference: 60000\n",
            "Samples: ['216', '216', '216', '216', '216'] -> Voted: 216, Reference: 216\n"
          ]
        },
        {
          "name": "stderr",
          "output_type": "stream",
          "text": [
            "\rEvaluating Batches:  40%|████      | 2/5 [07:13<10:51, 217.01s/it]"
          ]
        },
        {
          "name": "stdout",
          "output_type": "stream",
          "text": [
            "Samples: ['15', '15', '15', '15', '15'] -> Voted: 15, Reference: 15\n",
            "Samples: ['70', '70', '70', '70', '70'] -> Voted: 70, Reference: 70\n",
            "Samples: ['8', '8', '8', '8', '8'] -> Voted: 8, Reference: 8\n",
            "Samples: ['16', '16', '16', '16', '16'] -> Voted: 16, Reference: 16\n",
            "Samples: ['6.00', '6', '6', '6.00', '6.00'] -> Voted: 6.00, Reference: 6\n",
            "Samples: ['4', '4', '4', '4', '4'] -> Voted: 4, Reference: 4\n",
            "Samples: ['5', '2', '155', '1', '5'] -> Voted: 5, Reference: 155\n",
            "Samples: ['12000', '12000', '12000', '12000', '12000'] -> Voted: 12000, Reference: 12000\n"
          ]
        },
        {
          "name": "stderr",
          "output_type": "stream",
          "text": [
            "\rEvaluating Batches:  60%|██████    | 3/5 [10:58<07:21, 220.95s/it]"
          ]
        },
        {
          "name": "stdout",
          "output_type": "stream",
          "text": [
            "Samples: ['105', '105', '45', '45', '10'] -> Voted: 105, Reference: 45\n",
            "Samples: ['96', '96', '96', '96', '96'] -> Voted: 96, Reference: 96\n",
            "Samples: ['18', '0', '1', '1', '68'] -> Voted: 1, Reference: 22\n",
            "Samples: ['325', '325', '325', '325', '325'] -> Voted: 325, Reference: 325\n",
            "Samples: ['40', '40', '40', '40', '40'] -> Voted: 40, Reference: 40\n",
            "Samples: ['32', '32', '32', '32', '32'] -> Voted: 32, Reference: 32\n",
            "Samples: ['14', '14', '14', '14', '14'] -> Voted: 14, Reference: 14\n",
            "Samples: ['0', '60', '60', '60', '60'] -> Voted: 60, Reference: 60\n"
          ]
        },
        {
          "name": "stderr",
          "output_type": "stream",
          "text": [
            "\rEvaluating Batches:  80%|████████  | 4/5 [14:36<03:39, 219.57s/it]"
          ]
        },
        {
          "name": "stdout",
          "output_type": "stream",
          "text": [
            "Samples: ['70', '70', '70', '70', '70'] -> Voted: 70, Reference: 70\n",
            "Samples: ['9', '9', '9', '9', '9'] -> Voted: 9, Reference: 9\n",
            "Samples: ['69', '69', '69', '69', '69'] -> Voted: 69, Reference: 69\n",
            "Samples: ['10', '10', '10', '10', '10'] -> Voted: 10, Reference: 10\n",
            "Samples: ['18', '18', '18', '18', '18'] -> Voted: 18, Reference: 18\n",
            "Samples: ['12200', '12200', '12200', '12200', '12200'] -> Voted: 12200, Reference: 12200\n",
            "Samples: ['700', '700', '700', '700', '700'] -> Voted: 700, Reference: 700\n",
            "Samples: ['330', '106', '106.5', '123', '95'] -> Voted: 330, Reference: 95\n"
          ]
        },
        {
          "name": "stderr",
          "output_type": "stream",
          "text": [
            "Evaluating Batches: 100%|██████████| 5/5 [18:26<00:00, 221.31s/it]"
          ]
        },
        {
          "name": "stdout",
          "output_type": "stream",
          "text": [
            "Samples: ['146', '146', '146', '146', '146'] -> Voted: 146, Reference: 146\n",
            "Samples: ['116', '116', '116', '116', '116'] -> Voted: 116, Reference: 116\n",
            "Samples: ['87', '87', '87', '87', '87'] -> Voted: 87, Reference: 87\n",
            "Samples: ['20', '20', '20'] -> Voted: 20, Reference: 20\n",
            "Samples: ['99', '99', '99', '99', '99'] -> Voted: 99, Reference: 99\n",
            "Samples: ['50', '50', '50', '233.33', '2'] -> Voted: 50, Reference: 20\n",
            "Samples: ['000000000000000000000000000000000000000000000000000000000000000000000000000000000000000000000000000000000000000000000000000000000000000000000000000000000000000000000000000000000000000000000000000000000000000000000000000000000000000000000000000000000000000000000000000000000000000000000000000000000000000000000000000000000000000000000000000000000000000000000000000000000000000000000000000000000000000000000000000000000000000000000000000000000000000000000000', '240', '240', '240', '240'] -> Voted: 240, Reference: 240\n",
            "Samples: ['1', '1'] -> Voted: 1, Reference: 1\n",
            "\n",
            "--- Evaluation Complete ---\n",
            "Correct Answers: 32 / 40\n",
            "Accuracy: 80.00%\n",
            "Final accuracy: 80.00%\n"
          ]
        },
        {
          "name": "stderr",
          "output_type": "stream",
          "text": [
            "\n"
          ]
        }
      ],
      "source": [
        "samples = random.sample(list(full_main_dataset), 40)\n",
        "\n",
        "\n",
        "results = evaluate_self_consistency(\n",
        "    model=model,\n",
        "    tokenizer=tokenizer,\n",
        "    dataset=samples,\n",
        "    create_prompt=create_prompt,\n",
        "    num_samples=5,\n",
        "    batch_size=8,\n",
        "    max_new_tokens=512,\n",
        ")\n",
        "\n",
        "print(f\"Final accuracy: {results['accuracy']:.2f}%\")"
      ]
    },
    {
      "cell_type": "markdown",
      "metadata": {
        "id": "3sv1Y1qloh6L"
      },
      "source": [
        "## Training Arguments"
      ]
    },
    {
      "cell_type": "code",
      "execution_count": 16,
      "metadata": {
        "id": "tGDVxeWONEMB"
      },
      "outputs": [],
      "source": [
        "torch.backends.cuda.matmul.allow_tf32 = True\n",
        "torch.set_float32_matmul_precision(\"high\")\n",
        "\n",
        "if tokenizer.pad_token_id is None and tokenizer.eos_token_id is not None:\n",
        "    tokenizer.pad_token = tokenizer.eos_token\n",
        "tokenizer.padding_side = \"right\"\n",
        "model.config.use_cache = True\n",
        "\n",
        "try:\n",
        "    model.config.attn_implementation = \"flash_attention_2\"\n",
        "except Exception:\n",
        "    pass\n",
        "\n",
        "try:\n",
        "    model = torch.compile(model, mode=\"reduce-overhead\", fullgraph=False)\n",
        "except:\n",
        "    pass\n",
        "if hasattr(model, \"_orig_mod\"):\n",
        "    model = model._orig_mod\n",
        "\n",
        "if not hasattr(model, \"generate\"):\n",
        "    raise RuntimeError(\"Model has no `generate` method; load a CausalLM/PEFT model.\")\n",
        "\n",
        "if not hasattr(model, \"_flag_for_generation\"):\n",
        "    setattr(model, \"_flag_for_generation\", None)\n",
        "\n",
        "for attr_name in (\"_supports_cache_class\", \"_is_quantized\", \"_is_peft_model\"):\n",
        "    if not hasattr(model, attr_name):\n",
        "        setattr(model, attr_name, False)"
      ]
    },
    {
      "cell_type": "code",
      "execution_count": null,
      "metadata": {
        "id": "tJW-_EznjYYP"
      },
      "outputs": [],
      "source": [
        "training_args = GRPOConfig(\n",
        "    run_name=\"grpo_unsloth_fast\",\n",
        "    output_dir=GRPO_OUTPUT_DIR,\n",
        "    bf16=(torch.cuda.is_available() and torch.cuda.get_device_capability(0)[0] >= 8),\n",
        "    fp16=False,\n",
        "    optim=\"adamw_torch_fused\",\n",
        "    learning_rate=5e-4,\n",
        "    weight_decay=0.1,\n",
        "    adam_beta1=0.9,\n",
        "    adam_beta2=0.99,\n",
        "    lr_scheduler_type=\"cosine\",\n",
        "    warmup_ratio=0.01,\n",
        "    logging_steps=1,\n",
        "    report_to=\"none\",\n",
        "    num_generations=NUM_GENERATIONS,\n",
        "    per_device_train_batch_size=NUM_GENERATIONS * 4,\n",
        "    gradient_accumulation_steps=2,\n",
        "    max_prompt_length=MAX_PROMPT_LEN,\n",
        "    max_completion_length= MAX_COMPLETION_LEN,\n",
        "\n",
        "    max_grad_norm=0.1,\n",
        "    beta=0.05,\n",
        "    temperature=0.7,\n",
        "    top_p=0.9,\n",
        ")\n",
        "\n",
        "trainer = GRPOTrainer(\n",
        "    model=model,\n",
        "    tokenizer=tokenizer,\n",
        "    reward_funcs=[r_correctness],\n",
        "    args=training_args,\n",
        "    train_dataset=train_ds,\n",
        "    dataloader_num_workers=4,\n",
        "    dataloader_pin_memory=True,\n",
        "    dataloader_persistent_workers=True,\n",
        ")"
      ]
    },
    {
      "cell_type": "markdown",
      "metadata": {
        "id": "TzkTwsQromZL"
      },
      "source": [
        "## Training"
      ]
    },
    {
      "cell_type": "code",
      "execution_count": null,
      "metadata": {
        "colab": {
          "base_uri": "https://localhost:8080/",
          "height": 301
        },
        "id": "rf5hF4siZDOH",
        "outputId": "d38710e2-3839-4594-d2b6-c1c8b12885b9"
      },
      "outputs": [
        {
          "ename": "ValueError",
          "evalue": "Can't find a valid checkpoint at tahamajs/Qwen3-4b-gsm8k-Qlora-GRPO",
          "output_type": "error",
          "traceback": [
            "\u001b[0;31m---------------------------------------------------------------------------\u001b[0m",
            "\u001b[0;31mValueError\u001b[0m                                Traceback (most recent call last)",
            "\u001b[0;32m/tmp/ipython-input-3539027885.py\u001b[0m in \u001b[0;36m<cell line: 0>\u001b[0;34m()\u001b[0m\n\u001b[0;32m----> 1\u001b[0;31m \u001b[0mtrainer\u001b[0m\u001b[0;34m.\u001b[0m\u001b[0mtrain\u001b[0m\u001b[0;34m(\u001b[0m\u001b[0mresume_from_checkpoint\u001b[0m\u001b[0;34m=\u001b[0m\u001b[0mADAPTER_REPO\u001b[0m\u001b[0;34m)\u001b[0m\u001b[0;34m\u001b[0m\u001b[0;34m\u001b[0m\u001b[0m\n\u001b[0m",
            "\u001b[0;32m/usr/local/lib/python3.11/dist-packages/transformers/trainer.py\u001b[0m in \u001b[0;36mtrain\u001b[0;34m(self, resume_from_checkpoint, trial, ignore_keys_for_eval, **kwargs)\u001b[0m\n\u001b[1;32m   2208\u001b[0m         \u001b[0;32mif\u001b[0m \u001b[0mresume_from_checkpoint\u001b[0m \u001b[0;32mis\u001b[0m \u001b[0;32mnot\u001b[0m \u001b[0;32mNone\u001b[0m\u001b[0;34m:\u001b[0m\u001b[0;34m\u001b[0m\u001b[0;34m\u001b[0m\u001b[0m\n\u001b[1;32m   2209\u001b[0m             \u001b[0;32mif\u001b[0m \u001b[0;32mnot\u001b[0m \u001b[0mis_sagemaker_mp_enabled\u001b[0m\u001b[0;34m(\u001b[0m\u001b[0;34m)\u001b[0m \u001b[0;32mand\u001b[0m \u001b[0;32mnot\u001b[0m \u001b[0mself\u001b[0m\u001b[0;34m.\u001b[0m\u001b[0mis_deepspeed_enabled\u001b[0m \u001b[0;32mand\u001b[0m \u001b[0;32mnot\u001b[0m \u001b[0mself\u001b[0m\u001b[0;34m.\u001b[0m\u001b[0mis_fsdp_enabled\u001b[0m\u001b[0;34m:\u001b[0m\u001b[0;34m\u001b[0m\u001b[0;34m\u001b[0m\u001b[0m\n\u001b[0;32m-> 2210\u001b[0;31m                 \u001b[0mself\u001b[0m\u001b[0;34m.\u001b[0m\u001b[0m_load_from_checkpoint\u001b[0m\u001b[0;34m(\u001b[0m\u001b[0mresume_from_checkpoint\u001b[0m\u001b[0;34m)\u001b[0m\u001b[0;34m\u001b[0m\u001b[0;34m\u001b[0m\u001b[0m\n\u001b[0m\u001b[1;32m   2211\u001b[0m             \u001b[0;31m# In case of repeating the find_executable_batch_size, set `self._train_batch_size` properly\u001b[0m\u001b[0;34m\u001b[0m\u001b[0;34m\u001b[0m\u001b[0m\n\u001b[1;32m   2212\u001b[0m             \u001b[0mstate\u001b[0m \u001b[0;34m=\u001b[0m \u001b[0mTrainerState\u001b[0m\u001b[0;34m.\u001b[0m\u001b[0mload_from_json\u001b[0m\u001b[0;34m(\u001b[0m\u001b[0mos\u001b[0m\u001b[0;34m.\u001b[0m\u001b[0mpath\u001b[0m\u001b[0;34m.\u001b[0m\u001b[0mjoin\u001b[0m\u001b[0;34m(\u001b[0m\u001b[0mresume_from_checkpoint\u001b[0m\u001b[0;34m,\u001b[0m \u001b[0mTRAINER_STATE_NAME\u001b[0m\u001b[0;34m)\u001b[0m\u001b[0;34m)\u001b[0m\u001b[0;34m\u001b[0m\u001b[0;34m\u001b[0m\u001b[0m\n",
            "\u001b[0;32m/usr/local/lib/python3.11/dist-packages/transformers/trainer.py\u001b[0m in \u001b[0;36m_load_from_checkpoint\u001b[0;34m(self, resume_from_checkpoint, model)\u001b[0m\n\u001b[1;32m   2846\u001b[0m             \u001b[0;32mor\u001b[0m \u001b[0madapter_subdirs\u001b[0m\u001b[0;34m\u001b[0m\u001b[0;34m\u001b[0m\u001b[0m\n\u001b[1;32m   2847\u001b[0m         ):\n\u001b[0;32m-> 2848\u001b[0;31m             \u001b[0;32mraise\u001b[0m \u001b[0mValueError\u001b[0m\u001b[0;34m(\u001b[0m\u001b[0;34mf\"Can't find a valid checkpoint at {resume_from_checkpoint}\"\u001b[0m\u001b[0;34m)\u001b[0m\u001b[0;34m\u001b[0m\u001b[0;34m\u001b[0m\u001b[0m\n\u001b[0m\u001b[1;32m   2849\u001b[0m \u001b[0;34m\u001b[0m\u001b[0m\n\u001b[1;32m   2850\u001b[0m         \u001b[0mlogger\u001b[0m\u001b[0;34m.\u001b[0m\u001b[0minfo\u001b[0m\u001b[0;34m(\u001b[0m\u001b[0;34mf\"Loading model from {resume_from_checkpoint}.\"\u001b[0m\u001b[0;34m)\u001b[0m\u001b[0;34m\u001b[0m\u001b[0;34m\u001b[0m\u001b[0m\n",
            "\u001b[0;31mValueError\u001b[0m: Can't find a valid checkpoint at tahamajs/Qwen3-4b-gsm8k-Qlora-GRPO"
          ]
        }
      ],
      "source": [
        "trainer.train(resume_from_checkpoint=ADAPTER_REPO)"
      ]
    },
    {
      "cell_type": "markdown",
      "metadata": {
        "id": "Fop92-ao07sA"
      },
      "source": [
        "### train part 1"
      ]
    },
    {
      "cell_type": "code",
      "execution_count": null,
      "metadata": {
        "colab": {
          "base_uri": "https://localhost:8080/",
          "height": 1000
        },
        "id": "4Id98jQwPnaV",
        "outputId": "50fe7240-bcda-4c88-85c6-73cef6c90f73"
      },
      "outputs": [
        {
          "name": "stdout",
          "output_type": "stream",
          "text": [
            "\n",
            "Starting GRPO training...\n"
          ]
        },
        {
          "name": "stderr",
          "output_type": "stream",
          "text": [
            "==((====))==  Unsloth - 2x faster free finetuning | Num GPUs used = 1\n",
            "   \\\\   /|    Num examples = 597 | Num Epochs = 3 | Total steps = 597\n",
            "O^O/ \\_/ \\    Batch size per device = 12 | Gradient accumulation steps = 1\n",
            "\\        /    Data Parallel GPUs = 1 | Total batch size (12 x 1 x 1) = 12\n",
            " \"-____-\"     Trainable parameters = 132,120,576 of 4,154,588,672 (3.18% trained)\n",
            "/usr/local/lib/python3.11/dist-packages/unsloth/kernels/utils.py:660: UserWarning: An output with one or more elements was resized since it had shape [1, 12, 2560], which does not match the required output shape [12, 1, 2560]. This behavior is deprecated, and in a future PyTorch release outputs will not be resized unless they have zero elements. You can explicitly reuse an out tensor t by resizing it, inplace, to zero elements with t.resize_(0). (Triggered internally at /pytorch/aten/src/ATen/native/Resize.cpp:31.)\n",
            "  out = torch_matmul(X, W.t(), out = out)\n",
            "/usr/local/lib/python3.11/dist-packages/unsloth/kernels/utils.py:665: UserWarning: An output with one or more elements was resized since it had shape [1, 12, 2560], which does not match the required output shape [12, 1, 2560]. This behavior is deprecated, and in a future PyTorch release outputs will not be resized unless they have zero elements. You can explicitly reuse an out tensor t by resizing it, inplace, to zero elements with t.resize_(0). (Triggered internally at /pytorch/aten/src/ATen/native/Resize.cpp:31.)\n",
            "  out = torch_matmul(X, W, out = out)\n"
          ]
        },
        {
          "data": {
            "text/html": [
              "\n",
              "    <div>\n",
              "      \n",
              "      <progress value='31' max='597' style='width:300px; height:20px; vertical-align: middle;'></progress>\n",
              "      [ 31/597 3:10:18 < 61:54:18, 0.00 it/s, Epoch 0.15/3]\n",
              "    </div>\n",
              "    <table border=\"1\" class=\"dataframe\">\n",
              "  <thead>\n",
              " <tr style=\"text-align: left;\">\n",
              "      <th>Step</th>\n",
              "      <th>Training Loss</th>\n",
              "      <th>reward</th>\n",
              "      <th>reward_std</th>\n",
              "      <th>completions / mean_length</th>\n",
              "      <th>completions / min_length</th>\n",
              "      <th>completions / max_length</th>\n",
              "      <th>completions / clipped_ratio</th>\n",
              "      <th>completions / mean_terminated_length</th>\n",
              "      <th>completions / min_terminated_length</th>\n",
              "      <th>completions / max_terminated_length</th>\n",
              "      <th>kl</th>\n",
              "      <th>entropy</th>\n",
              "      <th>rewards / r_correctness / mean</th>\n",
              "      <th>rewards / r_correctness / std</th>\n",
              "    </tr>\n",
              "  </thead>\n",
              "  <tbody>\n",
              "    <tr>\n",
              "      <td>5</td>\n",
              "      <td>0.000000</td>\n",
              "      <td>1.133333</td>\n",
              "      <td>0.266667</td>\n",
              "      <td>713.033362</td>\n",
              "      <td>398.400000</td>\n",
              "      <td>1024.000000</td>\n",
              "      <td>0.316667</td>\n",
              "      <td>567.491663</td>\n",
              "      <td>398.400000</td>\n",
              "      <td>788.200000</td>\n",
              "      <td>0.000141</td>\n",
              "      <td>0</td>\n",
              "      <td>1.133333</td>\n",
              "      <td>1.002782</td>\n",
              "    </tr>\n",
              "    <tr>\n",
              "      <td>10</td>\n",
              "      <td>0.000000</td>\n",
              "      <td>1.333333</td>\n",
              "      <td>0.000000</td>\n",
              "      <td>582.833344</td>\n",
              "      <td>364.600000</td>\n",
              "      <td>834.800000</td>\n",
              "      <td>0.200000</td>\n",
              "      <td>475.850006</td>\n",
              "      <td>364.600000</td>\n",
              "      <td>624.200000</td>\n",
              "      <td>0.000239</td>\n",
              "      <td>No Log</td>\n",
              "      <td>1.333333</td>\n",
              "      <td>0.787786</td>\n",
              "    </tr>\n",
              "    <tr>\n",
              "      <td>15</td>\n",
              "      <td>0.000000</td>\n",
              "      <td>1.266667</td>\n",
              "      <td>0.210313</td>\n",
              "      <td>710.350018</td>\n",
              "      <td>431.800000</td>\n",
              "      <td>999.000000</td>\n",
              "      <td>0.366667</td>\n",
              "      <td>554.985724</td>\n",
              "      <td>431.800000</td>\n",
              "      <td>760.600000</td>\n",
              "      <td>0.000238</td>\n",
              "      <td>No Log</td>\n",
              "      <td>1.266667</td>\n",
              "      <td>0.690270</td>\n",
              "    </tr>\n",
              "    <tr>\n",
              "      <td>20</td>\n",
              "      <td>0.000600</td>\n",
              "      <td>1.666667</td>\n",
              "      <td>0.266667</td>\n",
              "      <td>665.750024</td>\n",
              "      <td>422.400000</td>\n",
              "      <td>933.800000</td>\n",
              "      <td>0.133333</td>\n",
              "      <td>611.941687</td>\n",
              "      <td>422.400000</td>\n",
              "      <td>877.800000</td>\n",
              "      <td>0.011649</td>\n",
              "      <td>No Log</td>\n",
              "      <td>1.666667</td>\n",
              "      <td>0.649023</td>\n",
              "    </tr>\n",
              "    <tr>\n",
              "      <td>25</td>\n",
              "      <td>134930476627052298240.000000</td>\n",
              "      <td>1.533333</td>\n",
              "      <td>0.343647</td>\n",
              "      <td>725.250024</td>\n",
              "      <td>454.200000</td>\n",
              "      <td>977.200000</td>\n",
              "      <td>0.300000</td>\n",
              "      <td>611.971973</td>\n",
              "      <td>454.200000</td>\n",
              "      <td>858.000000</td>\n",
              "      <td>2698609588836041228288.000000</td>\n",
              "      <td>No Log</td>\n",
              "      <td>1.533333</td>\n",
              "      <td>0.558760</td>\n",
              "    </tr>\n",
              "  </tbody>\n",
              "</table><p>"
            ],
            "text/plain": [
              "<IPython.core.display.HTML object>"
            ]
          },
          "metadata": {},
          "output_type": "display_data"
        },
        {
          "name": "stderr",
          "output_type": "stream",
          "text": [
            "/usr/local/lib/python3.11/dist-packages/unsloth/kernels/utils.py:660: UserWarning: An output with one or more elements was resized since it had shape [1, 12, 2560], which does not match the required output shape [12, 1, 2560]. This behavior is deprecated, and in a future PyTorch release outputs will not be resized unless they have zero elements. You can explicitly reuse an out tensor t by resizing it, inplace, to zero elements with t.resize_(0). (Triggered internally at /pytorch/aten/src/ATen/native/Resize.cpp:31.)\n",
            "  out = torch_matmul(X, W.t(), out = out)\n",
            "/usr/local/lib/python3.11/dist-packages/unsloth/kernels/utils.py:665: UserWarning: An output with one or more elements was resized since it had shape [1, 12, 2560], which does not match the required output shape [12, 1, 2560]. This behavior is deprecated, and in a future PyTorch release outputs will not be resized unless they have zero elements. You can explicitly reuse an out tensor t by resizing it, inplace, to zero elements with t.resize_(0). (Triggered internally at /pytorch/aten/src/ATen/native/Resize.cpp:31.)\n",
            "  out = torch_matmul(X, W, out = out)\n"
          ]
        },
        {
          "name": "stdout",
          "output_type": "stream",
          "text": [
            "Unsloth: Will smartly offload gradients to save VRAM!\n"
          ]
        },
        {
          "name": "stderr",
          "output_type": "stream",
          "text": [
            "/usr/local/lib/python3.11/dist-packages/unsloth/kernels/utils.py:660: UserWarning: An output with one or more elements was resized since it had shape [1, 12, 2560], which does not match the required output shape [12, 1, 2560]. This behavior is deprecated, and in a future PyTorch release outputs will not be resized unless they have zero elements. You can explicitly reuse an out tensor t by resizing it, inplace, to zero elements with t.resize_(0). (Triggered internally at /pytorch/aten/src/ATen/native/Resize.cpp:31.)\n",
            "  out = torch_matmul(X, W.t(), out = out)\n",
            "/usr/local/lib/python3.11/dist-packages/unsloth/kernels/utils.py:665: UserWarning: An output with one or more elements was resized since it had shape [1, 12, 2560], which does not match the required output shape [12, 1, 2560]. This behavior is deprecated, and in a future PyTorch release outputs will not be resized unless they have zero elements. You can explicitly reuse an out tensor t by resizing it, inplace, to zero elements with t.resize_(0). (Triggered internally at /pytorch/aten/src/ATen/native/Resize.cpp:31.)\n",
            "  out = torch_matmul(X, W, out = out)\n",
            "/usr/local/lib/python3.11/dist-packages/unsloth/kernels/utils.py:660: UserWarning: An output with one or more elements was resized since it had shape [1, 12, 2560], which does not match the required output shape [12, 1, 2560]. This behavior is deprecated, and in a future PyTorch release outputs will not be resized unless they have zero elements. You can explicitly reuse an out tensor t by resizing it, inplace, to zero elements with t.resize_(0). (Triggered internally at /pytorch/aten/src/ATen/native/Resize.cpp:31.)\n",
            "  out = torch_matmul(X, W.t(), out = out)\n",
            "/usr/local/lib/python3.11/dist-packages/unsloth/kernels/utils.py:665: UserWarning: An output with one or more elements was resized since it had shape [1, 12, 2560], which does not match the required output shape [12, 1, 2560]. This behavior is deprecated, and in a future PyTorch release outputs will not be resized unless they have zero elements. You can explicitly reuse an out tensor t by resizing it, inplace, to zero elements with t.resize_(0). (Triggered internally at /pytorch/aten/src/ATen/native/Resize.cpp:31.)\n",
            "  out = torch_matmul(X, W, out = out)\n",
            "/usr/local/lib/python3.11/dist-packages/unsloth/kernels/utils.py:660: UserWarning: An output with one or more elements was resized since it had shape [1, 12, 2560], which does not match the required output shape [12, 1, 2560]. This behavior is deprecated, and in a future PyTorch release outputs will not be resized unless they have zero elements. You can explicitly reuse an out tensor t by resizing it, inplace, to zero elements with t.resize_(0). (Triggered internally at /pytorch/aten/src/ATen/native/Resize.cpp:31.)\n",
            "  out = torch_matmul(X, W.t(), out = out)\n",
            "/usr/local/lib/python3.11/dist-packages/unsloth/kernels/utils.py:665: UserWarning: An output with one or more elements was resized since it had shape [1, 12, 2560], which does not match the required output shape [12, 1, 2560]. This behavior is deprecated, and in a future PyTorch release outputs will not be resized unless they have zero elements. You can explicitly reuse an out tensor t by resizing it, inplace, to zero elements with t.resize_(0). (Triggered internally at /pytorch/aten/src/ATen/native/Resize.cpp:31.)\n",
            "  out = torch_matmul(X, W, out = out)\n",
            "/usr/local/lib/python3.11/dist-packages/unsloth/kernels/utils.py:660: UserWarning: An output with one or more elements was resized since it had shape [1, 12, 2560], which does not match the required output shape [12, 1, 2560]. This behavior is deprecated, and in a future PyTorch release outputs will not be resized unless they have zero elements. You can explicitly reuse an out tensor t by resizing it, inplace, to zero elements with t.resize_(0). (Triggered internally at /pytorch/aten/src/ATen/native/Resize.cpp:31.)\n",
            "  out = torch_matmul(X, W.t(), out = out)\n",
            "/usr/local/lib/python3.11/dist-packages/unsloth/kernels/utils.py:665: UserWarning: An output with one or more elements was resized since it had shape [1, 12, 2560], which does not match the required output shape [12, 1, 2560]. This behavior is deprecated, and in a future PyTorch release outputs will not be resized unless they have zero elements. You can explicitly reuse an out tensor t by resizing it, inplace, to zero elements with t.resize_(0). (Triggered internally at /pytorch/aten/src/ATen/native/Resize.cpp:31.)\n",
            "  out = torch_matmul(X, W, out = out)\n",
            "/usr/local/lib/python3.11/dist-packages/unsloth/kernels/utils.py:660: UserWarning: An output with one or more elements was resized since it had shape [1, 12, 2560], which does not match the required output shape [12, 1, 2560]. This behavior is deprecated, and in a future PyTorch release outputs will not be resized unless they have zero elements. You can explicitly reuse an out tensor t by resizing it, inplace, to zero elements with t.resize_(0). (Triggered internally at /pytorch/aten/src/ATen/native/Resize.cpp:31.)\n",
            "  out = torch_matmul(X, W.t(), out = out)\n",
            "/usr/local/lib/python3.11/dist-packages/unsloth/kernels/utils.py:665: UserWarning: An output with one or more elements was resized since it had shape [1, 12, 2560], which does not match the required output shape [12, 1, 2560]. This behavior is deprecated, and in a future PyTorch release outputs will not be resized unless they have zero elements. You can explicitly reuse an out tensor t by resizing it, inplace, to zero elements with t.resize_(0). (Triggered internally at /pytorch/aten/src/ATen/native/Resize.cpp:31.)\n",
            "  out = torch_matmul(X, W, out = out)\n",
            "/usr/local/lib/python3.11/dist-packages/unsloth/kernels/utils.py:660: UserWarning: An output with one or more elements was resized since it had shape [1, 12, 2560], which does not match the required output shape [12, 1, 2560]. This behavior is deprecated, and in a future PyTorch release outputs will not be resized unless they have zero elements. You can explicitly reuse an out tensor t by resizing it, inplace, to zero elements with t.resize_(0). (Triggered internally at /pytorch/aten/src/ATen/native/Resize.cpp:31.)\n",
            "  out = torch_matmul(X, W.t(), out = out)\n",
            "/usr/local/lib/python3.11/dist-packages/unsloth/kernels/utils.py:665: UserWarning: An output with one or more elements was resized since it had shape [1, 12, 2560], which does not match the required output shape [12, 1, 2560]. This behavior is deprecated, and in a future PyTorch release outputs will not be resized unless they have zero elements. You can explicitly reuse an out tensor t by resizing it, inplace, to zero elements with t.resize_(0). (Triggered internally at /pytorch/aten/src/ATen/native/Resize.cpp:31.)\n",
            "  out = torch_matmul(X, W, out = out)\n",
            "/usr/local/lib/python3.11/dist-packages/unsloth/kernels/utils.py:660: UserWarning: An output with one or more elements was resized since it had shape [1, 12, 2560], which does not match the required output shape [12, 1, 2560]. This behavior is deprecated, and in a future PyTorch release outputs will not be resized unless they have zero elements. You can explicitly reuse an out tensor t by resizing it, inplace, to zero elements with t.resize_(0). (Triggered internally at /pytorch/aten/src/ATen/native/Resize.cpp:31.)\n",
            "  out = torch_matmul(X, W.t(), out = out)\n",
            "/usr/local/lib/python3.11/dist-packages/unsloth/kernels/utils.py:665: UserWarning: An output with one or more elements was resized since it had shape [1, 12, 2560], which does not match the required output shape [12, 1, 2560]. This behavior is deprecated, and in a future PyTorch release outputs will not be resized unless they have zero elements. You can explicitly reuse an out tensor t by resizing it, inplace, to zero elements with t.resize_(0). (Triggered internally at /pytorch/aten/src/ATen/native/Resize.cpp:31.)\n",
            "  out = torch_matmul(X, W, out = out)\n",
            "/usr/local/lib/python3.11/dist-packages/unsloth/kernels/utils.py:660: UserWarning: An output with one or more elements was resized since it had shape [1, 12, 2560], which does not match the required output shape [12, 1, 2560]. This behavior is deprecated, and in a future PyTorch release outputs will not be resized unless they have zero elements. You can explicitly reuse an out tensor t by resizing it, inplace, to zero elements with t.resize_(0). (Triggered internally at /pytorch/aten/src/ATen/native/Resize.cpp:31.)\n",
            "  out = torch_matmul(X, W.t(), out = out)\n",
            "/usr/local/lib/python3.11/dist-packages/unsloth/kernels/utils.py:665: UserWarning: An output with one or more elements was resized since it had shape [1, 12, 2560], which does not match the required output shape [12, 1, 2560]. This behavior is deprecated, and in a future PyTorch release outputs will not be resized unless they have zero elements. You can explicitly reuse an out tensor t by resizing it, inplace, to zero elements with t.resize_(0). (Triggered internally at /pytorch/aten/src/ATen/native/Resize.cpp:31.)\n",
            "  out = torch_matmul(X, W, out = out)\n",
            "/usr/local/lib/python3.11/dist-packages/unsloth/kernels/utils.py:660: UserWarning: An output with one or more elements was resized since it had shape [1, 12, 2560], which does not match the required output shape [12, 1, 2560]. This behavior is deprecated, and in a future PyTorch release outputs will not be resized unless they have zero elements. You can explicitly reuse an out tensor t by resizing it, inplace, to zero elements with t.resize_(0). (Triggered internally at /pytorch/aten/src/ATen/native/Resize.cpp:31.)\n",
            "  out = torch_matmul(X, W.t(), out = out)\n",
            "/usr/local/lib/python3.11/dist-packages/unsloth/kernels/utils.py:665: UserWarning: An output with one or more elements was resized since it had shape [1, 12, 2560], which does not match the required output shape [12, 1, 2560]. This behavior is deprecated, and in a future PyTorch release outputs will not be resized unless they have zero elements. You can explicitly reuse an out tensor t by resizing it, inplace, to zero elements with t.resize_(0). (Triggered internally at /pytorch/aten/src/ATen/native/Resize.cpp:31.)\n",
            "  out = torch_matmul(X, W, out = out)\n",
            "/usr/local/lib/python3.11/dist-packages/unsloth/kernels/utils.py:660: UserWarning: An output with one or more elements was resized since it had shape [1, 12, 2560], which does not match the required output shape [12, 1, 2560]. This behavior is deprecated, and in a future PyTorch release outputs will not be resized unless they have zero elements. You can explicitly reuse an out tensor t by resizing it, inplace, to zero elements with t.resize_(0). (Triggered internally at /pytorch/aten/src/ATen/native/Resize.cpp:31.)\n",
            "  out = torch_matmul(X, W.t(), out = out)\n",
            "/usr/local/lib/python3.11/dist-packages/unsloth/kernels/utils.py:665: UserWarning: An output with one or more elements was resized since it had shape [1, 12, 2560], which does not match the required output shape [12, 1, 2560]. This behavior is deprecated, and in a future PyTorch release outputs will not be resized unless they have zero elements. You can explicitly reuse an out tensor t by resizing it, inplace, to zero elements with t.resize_(0). (Triggered internally at /pytorch/aten/src/ATen/native/Resize.cpp:31.)\n",
            "  out = torch_matmul(X, W, out = out)\n",
            "/usr/local/lib/python3.11/dist-packages/unsloth/kernels/utils.py:660: UserWarning: An output with one or more elements was resized since it had shape [1, 12, 2560], which does not match the required output shape [12, 1, 2560]. This behavior is deprecated, and in a future PyTorch release outputs will not be resized unless they have zero elements. You can explicitly reuse an out tensor t by resizing it, inplace, to zero elements with t.resize_(0). (Triggered internally at /pytorch/aten/src/ATen/native/Resize.cpp:31.)\n",
            "  out = torch_matmul(X, W.t(), out = out)\n",
            "/usr/local/lib/python3.11/dist-packages/unsloth/kernels/utils.py:665: UserWarning: An output with one or more elements was resized since it had shape [1, 12, 2560], which does not match the required output shape [12, 1, 2560]. This behavior is deprecated, and in a future PyTorch release outputs will not be resized unless they have zero elements. You can explicitly reuse an out tensor t by resizing it, inplace, to zero elements with t.resize_(0). (Triggered internally at /pytorch/aten/src/ATen/native/Resize.cpp:31.)\n",
            "  out = torch_matmul(X, W, out = out)\n",
            "/usr/local/lib/python3.11/dist-packages/unsloth/kernels/utils.py:660: UserWarning: An output with one or more elements was resized since it had shape [1, 12, 2560], which does not match the required output shape [12, 1, 2560]. This behavior is deprecated, and in a future PyTorch release outputs will not be resized unless they have zero elements. You can explicitly reuse an out tensor t by resizing it, inplace, to zero elements with t.resize_(0). (Triggered internally at /pytorch/aten/src/ATen/native/Resize.cpp:31.)\n",
            "  out = torch_matmul(X, W.t(), out = out)\n",
            "/usr/local/lib/python3.11/dist-packages/unsloth/kernels/utils.py:665: UserWarning: An output with one or more elements was resized since it had shape [1, 12, 2560], which does not match the required output shape [12, 1, 2560]. This behavior is deprecated, and in a future PyTorch release outputs will not be resized unless they have zero elements. You can explicitly reuse an out tensor t by resizing it, inplace, to zero elements with t.resize_(0). (Triggered internally at /pytorch/aten/src/ATen/native/Resize.cpp:31.)\n",
            "  out = torch_matmul(X, W, out = out)\n",
            "/usr/local/lib/python3.11/dist-packages/unsloth/kernels/utils.py:660: UserWarning: An output with one or more elements was resized since it had shape [1, 12, 2560], which does not match the required output shape [12, 1, 2560]. This behavior is deprecated, and in a future PyTorch release outputs will not be resized unless they have zero elements. You can explicitly reuse an out tensor t by resizing it, inplace, to zero elements with t.resize_(0). (Triggered internally at /pytorch/aten/src/ATen/native/Resize.cpp:31.)\n",
            "  out = torch_matmul(X, W.t(), out = out)\n",
            "/usr/local/lib/python3.11/dist-packages/unsloth/kernels/utils.py:665: UserWarning: An output with one or more elements was resized since it had shape [1, 12, 2560], which does not match the required output shape [12, 1, 2560]. This behavior is deprecated, and in a future PyTorch release outputs will not be resized unless they have zero elements. You can explicitly reuse an out tensor t by resizing it, inplace, to zero elements with t.resize_(0). (Triggered internally at /pytorch/aten/src/ATen/native/Resize.cpp:31.)\n",
            "  out = torch_matmul(X, W, out = out)\n",
            "/usr/local/lib/python3.11/dist-packages/unsloth/kernels/utils.py:660: UserWarning: An output with one or more elements was resized since it had shape [1, 12, 2560], which does not match the required output shape [12, 1, 2560]. This behavior is deprecated, and in a future PyTorch release outputs will not be resized unless they have zero elements. You can explicitly reuse an out tensor t by resizing it, inplace, to zero elements with t.resize_(0). (Triggered internally at /pytorch/aten/src/ATen/native/Resize.cpp:31.)\n",
            "  out = torch_matmul(X, W.t(), out = out)\n",
            "/usr/local/lib/python3.11/dist-packages/unsloth/kernels/utils.py:665: UserWarning: An output with one or more elements was resized since it had shape [1, 12, 2560], which does not match the required output shape [12, 1, 2560]. This behavior is deprecated, and in a future PyTorch release outputs will not be resized unless they have zero elements. You can explicitly reuse an out tensor t by resizing it, inplace, to zero elements with t.resize_(0). (Triggered internally at /pytorch/aten/src/ATen/native/Resize.cpp:31.)\n",
            "  out = torch_matmul(X, W, out = out)\n",
            "/usr/local/lib/python3.11/dist-packages/unsloth/kernels/utils.py:660: UserWarning: An output with one or more elements was resized since it had shape [1, 12, 2560], which does not match the required output shape [12, 1, 2560]. This behavior is deprecated, and in a future PyTorch release outputs will not be resized unless they have zero elements. You can explicitly reuse an out tensor t by resizing it, inplace, to zero elements with t.resize_(0). (Triggered internally at /pytorch/aten/src/ATen/native/Resize.cpp:31.)\n",
            "  out = torch_matmul(X, W.t(), out = out)\n",
            "/usr/local/lib/python3.11/dist-packages/unsloth/kernels/utils.py:665: UserWarning: An output with one or more elements was resized since it had shape [1, 12, 2560], which does not match the required output shape [12, 1, 2560]. This behavior is deprecated, and in a future PyTorch release outputs will not be resized unless they have zero elements. You can explicitly reuse an out tensor t by resizing it, inplace, to zero elements with t.resize_(0). (Triggered internally at /pytorch/aten/src/ATen/native/Resize.cpp:31.)\n",
            "  out = torch_matmul(X, W, out = out)\n",
            "/usr/local/lib/python3.11/dist-packages/unsloth/kernels/utils.py:660: UserWarning: An output with one or more elements was resized since it had shape [1, 12, 2560], which does not match the required output shape [12, 1, 2560]. This behavior is deprecated, and in a future PyTorch release outputs will not be resized unless they have zero elements. You can explicitly reuse an out tensor t by resizing it, inplace, to zero elements with t.resize_(0). (Triggered internally at /pytorch/aten/src/ATen/native/Resize.cpp:31.)\n",
            "  out = torch_matmul(X, W.t(), out = out)\n",
            "/usr/local/lib/python3.11/dist-packages/unsloth/kernels/utils.py:665: UserWarning: An output with one or more elements was resized since it had shape [1, 12, 2560], which does not match the required output shape [12, 1, 2560]. This behavior is deprecated, and in a future PyTorch release outputs will not be resized unless they have zero elements. You can explicitly reuse an out tensor t by resizing it, inplace, to zero elements with t.resize_(0). (Triggered internally at /pytorch/aten/src/ATen/native/Resize.cpp:31.)\n",
            "  out = torch_matmul(X, W, out = out)\n",
            "/usr/local/lib/python3.11/dist-packages/unsloth/kernels/utils.py:660: UserWarning: An output with one or more elements was resized since it had shape [1, 12, 2560], which does not match the required output shape [12, 1, 2560]. This behavior is deprecated, and in a future PyTorch release outputs will not be resized unless they have zero elements. You can explicitly reuse an out tensor t by resizing it, inplace, to zero elements with t.resize_(0). (Triggered internally at /pytorch/aten/src/ATen/native/Resize.cpp:31.)\n",
            "  out = torch_matmul(X, W.t(), out = out)\n",
            "/usr/local/lib/python3.11/dist-packages/unsloth/kernels/utils.py:665: UserWarning: An output with one or more elements was resized since it had shape [1, 12, 2560], which does not match the required output shape [12, 1, 2560]. This behavior is deprecated, and in a future PyTorch release outputs will not be resized unless they have zero elements. You can explicitly reuse an out tensor t by resizing it, inplace, to zero elements with t.resize_(0). (Triggered internally at /pytorch/aten/src/ATen/native/Resize.cpp:31.)\n",
            "  out = torch_matmul(X, W, out = out)\n",
            "/usr/local/lib/python3.11/dist-packages/unsloth/kernels/utils.py:660: UserWarning: An output with one or more elements was resized since it had shape [1, 12, 2560], which does not match the required output shape [12, 1, 2560]. This behavior is deprecated, and in a future PyTorch release outputs will not be resized unless they have zero elements. You can explicitly reuse an out tensor t by resizing it, inplace, to zero elements with t.resize_(0). (Triggered internally at /pytorch/aten/src/ATen/native/Resize.cpp:31.)\n",
            "  out = torch_matmul(X, W.t(), out = out)\n",
            "/usr/local/lib/python3.11/dist-packages/unsloth/kernels/utils.py:665: UserWarning: An output with one or more elements was resized since it had shape [1, 12, 2560], which does not match the required output shape [12, 1, 2560]. This behavior is deprecated, and in a future PyTorch release outputs will not be resized unless they have zero elements. You can explicitly reuse an out tensor t by resizing it, inplace, to zero elements with t.resize_(0). (Triggered internally at /pytorch/aten/src/ATen/native/Resize.cpp:31.)\n",
            "  out = torch_matmul(X, W, out = out)\n",
            "/usr/local/lib/python3.11/dist-packages/unsloth/kernels/utils.py:660: UserWarning: An output with one or more elements was resized since it had shape [1, 12, 2560], which does not match the required output shape [12, 1, 2560]. This behavior is deprecated, and in a future PyTorch release outputs will not be resized unless they have zero elements. You can explicitly reuse an out tensor t by resizing it, inplace, to zero elements with t.resize_(0). (Triggered internally at /pytorch/aten/src/ATen/native/Resize.cpp:31.)\n",
            "  out = torch_matmul(X, W.t(), out = out)\n",
            "/usr/local/lib/python3.11/dist-packages/unsloth/kernels/utils.py:665: UserWarning: An output with one or more elements was resized since it had shape [1, 12, 2560], which does not match the required output shape [12, 1, 2560]. This behavior is deprecated, and in a future PyTorch release outputs will not be resized unless they have zero elements. You can explicitly reuse an out tensor t by resizing it, inplace, to zero elements with t.resize_(0). (Triggered internally at /pytorch/aten/src/ATen/native/Resize.cpp:31.)\n",
            "  out = torch_matmul(X, W, out = out)\n",
            "/usr/local/lib/python3.11/dist-packages/unsloth/kernels/utils.py:660: UserWarning: An output with one or more elements was resized since it had shape [1, 12, 2560], which does not match the required output shape [12, 1, 2560]. This behavior is deprecated, and in a future PyTorch release outputs will not be resized unless they have zero elements. You can explicitly reuse an out tensor t by resizing it, inplace, to zero elements with t.resize_(0). (Triggered internally at /pytorch/aten/src/ATen/native/Resize.cpp:31.)\n",
            "  out = torch_matmul(X, W.t(), out = out)\n",
            "/usr/local/lib/python3.11/dist-packages/unsloth/kernels/utils.py:665: UserWarning: An output with one or more elements was resized since it had shape [1, 12, 2560], which does not match the required output shape [12, 1, 2560]. This behavior is deprecated, and in a future PyTorch release outputs will not be resized unless they have zero elements. You can explicitly reuse an out tensor t by resizing it, inplace, to zero elements with t.resize_(0). (Triggered internally at /pytorch/aten/src/ATen/native/Resize.cpp:31.)\n",
            "  out = torch_matmul(X, W, out = out)\n",
            "/usr/local/lib/python3.11/dist-packages/unsloth/kernels/utils.py:660: UserWarning: An output with one or more elements was resized since it had shape [1, 12, 2560], which does not match the required output shape [12, 1, 2560]. This behavior is deprecated, and in a future PyTorch release outputs will not be resized unless they have zero elements. You can explicitly reuse an out tensor t by resizing it, inplace, to zero elements with t.resize_(0). (Triggered internally at /pytorch/aten/src/ATen/native/Resize.cpp:31.)\n",
            "  out = torch_matmul(X, W.t(), out = out)\n",
            "/usr/local/lib/python3.11/dist-packages/unsloth/kernels/utils.py:665: UserWarning: An output with one or more elements was resized since it had shape [1, 12, 2560], which does not match the required output shape [12, 1, 2560]. This behavior is deprecated, and in a future PyTorch release outputs will not be resized unless they have zero elements. You can explicitly reuse an out tensor t by resizing it, inplace, to zero elements with t.resize_(0). (Triggered internally at /pytorch/aten/src/ATen/native/Resize.cpp:31.)\n",
            "  out = torch_matmul(X, W, out = out)\n",
            "/usr/local/lib/python3.11/dist-packages/unsloth/kernels/utils.py:660: UserWarning: An output with one or more elements was resized since it had shape [1, 12, 2560], which does not match the required output shape [12, 1, 2560]. This behavior is deprecated, and in a future PyTorch release outputs will not be resized unless they have zero elements. You can explicitly reuse an out tensor t by resizing it, inplace, to zero elements with t.resize_(0). (Triggered internally at /pytorch/aten/src/ATen/native/Resize.cpp:31.)\n",
            "  out = torch_matmul(X, W.t(), out = out)\n",
            "/usr/local/lib/python3.11/dist-packages/unsloth/kernels/utils.py:665: UserWarning: An output with one or more elements was resized since it had shape [1, 12, 2560], which does not match the required output shape [12, 1, 2560]. This behavior is deprecated, and in a future PyTorch release outputs will not be resized unless they have zero elements. You can explicitly reuse an out tensor t by resizing it, inplace, to zero elements with t.resize_(0). (Triggered internally at /pytorch/aten/src/ATen/native/Resize.cpp:31.)\n",
            "  out = torch_matmul(X, W, out = out)\n"
          ]
        },
        {
          "ename": "KeyboardInterrupt",
          "evalue": "",
          "output_type": "error",
          "traceback": [
            "\u001b[0;31m---------------------------------------------------------------------------\u001b[0m",
            "\u001b[0;31mKeyboardInterrupt\u001b[0m                         Traceback (most recent call last)",
            "\u001b[0;32m/tmp/ipython-input-3946204205.py\u001b[0m in \u001b[0;36m<cell line: 0>\u001b[0;34m()\u001b[0m\n\u001b[1;32m      1\u001b[0m \u001b[0mprint\u001b[0m\u001b[0;34m(\u001b[0m\u001b[0;34m\"\\nStarting GRPO training...\"\u001b[0m\u001b[0;34m)\u001b[0m\u001b[0;34m\u001b[0m\u001b[0;34m\u001b[0m\u001b[0m\n\u001b[0;32m----> 2\u001b[0;31m \u001b[0mtrainer\u001b[0m\u001b[0;34m.\u001b[0m\u001b[0mtrain\u001b[0m\u001b[0;34m(\u001b[0m\u001b[0;34m)\u001b[0m\u001b[0;34m\u001b[0m\u001b[0;34m\u001b[0m\u001b[0m\n\u001b[0m",
            "\u001b[0;32m/usr/local/lib/python3.11/dist-packages/transformers/trainer.py\u001b[0m in \u001b[0;36mtrain\u001b[0;34m(self, resume_from_checkpoint, trial, ignore_keys_for_eval, **kwargs)\u001b[0m\n\u001b[1;32m   2236\u001b[0m                 \u001b[0mhf_hub_utils\u001b[0m\u001b[0;34m.\u001b[0m\u001b[0menable_progress_bars\u001b[0m\u001b[0;34m(\u001b[0m\u001b[0;34m)\u001b[0m\u001b[0;34m\u001b[0m\u001b[0;34m\u001b[0m\u001b[0m\n\u001b[1;32m   2237\u001b[0m         \u001b[0;32melse\u001b[0m\u001b[0;34m:\u001b[0m\u001b[0;34m\u001b[0m\u001b[0;34m\u001b[0m\u001b[0m\n\u001b[0;32m-> 2238\u001b[0;31m             return inner_training_loop(\n\u001b[0m\u001b[1;32m   2239\u001b[0m                 \u001b[0margs\u001b[0m\u001b[0;34m=\u001b[0m\u001b[0margs\u001b[0m\u001b[0;34m,\u001b[0m\u001b[0;34m\u001b[0m\u001b[0;34m\u001b[0m\u001b[0m\n\u001b[1;32m   2240\u001b[0m                 \u001b[0mresume_from_checkpoint\u001b[0m\u001b[0;34m=\u001b[0m\u001b[0mresume_from_checkpoint\u001b[0m\u001b[0;34m,\u001b[0m\u001b[0;34m\u001b[0m\u001b[0;34m\u001b[0m\u001b[0m\n",
            "\u001b[0;32m/usr/local/lib/python3.11/dist-packages/accelerate/utils/memory.py\u001b[0m in \u001b[0;36mdecorator\u001b[0;34m(*args, **kwargs)\u001b[0m\n\u001b[1;32m    172\u001b[0m                 \u001b[0;32mraise\u001b[0m \u001b[0mRuntimeError\u001b[0m\u001b[0;34m(\u001b[0m\u001b[0;34m\"No executable batch size found, reached zero.\"\u001b[0m\u001b[0;34m)\u001b[0m\u001b[0;34m\u001b[0m\u001b[0;34m\u001b[0m\u001b[0m\n\u001b[1;32m    173\u001b[0m             \u001b[0;32mtry\u001b[0m\u001b[0;34m:\u001b[0m\u001b[0;34m\u001b[0m\u001b[0;34m\u001b[0m\u001b[0m\n\u001b[0;32m--> 174\u001b[0;31m                 \u001b[0;32mreturn\u001b[0m \u001b[0mfunction\u001b[0m\u001b[0;34m(\u001b[0m\u001b[0mbatch_size\u001b[0m\u001b[0;34m,\u001b[0m \u001b[0;34m*\u001b[0m\u001b[0margs\u001b[0m\u001b[0;34m,\u001b[0m \u001b[0;34m**\u001b[0m\u001b[0mkwargs\u001b[0m\u001b[0;34m)\u001b[0m\u001b[0;34m\u001b[0m\u001b[0;34m\u001b[0m\u001b[0m\n\u001b[0m\u001b[1;32m    175\u001b[0m             \u001b[0;32mexcept\u001b[0m \u001b[0mException\u001b[0m \u001b[0;32mas\u001b[0m \u001b[0me\u001b[0m\u001b[0;34m:\u001b[0m\u001b[0;34m\u001b[0m\u001b[0;34m\u001b[0m\u001b[0m\n\u001b[1;32m    176\u001b[0m                 \u001b[0;32mif\u001b[0m \u001b[0mshould_reduce_batch_size\u001b[0m\u001b[0;34m(\u001b[0m\u001b[0me\u001b[0m\u001b[0;34m)\u001b[0m\u001b[0;34m:\u001b[0m\u001b[0;34m\u001b[0m\u001b[0;34m\u001b[0m\u001b[0m\n",
            "\u001b[0;32m/usr/local/lib/python3.11/dist-packages/unsloth/models/llama.py\u001b[0m in \u001b[0;36m_fast_inner_training_loop\u001b[0;34m(self, batch_size, args, resume_from_checkpoint, trial, ignore_keys_for_eval)\u001b[0m\n",
            "\u001b[0;32m/usr/local/lib/python3.11/dist-packages/unsloth/models/_utils.py\u001b[0m in \u001b[0;36m_unsloth_training_step\u001b[0;34m(self, model, inputs, num_items_in_batch)\u001b[0m\n",
            "\u001b[0;32m/usr/local/lib/python3.11/dist-packages/trl/extras/profiling.py\u001b[0m in \u001b[0;36mwrapper\u001b[0;34m(self, *args, **kwargs)\u001b[0m\n\u001b[1;32m     96\u001b[0m     \u001b[0;32mdef\u001b[0m \u001b[0mwrapper\u001b[0m\u001b[0;34m(\u001b[0m\u001b[0mself\u001b[0m\u001b[0;34m,\u001b[0m \u001b[0;34m*\u001b[0m\u001b[0margs\u001b[0m\u001b[0;34m,\u001b[0m \u001b[0;34m**\u001b[0m\u001b[0mkwargs\u001b[0m\u001b[0;34m)\u001b[0m\u001b[0;34m:\u001b[0m\u001b[0;34m\u001b[0m\u001b[0;34m\u001b[0m\u001b[0m\n\u001b[1;32m     97\u001b[0m         \u001b[0;32mwith\u001b[0m \u001b[0mprofiling_context\u001b[0m\u001b[0;34m(\u001b[0m\u001b[0mself\u001b[0m\u001b[0;34m,\u001b[0m \u001b[0mfunc\u001b[0m\u001b[0;34m.\u001b[0m\u001b[0m__name__\u001b[0m\u001b[0;34m)\u001b[0m\u001b[0;34m:\u001b[0m\u001b[0;34m\u001b[0m\u001b[0;34m\u001b[0m\u001b[0m\n\u001b[0;32m---> 98\u001b[0;31m             \u001b[0;32mreturn\u001b[0m \u001b[0mfunc\u001b[0m\u001b[0;34m(\u001b[0m\u001b[0mself\u001b[0m\u001b[0;34m,\u001b[0m \u001b[0;34m*\u001b[0m\u001b[0margs\u001b[0m\u001b[0;34m,\u001b[0m \u001b[0;34m**\u001b[0m\u001b[0mkwargs\u001b[0m\u001b[0;34m)\u001b[0m\u001b[0;34m\u001b[0m\u001b[0;34m\u001b[0m\u001b[0m\n\u001b[0m\u001b[1;32m     99\u001b[0m \u001b[0;34m\u001b[0m\u001b[0m\n\u001b[1;32m    100\u001b[0m     \u001b[0;32mreturn\u001b[0m \u001b[0mwrapper\u001b[0m\u001b[0;34m\u001b[0m\u001b[0;34m\u001b[0m\u001b[0m\n",
            "\u001b[0;32m/content/unsloth_compiled_cache/UnslothGRPOTrainer.py\u001b[0m in \u001b[0;36m_prepare_inputs\u001b[0;34m(self, generation_batch)\u001b[0m\n\u001b[1;32m   1798\u001b[0m             \u001b[0;32mif\u001b[0m \u001b[0mself\u001b[0m\u001b[0;34m.\u001b[0m\u001b[0m_step\u001b[0m \u001b[0;34m%\u001b[0m \u001b[0mgenerate_every\u001b[0m \u001b[0;34m==\u001b[0m \u001b[0;36m0\u001b[0m \u001b[0;32mor\u001b[0m \u001b[0mself\u001b[0m\u001b[0;34m.\u001b[0m\u001b[0m_buffered_inputs\u001b[0m \u001b[0;32mis\u001b[0m \u001b[0;32mNone\u001b[0m\u001b[0;34m:\u001b[0m\u001b[0;34m\u001b[0m\u001b[0;34m\u001b[0m\u001b[0m\n\u001b[1;32m   1799\u001b[0m                 \u001b[0;31m# self._buffered_inputs=None can occur when resuming from a checkpoint\u001b[0m\u001b[0;34m\u001b[0m\u001b[0;34m\u001b[0m\u001b[0m\n\u001b[0;32m-> 1800\u001b[0;31m                 \u001b[0mgeneration_batch\u001b[0m \u001b[0;34m=\u001b[0m \u001b[0mself\u001b[0m\u001b[0;34m.\u001b[0m\u001b[0m_generate_and_score_completions\u001b[0m\u001b[0;34m(\u001b[0m\u001b[0mgeneration_batch\u001b[0m\u001b[0;34m)\u001b[0m\u001b[0;34m\u001b[0m\u001b[0;34m\u001b[0m\u001b[0m\n\u001b[0m\u001b[1;32m   1801\u001b[0m                 \u001b[0mgeneration_batch\u001b[0m \u001b[0;34m=\u001b[0m \u001b[0msplit_pixel_values_by_grid\u001b[0m\u001b[0;34m(\u001b[0m\u001b[0mgeneration_batch\u001b[0m\u001b[0;34m)\u001b[0m\u001b[0;34m\u001b[0m\u001b[0;34m\u001b[0m\u001b[0m\n\u001b[1;32m   1802\u001b[0m                 \u001b[0mgeneration_batch\u001b[0m \u001b[0;34m=\u001b[0m \u001b[0mshuffle_sequence_dict\u001b[0m\u001b[0;34m(\u001b[0m\u001b[0mgeneration_batch\u001b[0m\u001b[0;34m)\u001b[0m\u001b[0;34m\u001b[0m\u001b[0;34m\u001b[0m\u001b[0m\n",
            "\u001b[0;32m/content/unsloth_compiled_cache/UnslothGRPOTrainer.py\u001b[0m in \u001b[0;36m_generate_and_score_completions\u001b[0;34m(self, inputs)\u001b[0m\n\u001b[1;32m   2094\u001b[0m             ):\n\u001b[1;32m   2095\u001b[0m                 \u001b[0mprompt_inputs\u001b[0m\u001b[0;34m[\u001b[0m\u001b[0;34m\"input_ids\"\u001b[0m\u001b[0;34m]\u001b[0m\u001b[0;34m,\u001b[0m \u001b[0mprompt_inputs\u001b[0m\u001b[0;34m[\u001b[0m\u001b[0;34m\"attention_mask\"\u001b[0m\u001b[0;34m]\u001b[0m \u001b[0;34m=\u001b[0m \u001b[0mprompt_ids\u001b[0m\u001b[0;34m,\u001b[0m \u001b[0mprompt_mask\u001b[0m\u001b[0;34m\u001b[0m\u001b[0;34m\u001b[0m\u001b[0m\n\u001b[0;32m-> 2096\u001b[0;31m                 prompt_completion_ids = unwrapped_model.generate(\n\u001b[0m\u001b[1;32m   2097\u001b[0m                     \u001b[0;34m**\u001b[0m\u001b[0mprompt_inputs\u001b[0m\u001b[0;34m,\u001b[0m \u001b[0mgeneration_config\u001b[0m\u001b[0;34m=\u001b[0m\u001b[0mself\u001b[0m\u001b[0;34m.\u001b[0m\u001b[0mgeneration_config\u001b[0m\u001b[0;34m,\u001b[0m \u001b[0mdisable_compile\u001b[0m\u001b[0;34m=\u001b[0m\u001b[0;32mTrue\u001b[0m\u001b[0;34m\u001b[0m\u001b[0;34m\u001b[0m\u001b[0m\n\u001b[1;32m   2098\u001b[0m                 )\n",
            "\u001b[0;32m/usr/local/lib/python3.11/dist-packages/unsloth/models/rl.py\u001b[0m in \u001b[0;36mgenerate_with_clone\u001b[0;34m(*args, **kwargs)\u001b[0m\n\u001b[1;32m     68\u001b[0m             \u001b[0moriginal_generate\u001b[0m \u001b[0;34m=\u001b[0m \u001b[0munwrapped_model\u001b[0m\u001b[0;34m.\u001b[0m\u001b[0mgenerate\u001b[0m\u001b[0;34m\u001b[0m\u001b[0;34m\u001b[0m\u001b[0m\n\u001b[1;32m     69\u001b[0m             \u001b[0;32mdef\u001b[0m \u001b[0mgenerate_with_clone\u001b[0m\u001b[0;34m(\u001b[0m\u001b[0;34m*\u001b[0m\u001b[0margs\u001b[0m\u001b[0;34m,\u001b[0m \u001b[0;34m**\u001b[0m\u001b[0mkwargs\u001b[0m\u001b[0;34m)\u001b[0m\u001b[0;34m:\u001b[0m\u001b[0;34m\u001b[0m\u001b[0;34m\u001b[0m\u001b[0m\n\u001b[0;32m---> 70\u001b[0;31m                 \u001b[0mout\u001b[0m \u001b[0;34m=\u001b[0m \u001b[0moriginal_generate\u001b[0m\u001b[0;34m(\u001b[0m\u001b[0;34m*\u001b[0m\u001b[0margs\u001b[0m\u001b[0;34m,\u001b[0m \u001b[0;34m**\u001b[0m\u001b[0mkwargs\u001b[0m\u001b[0;34m)\u001b[0m\u001b[0;34m\u001b[0m\u001b[0;34m\u001b[0m\u001b[0m\n\u001b[0m\u001b[1;32m     71\u001b[0m                 \u001b[0;32mif\u001b[0m \u001b[0misinstance\u001b[0m\u001b[0;34m(\u001b[0m\u001b[0mout\u001b[0m\u001b[0;34m,\u001b[0m \u001b[0mtorch\u001b[0m\u001b[0;34m.\u001b[0m\u001b[0mTensor\u001b[0m\u001b[0;34m)\u001b[0m\u001b[0;34m:\u001b[0m\u001b[0;34m\u001b[0m\u001b[0;34m\u001b[0m\u001b[0m\n\u001b[1;32m     72\u001b[0m                     \u001b[0;32mreturn\u001b[0m \u001b[0mout\u001b[0m\u001b[0;34m.\u001b[0m\u001b[0mclone\u001b[0m\u001b[0;34m(\u001b[0m\u001b[0;34m)\u001b[0m\u001b[0;34m\u001b[0m\u001b[0;34m\u001b[0m\u001b[0m\n",
            "\u001b[0;32m/usr/local/lib/python3.11/dist-packages/peft/peft_model.py\u001b[0m in \u001b[0;36mgenerate\u001b[0;34m(self, *args, **kwargs)\u001b[0m\n\u001b[1;32m   1971\u001b[0m                 \u001b[0;32mwith\u001b[0m \u001b[0mself\u001b[0m\u001b[0;34m.\u001b[0m\u001b[0m_enable_peft_forward_hooks\u001b[0m\u001b[0;34m(\u001b[0m\u001b[0;34m*\u001b[0m\u001b[0margs\u001b[0m\u001b[0;34m,\u001b[0m \u001b[0;34m**\u001b[0m\u001b[0mkwargs\u001b[0m\u001b[0;34m)\u001b[0m\u001b[0;34m:\u001b[0m\u001b[0;34m\u001b[0m\u001b[0;34m\u001b[0m\u001b[0m\n\u001b[1;32m   1972\u001b[0m                     \u001b[0mkwargs\u001b[0m \u001b[0;34m=\u001b[0m \u001b[0;34m{\u001b[0m\u001b[0mk\u001b[0m\u001b[0;34m:\u001b[0m \u001b[0mv\u001b[0m \u001b[0;32mfor\u001b[0m \u001b[0mk\u001b[0m\u001b[0;34m,\u001b[0m \u001b[0mv\u001b[0m \u001b[0;32min\u001b[0m \u001b[0mkwargs\u001b[0m\u001b[0;34m.\u001b[0m\u001b[0mitems\u001b[0m\u001b[0;34m(\u001b[0m\u001b[0;34m)\u001b[0m \u001b[0;32mif\u001b[0m \u001b[0mk\u001b[0m \u001b[0;32mnot\u001b[0m \u001b[0;32min\u001b[0m \u001b[0mself\u001b[0m\u001b[0;34m.\u001b[0m\u001b[0mspecial_peft_forward_args\u001b[0m\u001b[0;34m}\u001b[0m\u001b[0;34m\u001b[0m\u001b[0;34m\u001b[0m\u001b[0m\n\u001b[0;32m-> 1973\u001b[0;31m                     \u001b[0moutputs\u001b[0m \u001b[0;34m=\u001b[0m \u001b[0mself\u001b[0m\u001b[0;34m.\u001b[0m\u001b[0mbase_model\u001b[0m\u001b[0;34m.\u001b[0m\u001b[0mgenerate\u001b[0m\u001b[0;34m(\u001b[0m\u001b[0;34m*\u001b[0m\u001b[0margs\u001b[0m\u001b[0;34m,\u001b[0m \u001b[0;34m**\u001b[0m\u001b[0mkwargs\u001b[0m\u001b[0;34m)\u001b[0m\u001b[0;34m\u001b[0m\u001b[0;34m\u001b[0m\u001b[0m\n\u001b[0m\u001b[1;32m   1974\u001b[0m             \u001b[0;32melse\u001b[0m\u001b[0;34m:\u001b[0m\u001b[0;34m\u001b[0m\u001b[0;34m\u001b[0m\u001b[0m\n\u001b[1;32m   1975\u001b[0m                 \u001b[0moutputs\u001b[0m \u001b[0;34m=\u001b[0m \u001b[0mself\u001b[0m\u001b[0;34m.\u001b[0m\u001b[0mbase_model\u001b[0m\u001b[0;34m.\u001b[0m\u001b[0mgenerate\u001b[0m\u001b[0;34m(\u001b[0m\u001b[0;34m**\u001b[0m\u001b[0mkwargs\u001b[0m\u001b[0;34m)\u001b[0m\u001b[0;34m\u001b[0m\u001b[0;34m\u001b[0m\u001b[0m\n",
            "\u001b[0;32m/usr/local/lib/python3.11/dist-packages/unsloth/models/llama.py\u001b[0m in \u001b[0;36munsloth_fast_generate\u001b[0;34m(self, *args, **kwargs)\u001b[0m\n\u001b[1;32m   1752\u001b[0m     \u001b[0;31m# Mixed precision autocast\u001b[0m\u001b[0;34m\u001b[0m\u001b[0;34m\u001b[0m\u001b[0m\n\u001b[1;32m   1753\u001b[0m     \u001b[0;32mwith\u001b[0m \u001b[0mtorch\u001b[0m\u001b[0;34m.\u001b[0m\u001b[0minference_mode\u001b[0m\u001b[0;34m(\u001b[0m\u001b[0;34m)\u001b[0m\u001b[0;34m,\u001b[0m \u001b[0mtorch\u001b[0m\u001b[0;34m.\u001b[0m\u001b[0mautocast\u001b[0m\u001b[0;34m(\u001b[0m\u001b[0mdevice_type\u001b[0m \u001b[0;34m=\u001b[0m \u001b[0mDEVICE_TYPE\u001b[0m\u001b[0;34m,\u001b[0m \u001b[0mdtype\u001b[0m \u001b[0;34m=\u001b[0m \u001b[0mdtype\u001b[0m\u001b[0;34m)\u001b[0m\u001b[0;34m:\u001b[0m\u001b[0;34m\u001b[0m\u001b[0;34m\u001b[0m\u001b[0m\n\u001b[0;32m-> 1754\u001b[0;31m         \u001b[0moutput\u001b[0m \u001b[0;34m=\u001b[0m \u001b[0mself\u001b[0m\u001b[0;34m.\u001b[0m\u001b[0m_old_generate\u001b[0m\u001b[0;34m(\u001b[0m\u001b[0;34m*\u001b[0m\u001b[0margs\u001b[0m\u001b[0;34m,\u001b[0m \u001b[0;34m**\u001b[0m\u001b[0mkwargs\u001b[0m\u001b[0;34m)\u001b[0m\u001b[0;34m\u001b[0m\u001b[0;34m\u001b[0m\u001b[0m\n\u001b[0m\u001b[1;32m   1755\u001b[0m     \u001b[0;32mpass\u001b[0m\u001b[0;34m\u001b[0m\u001b[0;34m\u001b[0m\u001b[0m\n\u001b[1;32m   1756\u001b[0m \u001b[0;34m\u001b[0m\u001b[0m\n",
            "\u001b[0;32m/usr/local/lib/python3.11/dist-packages/torch/utils/_contextlib.py\u001b[0m in \u001b[0;36mdecorate_context\u001b[0;34m(*args, **kwargs)\u001b[0m\n\u001b[1;32m    118\u001b[0m     \u001b[0;32mdef\u001b[0m \u001b[0mdecorate_context\u001b[0m\u001b[0;34m(\u001b[0m\u001b[0;34m*\u001b[0m\u001b[0margs\u001b[0m\u001b[0;34m,\u001b[0m \u001b[0;34m**\u001b[0m\u001b[0mkwargs\u001b[0m\u001b[0;34m)\u001b[0m\u001b[0;34m:\u001b[0m\u001b[0;34m\u001b[0m\u001b[0;34m\u001b[0m\u001b[0m\n\u001b[1;32m    119\u001b[0m         \u001b[0;32mwith\u001b[0m \u001b[0mctx_factory\u001b[0m\u001b[0;34m(\u001b[0m\u001b[0;34m)\u001b[0m\u001b[0;34m:\u001b[0m\u001b[0;34m\u001b[0m\u001b[0;34m\u001b[0m\u001b[0m\n\u001b[0;32m--> 120\u001b[0;31m             \u001b[0;32mreturn\u001b[0m \u001b[0mfunc\u001b[0m\u001b[0;34m(\u001b[0m\u001b[0;34m*\u001b[0m\u001b[0margs\u001b[0m\u001b[0;34m,\u001b[0m \u001b[0;34m**\u001b[0m\u001b[0mkwargs\u001b[0m\u001b[0;34m)\u001b[0m\u001b[0;34m\u001b[0m\u001b[0;34m\u001b[0m\u001b[0m\n\u001b[0m\u001b[1;32m    121\u001b[0m \u001b[0;34m\u001b[0m\u001b[0m\n\u001b[1;32m    122\u001b[0m     \u001b[0;32mreturn\u001b[0m \u001b[0mdecorate_context\u001b[0m\u001b[0;34m\u001b[0m\u001b[0;34m\u001b[0m\u001b[0m\n",
            "\u001b[0;32m/usr/local/lib/python3.11/dist-packages/transformers/generation/utils.py\u001b[0m in \u001b[0;36mgenerate\u001b[0;34m(self, inputs, generation_config, logits_processor, stopping_criteria, prefix_allowed_tokens_fn, synced_gpus, assistant_model, streamer, negative_prompt_ids, negative_prompt_attention_mask, use_model_defaults, custom_generate, **kwargs)\u001b[0m\n\u001b[1;32m   2626\u001b[0m \u001b[0;34m\u001b[0m\u001b[0m\n\u001b[1;32m   2627\u001b[0m             \u001b[0;31m# 12. run sample (it degenerates to greedy search when `generation_config.do_sample=False`)\u001b[0m\u001b[0;34m\u001b[0m\u001b[0;34m\u001b[0m\u001b[0m\n\u001b[0;32m-> 2628\u001b[0;31m             result = self._sample(\n\u001b[0m\u001b[1;32m   2629\u001b[0m                 \u001b[0minput_ids\u001b[0m\u001b[0;34m,\u001b[0m\u001b[0;34m\u001b[0m\u001b[0;34m\u001b[0m\u001b[0m\n\u001b[1;32m   2630\u001b[0m                 \u001b[0mlogits_processor\u001b[0m\u001b[0;34m=\u001b[0m\u001b[0mprepared_logits_processor\u001b[0m\u001b[0;34m,\u001b[0m\u001b[0;34m\u001b[0m\u001b[0;34m\u001b[0m\u001b[0m\n",
            "\u001b[0;32m/usr/local/lib/python3.11/dist-packages/transformers/generation/utils.py\u001b[0m in \u001b[0;36m_sample\u001b[0;34m(self, input_ids, logits_processor, stopping_criteria, generation_config, synced_gpus, streamer, **model_kwargs)\u001b[0m\n\u001b[1;32m   3610\u001b[0m                 \u001b[0mis_prefill\u001b[0m \u001b[0;34m=\u001b[0m \u001b[0;32mFalse\u001b[0m\u001b[0;34m\u001b[0m\u001b[0;34m\u001b[0m\u001b[0m\n\u001b[1;32m   3611\u001b[0m             \u001b[0;32melse\u001b[0m\u001b[0;34m:\u001b[0m\u001b[0;34m\u001b[0m\u001b[0;34m\u001b[0m\u001b[0m\n\u001b[0;32m-> 3612\u001b[0;31m                 \u001b[0moutputs\u001b[0m \u001b[0;34m=\u001b[0m \u001b[0mmodel_forward\u001b[0m\u001b[0;34m(\u001b[0m\u001b[0;34m**\u001b[0m\u001b[0mmodel_inputs\u001b[0m\u001b[0;34m,\u001b[0m \u001b[0mreturn_dict\u001b[0m\u001b[0;34m=\u001b[0m\u001b[0;32mTrue\u001b[0m\u001b[0;34m)\u001b[0m\u001b[0;34m\u001b[0m\u001b[0;34m\u001b[0m\u001b[0m\n\u001b[0m\u001b[1;32m   3613\u001b[0m \u001b[0;34m\u001b[0m\u001b[0m\n\u001b[1;32m   3614\u001b[0m             \u001b[0;31m# synced_gpus: don't waste resources running the code we don't need; kwargs must be updated before skipping\u001b[0m\u001b[0;34m\u001b[0m\u001b[0;34m\u001b[0m\u001b[0m\n",
            "\u001b[0;32m/usr/local/lib/python3.11/dist-packages/torch/nn/modules/module.py\u001b[0m in \u001b[0;36m_wrapped_call_impl\u001b[0;34m(self, *args, **kwargs)\u001b[0m\n\u001b[1;32m   1771\u001b[0m             \u001b[0;32mreturn\u001b[0m \u001b[0mself\u001b[0m\u001b[0;34m.\u001b[0m\u001b[0m_compiled_call_impl\u001b[0m\u001b[0;34m(\u001b[0m\u001b[0;34m*\u001b[0m\u001b[0margs\u001b[0m\u001b[0;34m,\u001b[0m \u001b[0;34m**\u001b[0m\u001b[0mkwargs\u001b[0m\u001b[0;34m)\u001b[0m  \u001b[0;31m# type: ignore[misc]\u001b[0m\u001b[0;34m\u001b[0m\u001b[0;34m\u001b[0m\u001b[0m\n\u001b[1;32m   1772\u001b[0m         \u001b[0;32melse\u001b[0m\u001b[0;34m:\u001b[0m\u001b[0;34m\u001b[0m\u001b[0;34m\u001b[0m\u001b[0m\n\u001b[0;32m-> 1773\u001b[0;31m             \u001b[0;32mreturn\u001b[0m \u001b[0mself\u001b[0m\u001b[0;34m.\u001b[0m\u001b[0m_call_impl\u001b[0m\u001b[0;34m(\u001b[0m\u001b[0;34m*\u001b[0m\u001b[0margs\u001b[0m\u001b[0;34m,\u001b[0m \u001b[0;34m**\u001b[0m\u001b[0mkwargs\u001b[0m\u001b[0;34m)\u001b[0m\u001b[0;34m\u001b[0m\u001b[0;34m\u001b[0m\u001b[0m\n\u001b[0m\u001b[1;32m   1774\u001b[0m \u001b[0;34m\u001b[0m\u001b[0m\n\u001b[1;32m   1775\u001b[0m     \u001b[0;31m# torchrec tests the code consistency with the following code\u001b[0m\u001b[0;34m\u001b[0m\u001b[0;34m\u001b[0m\u001b[0m\n",
            "\u001b[0;32m/usr/local/lib/python3.11/dist-packages/torch/nn/modules/module.py\u001b[0m in \u001b[0;36m_call_impl\u001b[0;34m(self, *args, **kwargs)\u001b[0m\n\u001b[1;32m   1782\u001b[0m                 \u001b[0;32mor\u001b[0m \u001b[0m_global_backward_pre_hooks\u001b[0m \u001b[0;32mor\u001b[0m \u001b[0m_global_backward_hooks\u001b[0m\u001b[0;34m\u001b[0m\u001b[0;34m\u001b[0m\u001b[0m\n\u001b[1;32m   1783\u001b[0m                 or _global_forward_hooks or _global_forward_pre_hooks):\n\u001b[0;32m-> 1784\u001b[0;31m             \u001b[0;32mreturn\u001b[0m \u001b[0mforward_call\u001b[0m\u001b[0;34m(\u001b[0m\u001b[0;34m*\u001b[0m\u001b[0margs\u001b[0m\u001b[0;34m,\u001b[0m \u001b[0;34m**\u001b[0m\u001b[0mkwargs\u001b[0m\u001b[0;34m)\u001b[0m\u001b[0;34m\u001b[0m\u001b[0;34m\u001b[0m\u001b[0m\n\u001b[0m\u001b[1;32m   1785\u001b[0m \u001b[0;34m\u001b[0m\u001b[0m\n\u001b[1;32m   1786\u001b[0m         \u001b[0mresult\u001b[0m \u001b[0;34m=\u001b[0m \u001b[0;32mNone\u001b[0m\u001b[0;34m\u001b[0m\u001b[0;34m\u001b[0m\u001b[0m\n",
            "\u001b[0;32m/usr/local/lib/python3.11/dist-packages/unsloth/models/llama.py\u001b[0m in \u001b[0;36m_CausalLM_fast_forward\u001b[0;34m(self, input_ids, causal_mask, attention_mask, position_ids, past_key_values, inputs_embeds, labels, use_cache, output_attentions, output_hidden_states, return_dict, num_logits_to_keep, logits_to_keep, *args, **kwargs)\u001b[0m\n\u001b[1;32m   1124\u001b[0m     ) -> Union[Tuple, CausalLMOutputWithPast]:\n\u001b[1;32m   1125\u001b[0m         \u001b[0;32mif\u001b[0m \u001b[0mpast_key_values\u001b[0m \u001b[0;32mis\u001b[0m \u001b[0;32mnot\u001b[0m \u001b[0;32mNone\u001b[0m\u001b[0;34m:\u001b[0m\u001b[0;34m\u001b[0m\u001b[0;34m\u001b[0m\u001b[0m\n\u001b[0;32m-> 1126\u001b[0;31m             outputs = fast_forward_inference(\n\u001b[0m\u001b[1;32m   1127\u001b[0m                 \u001b[0mself\u001b[0m\u001b[0;34m,\u001b[0m\u001b[0;34m\u001b[0m\u001b[0;34m\u001b[0m\u001b[0m\n\u001b[1;32m   1128\u001b[0m                 \u001b[0minput_ids\u001b[0m\u001b[0;34m,\u001b[0m\u001b[0;34m\u001b[0m\u001b[0;34m\u001b[0m\u001b[0m\n",
            "\u001b[0;32m/usr/local/lib/python3.11/dist-packages/unsloth/models/llama.py\u001b[0m in \u001b[0;36mLlamaModel_fast_forward_inference_custom\u001b[0;34m(self, input_ids, past_key_values, position_ids, attention_mask)\u001b[0m\n\u001b[1;32m   1057\u001b[0m                 \u001b[0mvariance\u001b[0m \u001b[0;34m=\u001b[0m \u001b[0mvariance\u001b[0m\u001b[0;34m,\u001b[0m\u001b[0;34m\u001b[0m\u001b[0;34m\u001b[0m\u001b[0m\n\u001b[1;32m   1058\u001b[0m             )\n\u001b[0;32m-> 1059\u001b[0;31m             X, present_key_value = attention_fast_forward_inference(\n\u001b[0m\u001b[1;32m   1060\u001b[0m                 \u001b[0mdecoder_layer\u001b[0m\u001b[0;34m.\u001b[0m\u001b[0mself_attn\u001b[0m\u001b[0;34m,\u001b[0m\u001b[0;34m\u001b[0m\u001b[0;34m\u001b[0m\u001b[0m\n\u001b[1;32m   1061\u001b[0m                 \u001b[0mhidden_states\u001b[0m \u001b[0;34m=\u001b[0m \u001b[0mX\u001b[0m\u001b[0;34m,\u001b[0m\u001b[0;34m\u001b[0m\u001b[0;34m\u001b[0m\u001b[0m\n",
            "\u001b[0;32m/usr/local/lib/python3.11/dist-packages/unsloth/models/qwen3.py\u001b[0m in \u001b[0;36mQwen3Attention_fast_forward_inference\u001b[0;34m(self, hidden_states, past_key_value, position_ids, do_prefill, attention_mask)\u001b[0m\n\u001b[1;32m    288\u001b[0m \u001b[0;34m\u001b[0m\u001b[0m\n\u001b[1;32m    289\u001b[0m     \u001b[0mQn\u001b[0m \u001b[0;34m=\u001b[0m \u001b[0mfast_rms_layernorm_inference\u001b[0m\u001b[0;34m(\u001b[0m\u001b[0mself\u001b[0m\u001b[0;34m.\u001b[0m\u001b[0mq_norm\u001b[0m\u001b[0;34m,\u001b[0m \u001b[0mQn\u001b[0m\u001b[0;34m)\u001b[0m\u001b[0;34m\u001b[0m\u001b[0;34m\u001b[0m\u001b[0m\n\u001b[0;32m--> 290\u001b[0;31m     \u001b[0mKn\u001b[0m \u001b[0;34m=\u001b[0m \u001b[0mfast_rms_layernorm_inference\u001b[0m\u001b[0;34m(\u001b[0m\u001b[0mself\u001b[0m\u001b[0;34m.\u001b[0m\u001b[0mk_norm\u001b[0m\u001b[0;34m,\u001b[0m \u001b[0mKn\u001b[0m\u001b[0;34m)\u001b[0m\u001b[0;34m\u001b[0m\u001b[0;34m\u001b[0m\u001b[0m\n\u001b[0m\u001b[1;32m    291\u001b[0m \u001b[0;34m\u001b[0m\u001b[0m\n\u001b[1;32m    292\u001b[0m     \u001b[0mQn\u001b[0m \u001b[0;34m=\u001b[0m \u001b[0mQn\u001b[0m\u001b[0;34m.\u001b[0m\u001b[0mtranspose\u001b[0m\u001b[0;34m(\u001b[0m\u001b[0;36m1\u001b[0m\u001b[0;34m,\u001b[0m \u001b[0;36m2\u001b[0m\u001b[0;34m)\u001b[0m\u001b[0;34m\u001b[0m\u001b[0;34m\u001b[0m\u001b[0m\n",
            "\u001b[0;32m/usr/local/lib/python3.11/dist-packages/torch/nn/modules/module.py\u001b[0m in \u001b[0;36m__getattr__\u001b[0;34m(self, name)\u001b[0m\n\u001b[1;32m   1947\u001b[0m     \u001b[0;31m# on `torch.nn.Module` and all its subclasses is largely disabled as a result. See:\u001b[0m\u001b[0;34m\u001b[0m\u001b[0;34m\u001b[0m\u001b[0m\n\u001b[1;32m   1948\u001b[0m     \u001b[0;31m# https://github.com/pytorch/pytorch/pull/115074\u001b[0m\u001b[0;34m\u001b[0m\u001b[0;34m\u001b[0m\u001b[0m\n\u001b[0;32m-> 1949\u001b[0;31m     \u001b[0;32mdef\u001b[0m \u001b[0m__getattr__\u001b[0m\u001b[0;34m(\u001b[0m\u001b[0mself\u001b[0m\u001b[0;34m,\u001b[0m \u001b[0mname\u001b[0m\u001b[0;34m:\u001b[0m \u001b[0mstr\u001b[0m\u001b[0;34m)\u001b[0m \u001b[0;34m->\u001b[0m \u001b[0mUnion\u001b[0m\u001b[0;34m[\u001b[0m\u001b[0mTensor\u001b[0m\u001b[0;34m,\u001b[0m \u001b[0;34m\"Module\"\u001b[0m\u001b[0;34m]\u001b[0m\u001b[0;34m:\u001b[0m\u001b[0;34m\u001b[0m\u001b[0;34m\u001b[0m\u001b[0m\n\u001b[0m\u001b[1;32m   1950\u001b[0m         \u001b[0;32mif\u001b[0m \u001b[0;34m\"_parameters\"\u001b[0m \u001b[0;32min\u001b[0m \u001b[0mself\u001b[0m\u001b[0;34m.\u001b[0m\u001b[0m__dict__\u001b[0m\u001b[0;34m:\u001b[0m\u001b[0;34m\u001b[0m\u001b[0;34m\u001b[0m\u001b[0m\n\u001b[1;32m   1951\u001b[0m             \u001b[0m_parameters\u001b[0m \u001b[0;34m=\u001b[0m \u001b[0mself\u001b[0m\u001b[0;34m.\u001b[0m\u001b[0m__dict__\u001b[0m\u001b[0;34m[\u001b[0m\u001b[0;34m\"_parameters\"\u001b[0m\u001b[0;34m]\u001b[0m\u001b[0;34m\u001b[0m\u001b[0;34m\u001b[0m\u001b[0m\n",
            "\u001b[0;31mKeyboardInterrupt\u001b[0m: "
          ]
        }
      ],
      "source": [
        "print(\"\\nStarting GRPO training...\")\n",
        "trainer.train()"
      ]
    },
    {
      "cell_type": "code",
      "execution_count": null,
      "metadata": {
        "id": "gztSn-NAFgAM"
      },
      "outputs": [],
      "source": [
        "model.train()\n",
        "torch.set_grad_enabled(True)\n",
        "try: model.config.use_cache = False\n",
        "except: pass\n",
        "try: model.gradient_checkpointing_disable()\n",
        "except: pass\n",
        "for m in model.modules():\n",
        "    if hasattr(m, \"gradient_checkpointing\"): setattr(m, \"gradient_checkpointing\", False)\n",
        "    if hasattr(m, \"_gradient_checkpointing_func\"):\n",
        "        try: delattr(m, \"_gradient_checkpointing_func\")\n",
        "        except: pass\n",
        "try: model.enable_adapter_layers()\n",
        "except: pass\n",
        "for n,p in model.named_parameters():\n",
        "    if \"lora_\" in n: p.requires_grad_(True)\n"
      ]
    },
    {
      "cell_type": "code",
      "execution_count": null,
      "metadata": {
        "colab": {
          "base_uri": "https://localhost:8080/"
        },
        "id": "MPK5MdzEFj5L",
        "outputId": "0a62ba3d-f63d-4234-fc8b-65bf6d31cf86"
      },
      "outputs": [
        {
          "name": "stdout",
          "output_type": "stream",
          "text": [
            "Layers with LoRA: 36 -> ['0', '1', '10', '11', '12', '13', '14', '15', '16', '17'] ...\n",
            "Non-trainable LoRA params: []\n",
            "trainable params: 132,120,576 || all params: 4,154,588,672 || trainable%: 3.1801\n"
          ]
        }
      ],
      "source": [
        "layers_with_lora = sorted({\n",
        "    n.split(\".layers.\")[1].split(\".\")[0]\n",
        "    for n,p in model.named_parameters()\n",
        "    if \"lora_A\" in n or \"lora_B\" in n\n",
        "})\n",
        "print(f\"Layers with LoRA: {len(layers_with_lora)} -> {layers_with_lora[:10]} ...\")\n",
        "\n",
        "bad = [n for n,p in model.named_parameters() if (\"lora_\" in n and not p.requires_grad)]\n",
        "print(\"Non-trainable LoRA params:\", bad)\n",
        "\n",
        "try:\n",
        "    model.print_trainable_parameters()\n",
        "except:\n",
        "    trainable = sum(p.numel() for p in model.parameters() if p.requires_grad)\n",
        "    total     = sum(p.numel() for p in model.parameters())\n",
        "    print(f\"trainable params: {trainable:,} / {total:,} ({100*trainable/total:.2f}%)\")\n"
      ]
    },
    {
      "cell_type": "markdown",
      "metadata": {
        "id": "4aciulvmSLJA"
      },
      "source": [
        "## Save Model"
      ]
    },
    {
      "cell_type": "code",
      "execution_count": null,
      "metadata": {
        "colab": {
          "base_uri": "https://localhost:8080/"
        },
        "id": "k_4i9SBXWEYt",
        "outputId": "ec1a989c-9dd9-445e-f5d1-9d4d06e03204"
      },
      "outputs": [
        {
          "data": {
            "text/plain": [
              "('output-grpo/tokenizer_config.json',\n",
              " 'output-grpo/special_tokens_map.json',\n",
              " 'output-grpo/chat_template.jinja',\n",
              " 'output-grpo/vocab.json',\n",
              " 'output-grpo/merges.txt',\n",
              " 'output-grpo/added_tokens.json',\n",
              " 'output-grpo/tokenizer.json')"
            ]
          },
          "execution_count": 22,
          "metadata": {},
          "output_type": "execute_result"
        }
      ],
      "source": [
        "trainer.save_model(GRPO_OUTPUT_DIR)\n",
        "trainer.save_state()\n",
        "\n",
        "model.save_pretrained(GRPO_OUTPUT_DIR)\n",
        "tokenizer.save_pretrained(GRPO_OUTPUT_DIR)"
      ]
    },
    {
      "cell_type": "markdown",
      "metadata": {
        "id": "7rzTYKjHNlSb"
      },
      "source": [
        "### Plot Loss"
      ]
    },
    {
      "cell_type": "code",
      "execution_count": null,
      "metadata": {
        "colab": {
          "base_uri": "https://localhost:8080/",
          "height": 1000
        },
        "id": "NAyycxL0KGpS",
        "outputId": "451a0a50-22cb-486f-ab04-c0ddc73c4de9"
      },
      "outputs": [
        {
          "name": "stdout",
          "output_type": "stream",
          "text": [
            "\n",
            "Plotting loss curves for SFT Qwen3-4B GSM8K...\n"
          ]
        },
        {
          "data": {
            "image/png": "[encoded data removed]",
            "text/plain": [
              "<Figure size 1200x600 with 1 Axes>"
            ]
          },
          "metadata": {},
          "output_type": "display_data"
        },
        {
          "name": "stdout",
          "output_type": "stream",
          "text": [
            "No logs found for metric: accuracy\n",
            "Skipping eval_loss (not found)\n",
            "Skipping accuracy (not found)\n"
          ]
        },
        {
          "data": {
            "image/png": "[encoded data removed]",
            "text/plain": [
              "<Figure size 1200x600 with 1 Axes>"
            ]
          },
          "metadata": {},
          "output_type": "display_data"
        },
        {
          "data": {
            "image/png": "[encoded data removed]",
            "text/plain": [
              "<Figure size 1200x600 with 1 Axes>"
            ]
          },
          "metadata": {},
          "output_type": "display_data"
        },
        {
          "data": {
            "image/png": "[encoded data removed]",
            "text/plain": [
              "<Figure size 1200x600 with 1 Axes>"
            ]
          },
          "metadata": {},
          "output_type": "display_data"
        },
        {
          "data": {
            "image/png": "[encoded data removed]",
            "text/plain": [
              "<Figure size 1200x600 with 1 Axes>"
            ]
          },
          "metadata": {},
          "output_type": "display_data"
        },
        {
          "data": {
            "image/png": "[encoded data removed]",
            "text/plain": [
              "<Figure size 1200x600 with 1 Axes>"
            ]
          },
          "metadata": {},
          "output_type": "display_data"
        }
      ],
      "source": [
        "log_history = trainer.state.log_history\n",
        "\n",
        "plot_loss_curves(log_history, title=\"SFT Qwen3-4B GSM8K\")\n",
        "plot_metric(log_history, 'accuracy', title=\"Validation Accuracy\")\n",
        "plot_multiple_metrics(log_history, ['loss', 'eval_loss', 'accuracy'])\n",
        "plot_reward_components(log_history)"
      ]
    },
    {
      "cell_type": "markdown",
      "metadata": {
        "id": "Klu76FBGo2hI"
      },
      "source": [
        "### Accuracy test"
      ]
    },
    {
      "cell_type": "code",
      "execution_count": 20,
      "metadata": {
        "id": "rWG7KqyQwAQg"
      },
      "outputs": [],
      "source": [
        "# del trainer\n",
        "gc.collect()\n",
        "torch.cuda.empty_cache()\n",
        "torch.cuda.reset_peak_memory_stats()\n"
      ]
    },
    {
      "cell_type": "markdown",
      "metadata": {},
      "source": [
        "#### test with 20 samples"
      ]
    },
    {
      "cell_type": "code",
      "execution_count": null,
      "metadata": {
        "colab": {
          "background_save": true,
          "base_uri": "https://localhost:8080/"
        },
        "id": "pZL2TkC7Phv8",
        "outputId": "f6050de7-873f-4a03-f70b-7f91a369b5f3"
      },
      "outputs": [
        {
          "name": "stdout",
          "output_type": "stream",
          "text": [
            "\n",
            "--- Starting evaluation with Self-Consistency (samples: 5) ---\n"
          ]
        },
        {
          "name": "stderr",
          "output_type": "stream",
          "text": [
            "Evaluating Batches:   0%|          | 0/7 [00:00<?, ?it/s]/usr/local/lib/python3.11/dist-packages/unsloth/kernels/utils.py:660: UserWarning: An output with one or more elements was resized since it had shape [1, 15, 2560], which does not match the required output shape [15, 1, 2560]. This behavior is deprecated, and in a future PyTorch release outputs will not be resized unless they have zero elements. You can explicitly reuse an out tensor t by resizing it, inplace, to zero elements with t.resize_(0). (Triggered internally at /pytorch/aten/src/ATen/native/Resize.cpp:31.)\n",
            "  out = torch_matmul(X, W.t(), out = out)\n",
            "/usr/local/lib/python3.11/dist-packages/unsloth/kernels/utils.py:665: UserWarning: An output with one or more elements was resized since it had shape [1, 15, 2560], which does not match the required output shape [15, 1, 2560]. This behavior is deprecated, and in a future PyTorch release outputs will not be resized unless they have zero elements. You can explicitly reuse an out tensor t by resizing it, inplace, to zero elements with t.resize_(0). (Triggered internally at /pytorch/aten/src/ATen/native/Resize.cpp:31.)\n",
            "  out = torch_matmul(X, W, out = out)\n",
            "Evaluating Batches:  14%|█▍        | 1/7 [02:55<17:35, 175.99s/it]"
          ]
        },
        {
          "name": "stdout",
          "output_type": "stream",
          "text": [
            "Samples: ['700', '700', '700', '700', '700'] -> Voted: 700, Reference: 700\n",
            "Samples: ['39', '39', '13', '14', '14'] -> Voted: 39, Reference: 39\n",
            "Samples: ['7', '7', '7', '7', '7'] -> Voted: 7, Reference: 7\n"
          ]
        },
        {
          "name": "stderr",
          "output_type": "stream",
          "text": [
            "\rEvaluating Batches:  29%|██▊       | 2/7 [05:47<14:25, 173.06s/it]"
          ]
        },
        {
          "name": "stdout",
          "output_type": "stream",
          "text": [
            "Samples: ['96', '6', '48', '48', '16'] -> Voted: 48, Reference: 6\n",
            "Samples: ['4', '4', '4', '4', '4'] -> Voted: 4, Reference: 4\n",
            "Samples: ['142', '142', '142', '142', '142'] -> Voted: 142, Reference: 142\n"
          ]
        },
        {
          "name": "stderr",
          "output_type": "stream",
          "text": [
            "\rEvaluating Batches:  43%|████▎     | 3/7 [08:39<11:32, 173.02s/it]"
          ]
        },
        {
          "name": "stdout",
          "output_type": "stream",
          "text": [
            "Samples: ['130', '130', '130', '130', '130'] -> Voted: 130, Reference: 130\n",
            "Samples: ['20', '3440', '21', '172', '20'] -> Voted: 20, Reference: 20\n",
            "Samples: ['13', '13', '13', '13', '13'] -> Voted: 13, Reference: 13\n"
          ]
        },
        {
          "name": "stderr",
          "output_type": "stream",
          "text": [
            "/usr/local/lib/python3.11/dist-packages/unsloth/kernels/utils.py:660: UserWarning: An output with one or more elements was resized since it had shape [1, 15, 2560], which does not match the required output shape [15, 1, 2560]. This behavior is deprecated, and in a future PyTorch release outputs will not be resized unless they have zero elements. You can explicitly reuse an out tensor t by resizing it, inplace, to zero elements with t.resize_(0). (Triggered internally at /pytorch/aten/src/ATen/native/Resize.cpp:31.)\n",
            "  out = torch_matmul(X, W.t(), out = out)\n",
            "/usr/local/lib/python3.11/dist-packages/unsloth/kernels/utils.py:665: UserWarning: An output with one or more elements was resized since it had shape [1, 15, 2560], which does not match the required output shape [15, 1, 2560]. This behavior is deprecated, and in a future PyTorch release outputs will not be resized unless they have zero elements. You can explicitly reuse an out tensor t by resizing it, inplace, to zero elements with t.resize_(0). (Triggered internally at /pytorch/aten/src/ATen/native/Resize.cpp:31.)\n",
            "  out = torch_matmul(X, W, out = out)\n",
            "Evaluating Batches:  57%|█████▋    | 4/7 [11:32<08:38, 172.76s/it]"
          ]
        },
        {
          "name": "stdout",
          "output_type": "stream",
          "text": [
            "Samples: ['5', '570', '20', '100', '5'] -> Voted: 5, Reference: 570\n",
            "Samples: ['81', '81', '81', '81', '81'] -> Voted: 81, Reference: 81\n",
            "Samples: ['4096', '4096', '4096', '4096', '4096'] -> Voted: 4096, Reference: 4096\n"
          ]
        },
        {
          "name": "stderr",
          "output_type": "stream",
          "text": [
            "\rEvaluating Batches:  71%|███████▏  | 5/7 [14:27<05:47, 173.51s/it]"
          ]
        },
        {
          "name": "stdout",
          "output_type": "stream",
          "text": [
            "Samples: ['7', '7', '7', '7', '7'] -> Voted: 7, Reference: 7\n",
            "Samples: ['110', '300', '410', '10', '810'] -> Voted: 110, Reference: 810\n",
            "Samples: ['20', '20', '20', '20', '20'] -> Voted: 20, Reference: 20\n"
          ]
        },
        {
          "name": "stderr",
          "output_type": "stream",
          "text": [
            "\rEvaluating Batches:  86%|████████▌ | 6/7 [17:21<02:53, 173.74s/it]"
          ]
        },
        {
          "name": "stdout",
          "output_type": "stream",
          "text": [
            "Samples: ['60', '60', '60', '60', '60'] -> Voted: 60, Reference: 60\n",
            "Samples: ['180', '610', '61', '610', '610'] -> Voted: 610, Reference: 180\n",
            "Samples: ['19', '19', '19', '19', '19'] -> Voted: 19, Reference: 19\n"
          ]
        },
        {
          "name": "stderr",
          "output_type": "stream",
          "text": [
            "/usr/local/lib/python3.11/dist-packages/unsloth/kernels/utils.py:660: UserWarning: An output with one or more elements was resized since it had shape [1, 10, 2560], which does not match the required output shape [10, 1, 2560]. This behavior is deprecated, and in a future PyTorch release outputs will not be resized unless they have zero elements. You can explicitly reuse an out tensor t by resizing it, inplace, to zero elements with t.resize_(0). (Triggered internally at /pytorch/aten/src/ATen/native/Resize.cpp:31.)\n",
            "  out = torch_matmul(X, W.t(), out = out)\n",
            "/usr/local/lib/python3.11/dist-packages/unsloth/kernels/utils.py:665: UserWarning: An output with one or more elements was resized since it had shape [1, 10, 2560], which does not match the required output shape [10, 1, 2560]. This behavior is deprecated, and in a future PyTorch release outputs will not be resized unless they have zero elements. You can explicitly reuse an out tensor t by resizing it, inplace, to zero elements with t.resize_(0). (Triggered internally at /pytorch/aten/src/ATen/native/Resize.cpp:31.)\n",
            "  out = torch_matmul(X, W, out = out)\n",
            "Evaluating Batches: 100%|██████████| 7/7 [19:34<00:00, 167.78s/it]"
          ]
        },
        {
          "name": "stdout",
          "output_type": "stream",
          "text": [
            "Samples: ['24', '24', '24', '24', '24'] -> Voted: 24, Reference: 24\n",
            "Samples: ['3', '4', '9', '5', '13'] -> Voted: 3, Reference: 13\n",
            "\n",
            "--- Evaluation Complete ---\n",
            "Correct Answers: 15 / 20\n",
            "Accuracy: 75.00%\n",
            "Final accuracy: 75.00%\n"
          ]
        },
        {
          "name": "stderr",
          "output_type": "stream",
          "text": [
            "\n"
          ]
        }
      ],
      "source": [
        "\n",
        "samples = random.sample(list(full_main_dataset), 20)\n",
        "\n",
        "results = evaluate_self_consistency(\n",
        "    model=model,\n",
        "    tokenizer=tokenizer,\n",
        "    dataset=samples,\n",
        "    create_prompt=create_prompt,\n",
        "    num_samples=5,\n",
        "    batch_size=3,\n",
        "    max_new_tokens=512,\n",
        ")\n",
        "\n",
        "print(f\"Final accuracy: {results['accuracy']:.2f}%\")"
      ]
    },
    {
      "cell_type": "markdown",
      "metadata": {},
      "source": [
        "#### test with 40 samples"
      ]
    },
    {
      "cell_type": "code",
      "execution_count": 18,
      "metadata": {
        "colab": {
          "base_uri": "https://localhost:8080/"
        },
        "id": "mSc00vHybsLy",
        "outputId": "7adbc5cd-8adf-47fa-bdb7-7ec1da91cb70"
      },
      "outputs": [
        {
          "name": "stdout",
          "output_type": "stream",
          "text": [
            "\n",
            "--- Starting evaluation with Self-Consistency (samples: 5) ---\n"
          ]
        },
        {
          "name": "stderr",
          "output_type": "stream",
          "text": [
            "\rEvaluating Batches:   0%|          | 0/7 [00:00<?, ?it/s]/usr/local/lib/python3.11/dist-packages/unsloth/kernels/utils.py:660: UserWarning: An output with one or more elements was resized since it had shape [1, 30, 2560], which does not match the required output shape [30, 1, 2560]. This behavior is deprecated, and in a future PyTorch release outputs will not be resized unless they have zero elements. You can explicitly reuse an out tensor t by resizing it, inplace, to zero elements with t.resize_(0). (Triggered internally at /pytorch/aten/src/ATen/native/Resize.cpp:31.)\n",
            "  out = torch_matmul(X, W.t(), out = out)\n",
            "/usr/local/lib/python3.11/dist-packages/unsloth/kernels/utils.py:665: UserWarning: An output with one or more elements was resized since it had shape [1, 30, 2560], which does not match the required output shape [30, 1, 2560]. This behavior is deprecated, and in a future PyTorch release outputs will not be resized unless they have zero elements. You can explicitly reuse an out tensor t by resizing it, inplace, to zero elements with t.resize_(0). (Triggered internally at /pytorch/aten/src/ATen/native/Resize.cpp:31.)\n",
            "  out = torch_matmul(X, W, out = out)\n",
            "Evaluating Batches:  14%|█▍        | 1/7 [05:13<31:18, 313.13s/it]"
          ]
        },
        {
          "name": "stdout",
          "output_type": "stream",
          "text": [
            "Samples: ['4', '84', '84', '6', '4'] -> Voted: 4, Reference: 84\n",
            "Samples: ['100', '150', '000', '2', '5'] -> Voted: 100, Reference: 150\n",
            "Samples: ['60', '60', '60', '60', '60'] -> Voted: 60, Reference: 60\n",
            "Samples: ['84', '84', '84', '84', '84'] -> Voted: 84, Reference: 84\n",
            "Samples: ['3', '3', '46', '46', '170'] -> Voted: 3, Reference: 46\n",
            "Samples: ['139', '861', '42219', '3', '3'] -> Voted: 3, Reference: 32139\n"
          ]
        },
        {
          "name": "stderr",
          "output_type": "stream",
          "text": [
            "\rEvaluating Batches:  29%|██▊       | 2/7 [10:25<26:04, 312.86s/it]"
          ]
        },
        {
          "name": "stdout",
          "output_type": "stream",
          "text": [
            "Samples: ['480', '0', '000', '380', '000'] -> Voted: 000, Reference: 60000\n",
            "Samples: ['216', '216', '216', '216', '216'] -> Voted: 216, Reference: 216\n",
            "Samples: ['15', '15', '15', '15', '15'] -> Voted: 15, Reference: 15\n",
            "Samples: ['70', '70', '70', '70', '70'] -> Voted: 70, Reference: 70\n",
            "Samples: ['8', '8', '8', '8', '8'] -> Voted: 8, Reference: 8\n",
            "Samples: ['16', '16', '16', '16', '16'] -> Voted: 16, Reference: 16\n"
          ]
        },
        {
          "name": "stderr",
          "output_type": "stream",
          "text": [
            "\rEvaluating Batches:  43%|████▎     | 3/7 [15:41<20:56, 314.04s/it]"
          ]
        },
        {
          "name": "stdout",
          "output_type": "stream",
          "text": [
            "Samples: ['600', '6', '6'] -> Voted: 6, Reference: 6\n",
            "Samples: ['4', '4', '4', '4', '4'] -> Voted: 4, Reference: 4\n",
            "Samples: ['5', '15', '80', '3', '155'] -> Voted: 5, Reference: 155\n",
            "Samples: ['000', '000', '12000', '12000', '12000'] -> Voted: 12000, Reference: 12000\n",
            "Samples: ['105', '45', '45', '45', '105'] -> Voted: 45, Reference: 45\n",
            "Samples: ['96', '96', '96', '96', '96'] -> Voted: 96, Reference: 96\n"
          ]
        },
        {
          "name": "stderr",
          "output_type": "stream",
          "text": [
            "\rEvaluating Batches:  57%|█████▋    | 4/7 [21:02<15:50, 316.99s/it]"
          ]
        },
        {
          "name": "stdout",
          "output_type": "stream",
          "text": [
            "Samples: ['18', '300', '90', '68', '90'] -> Voted: 90, Reference: 22\n",
            "Samples: ['325', '325', '325', '325', '325'] -> Voted: 325, Reference: 325\n",
            "Samples: ['40', '40', '40', '40', '40'] -> Voted: 40, Reference: 40\n",
            "Samples: ['32', '32', '32', '32', '32'] -> Voted: 32, Reference: 32\n",
            "Samples: ['14', '14', '14', '14', '14'] -> Voted: 14, Reference: 14\n",
            "Samples: ['20', '60', '60', '60', '60'] -> Voted: 60, Reference: 60\n"
          ]
        },
        {
          "name": "stderr",
          "output_type": "stream",
          "text": [
            "\rEvaluating Batches:  71%|███████▏  | 5/7 [26:13<10:29, 314.73s/it]"
          ]
        },
        {
          "name": "stdout",
          "output_type": "stream",
          "text": [
            "Samples: ['850', '780', '780', '780', '850'] -> Voted: 780, Reference: 70\n",
            "Samples: ['9', '9', '9', '9', '9'] -> Voted: 9, Reference: 9\n",
            "Samples: ['69', '69', '69', '69', '69'] -> Voted: 69, Reference: 69\n",
            "Samples: ['10', '10', '10', '10', '10'] -> Voted: 10, Reference: 10\n",
            "Samples: ['18', '18', '18', '18', '18'] -> Voted: 18, Reference: 18\n",
            "Samples: ['12200', '12200', '12200', '12200', '12200'] -> Voted: 12200, Reference: 12200\n"
          ]
        },
        {
          "name": "stderr",
          "output_type": "stream",
          "text": [
            "\rEvaluating Batches:  86%|████████▌ | 6/7 [31:30<05:15, 315.36s/it]"
          ]
        },
        {
          "name": "stdout",
          "output_type": "stream",
          "text": [
            "Samples: ['700', '700', '000', '700', '700'] -> Voted: 700, Reference: 700\n",
            "Samples: ['3', '330', '16.50', '330', '3'] -> Voted: 3, Reference: 95\n",
            "Samples: ['1', '146', '146', '146', '1'] -> Voted: 146, Reference: 146\n",
            "Samples: ['116', '116', '116', '116', '116'] -> Voted: 116, Reference: 116\n",
            "Samples: ['87', '87', '87', '87', '87'] -> Voted: 87, Reference: 87\n",
            "Samples: ['20', '20', '20', '20', '20'] -> Voted: 20, Reference: 20\n"
          ]
        },
        {
          "name": "stderr",
          "output_type": "stream",
          "text": [
            "/usr/local/lib/python3.11/dist-packages/unsloth/kernels/utils.py:660: UserWarning: An output with one or more elements was resized since it had shape [1, 20, 2560], which does not match the required output shape [20, 1, 2560]. This behavior is deprecated, and in a future PyTorch release outputs will not be resized unless they have zero elements. You can explicitly reuse an out tensor t by resizing it, inplace, to zero elements with t.resize_(0). (Triggered internally at /pytorch/aten/src/ATen/native/Resize.cpp:31.)\n",
            "  out = torch_matmul(X, W.t(), out = out)\n",
            "/usr/local/lib/python3.11/dist-packages/unsloth/kernels/utils.py:665: UserWarning: An output with one or more elements was resized since it had shape [1, 20, 2560], which does not match the required output shape [20, 1, 2560]. This behavior is deprecated, and in a future PyTorch release outputs will not be resized unless they have zero elements. You can explicitly reuse an out tensor t by resizing it, inplace, to zero elements with t.resize_(0). (Triggered internally at /pytorch/aten/src/ATen/native/Resize.cpp:31.)\n",
            "  out = torch_matmul(X, W, out = out)\n",
            "Evaluating Batches: 100%|██████████| 7/7 [35:15<00:00, 302.25s/it]"
          ]
        },
        {
          "name": "stdout",
          "output_type": "stream",
          "text": [
            "Samples: ['35', '99', '86', '99', '15'] -> Voted: 99, Reference: 99\n",
            "Samples: ['50', '00', '000', '100', '100'] -> Voted: 100, Reference: 20\n",
            "Samples: ['240', '240', '240', '240', '240'] -> Voted: 240, Reference: 240\n",
            "Samples: ['1', '2', '20', '1'] -> Voted: 1, Reference: 1\n",
            "\n",
            "--- Evaluation Complete ---\n",
            "Correct Answers: 30 / 40\n",
            "Accuracy: 75.00%\n",
            "Final accuracy: 75.00%\n"
          ]
        },
        {
          "name": "stderr",
          "output_type": "stream",
          "text": [
            "\n"
          ]
        }
      ],
      "source": [
        "\n",
        "samples = random.sample(list(full_main_dataset), 40)\n",
        "\n",
        "results = evaluate_self_consistency(\n",
        "    model=model,\n",
        "    tokenizer=tokenizer,\n",
        "    dataset=samples,\n",
        "    create_prompt=create_prompt,\n",
        "    num_samples=5,\n",
        "    batch_size=6,\n",
        "    max_new_tokens=512,\n",
        ")\n",
        "\n",
        "print(f\"Final accuracy: {results['accuracy']:.2f}%\")"
      ]
    },
    {
      "cell_type": "markdown",
      "metadata": {
        "id": "lYhvSbq8CdG7"
      },
      "source": [
        "## merge model and save"
      ]
    },
    {
      "cell_type": "code",
      "execution_count": null,
      "metadata": {
        "id": "WSu0dTW7PorV"
      },
      "outputs": [],
      "source": [
        "print(\"\\nMerging LoRA adapters for final evaluation...\")\n",
        "merged_model = model.merge_and_unload()\n",
        "plot_curves(trainer.state.log_history)\n",
        "\n",
        "merged_model.save_pretrained(GRPO_OUTPUT_DIR)"
      ]
    },
    {
      "cell_type": "markdown",
      "metadata": {
        "id": "LGpD5upIW1Hw"
      },
      "source": [
        "### push to hub"
      ]
    },
    {
      "cell_type": "code",
      "execution_count": null,
      "metadata": {
        "colab": {
          "base_uri": "https://localhost:8080/",
          "height": 17,
          "referenced_widgets": [
            "bdda7135c27146c59a9606beb00f0221",
            "e842f26c3115442da2f4bb0efaebb896"
          ]
        },
        "id": "5UHRpGQUWs5J",
        "outputId": "0d52c387-9fb7-480d-fd9f-e8fb82ab707c"
      },
      "outputs": [
        {
          "data": {
            "application/vnd.jupyter.widget-view+json": {
              "model_id": "bdda7135c27146c59a9606beb00f0221",
              "version_major": 2,
              "version_minor": 0
            },
            "text/plain": [
              "VBox(children=(HTML(value='<center> <img\\nsrc=https://huggingface.co/front/assets/huggingface_logo-noborder.sv…"
            ]
          },
          "metadata": {},
          "output_type": "display_data"
        }
      ],
      "source": [
        "from huggingface_hub import notebook_login\n",
        "notebook_login()"
      ]
    },
    {
      "cell_type": "code",
      "execution_count": null,
      "metadata": {
        "colab": {
          "base_uri": "https://localhost:8080/",
          "height": 251,
          "referenced_widgets": [
            "3d548f17ca774b3e8f5dabce52321d98",
            "46817854adb9418ba9fcc833076fef7e",
            "689861b69e61417c895d78720c488ad6",
            "390bcd47bf7645f6a5270106a93492b9",
            "18d72b5ba35a4b7695cba5bc3bc49bb5",
            "da1ab76f4957410cb20b0dd2456a4d13",
            "361744dc30c64f14a3097fe91645a045",
            "50b0e77e73364abbb07ed465680aad42",
            "bffd76496a7342bd9e05cd23ba47cf88",
            "12a94f4f503e4e29a069c331a5be16fb",
            "51a1157bdb154e16b6eac0ab3d09011c",
            "0c9f04a6131b4e009e9b71cfa2f49fcf",
            "b207e8eb4f374410a92071156caafd39",
            "d39669890578455f9acca2a45fa74b47",
            "d65c4a23ae2b4a23884d95e4e284886c",
            "b5cefc38c64040fb9c04477cb7c3124b",
            "0fa19087250e4df1b7b434268a1c7b53",
            "a5f87acd7de640d9a290c5eed9333e7a",
            "086bf35db5104c82969972692ad0c3ba",
            "f59354119db144d496fe391dec2d417a",
            "65713b9ba5fb4897b7c51ab09624ef63",
            "4f5c1bb194264d1fa8d2f12b9a494816",
            "b0e6ef479ab04d809090db9d4ab7ec96",
            "4e40014f76c0461c8d43433fe4050898",
            "2046db7eab864533a4dd530741f2a5f8",
            "d63b7e9dea9447c0921f160d52d16bf8",
            "5caaacb5191344eba893fb5d337a81fb",
            "345343a4257745619ae42e36d9bcef18",
            "f4442d746c9d4895967cc26c40943a1e",
            "a1b7a8c762a742198f5c69d9ce2ce27b",
            "b083601f09b84d6087dff4c2e105dd60",
            "cfb263abb60c4dbb864bbda5ed686bde",
            "3a06dffa9ce94aa6b93e544589e5f2f4",
            "0292fe669da94648a62a825f985aeb67",
            "ed0c4de1747546b68fc470dffca21587",
            "d0d271cb47bc43dfa7ce1027679c066e",
            "a6d9144b7c8e449bb2a6f6c45adf3b3e",
            "d9f3a92c9a1c4e3a81ccb8b9955b3cd0",
            "64615315d02c44f4b3ade978311d56a4",
            "91940817087046a3899d8eeee17b11cf",
            "57a22f58e6d9468e915cea6ef3076cbd",
            "b204e6dc705847afad160a042cb0c25f",
            "35ea2cae01204025a131de6b2921f429",
            "14de9e310e2c4c3f948be29c751b92f1",
            "694c172e8fbd413bb10344a3eeb1dbdf",
            "eda906b2f66c498592ed911fa24b1599",
            "97528d800d074954a9eff6d221e06afe",
            "2c438a6f3cbf49b4ba3916fbba5b1a98",
            "b75f928bf4ce4dc0a6d110d70a7f8c31",
            "551e1e24a7694585b49a57ee3228387d",
            "e1a964ead9d54044ba2e1922b4bd77f1",
            "121bc3071a64413e934c3c29d5fa6b9e",
            "85c831c804f1482194512defaf16058e",
            "14081c952e59417ba2254291c33e5de9",
            "e9c26daa821145cf80c1d1fc7bd4c28c"
          ]
        },
        "id": "MYzV8x7-SNYD",
        "outputId": "e3cc84e7-0689-4723-9379-a3ef3b1c6971"
      },
      "outputs": [
        {
          "data": {
            "application/vnd.jupyter.widget-view+json": {
              "model_id": "3d548f17ca774b3e8f5dabce52321d98",
              "version_major": 2,
              "version_minor": 0
            },
            "text/plain": [
              "Processing Files (0 / 0)                : |          |  0.00B /  0.00B            "
            ]
          },
          "metadata": {},
          "output_type": "display_data"
        },
        {
          "data": {
            "application/vnd.jupyter.widget-view+json": {
              "model_id": "0c9f04a6131b4e009e9b71cfa2f49fcf",
              "version_major": 2,
              "version_minor": 0
            },
            "text/plain": [
              "New Data Upload                         : |          |  0.00B /  0.00B            "
            ]
          },
          "metadata": {},
          "output_type": "display_data"
        },
        {
          "data": {
            "application/vnd.jupyter.widget-view+json": {
              "model_id": "b0e6ef479ab04d809090db9d4ab7ec96",
              "version_major": 2,
              "version_minor": 0
            },
            "text/plain": [
              "  /content/output-grpo/tokenizer.json   : 100%|##########| 11.4MB / 11.4MB            "
            ]
          },
          "metadata": {},
          "output_type": "display_data"
        },
        {
          "data": {
            "application/vnd.jupyter.widget-view+json": {
              "model_id": "0292fe669da94648a62a825f985aeb67",
              "version_major": 2,
              "version_minor": 0
            },
            "text/plain": [
              "  ...tput-grpo/adapter_model.safetensors:   0%|          | 61.5kB /  529MB            "
            ]
          },
          "metadata": {},
          "output_type": "display_data"
        },
        {
          "data": {
            "application/vnd.jupyter.widget-view+json": {
              "model_id": "694c172e8fbd413bb10344a3eeb1dbdf",
              "version_major": 2,
              "version_minor": 0
            },
            "text/plain": [
              "  /content/output-grpo/training_args.bin:   7%|6         |   478B / 7.06kB            "
            ]
          },
          "metadata": {},
          "output_type": "display_data"
        },
        {
          "data": {
            "application/vnd.google.colaboratory.intrinsic+json": {
              "type": "string"
            },
            "text/plain": [
              "CommitInfo(commit_url='https://huggingface.co/tahamajs/Qwen3-4b-gsm8k-Qlora-GRPO/commit/f16a61e64d5c1f8047c3f897f36624eb3aea4001', commit_message='Continue training: +5k steps on extra math data', commit_description='', oid='f16a61e64d5c1f8047c3f897f36624eb3aea4001', pr_url=None, repo_url=RepoUrl('https://huggingface.co/tahamajs/Qwen3-4b-gsm8k-Qlora-GRPO', endpoint='https://huggingface.co', repo_type='model', repo_id='tahamajs/Qwen3-4b-gsm8k-Qlora-GRPO'), pr_revision=None, pr_num=None)"
            ]
          },
          "execution_count": 25,
          "metadata": {},
          "output_type": "execute_result"
        }
      ],
      "source": [
        "from huggingface_hub import HfApi\n",
        "api = HfApi()\n",
        "\n",
        "api.create_repo(\n",
        "    repo_id=ADAPTER_REPO,\n",
        "    private=False,\n",
        "    exist_ok=True\n",
        ")\n",
        "\n",
        "api.upload_folder(\n",
        "    folder_path=GRPO_OUTPUT_DIR,\n",
        "    repo_id=ADAPTER_REPO,\n",
        "    repo_type=\"model\",\n",
        "    commit_message=\"Continue training: +5k steps on extra math data\"\n",
        ")\n",
        "\n"
      ]
    }
  ],
  "metadata": {
    "accelerator": "GPU",
    "colab": {
      "gpuType": "T4",
      "provenance": []
    },
    "kernelspec": {
      "display_name": "Python 3",
      "name": "python3"
    },
    "language_info": {
      "name": "python"
    },
    "widgets": {
      "application/vnd.jupyter.widget-state+json": {
        "0292fe669da94648a62a825f985aeb67": {
          "model_module": "@jupyter-widgets/controls",
          "model_module_version": "1.5.0",
          "model_name": "HBoxModel",
          "state": {
            "_dom_classes": [],
            "_model_module": "@jupyter-widgets/controls",
            "_model_module_version": "1.5.0",
            "_model_name": "HBoxModel",
            "_view_count": null,
            "_view_module": "@jupyter-widgets/controls",
            "_view_module_version": "1.5.0",
            "_view_name": "HBoxView",
            "box_style": "",
            "children": [
              "IPY_MODEL_ed0c4de1747546b68fc470dffca21587",
              "IPY_MODEL_d0d271cb47bc43dfa7ce1027679c066e",
              "IPY_MODEL_a6d9144b7c8e449bb2a6f6c45adf3b3e"
            ],
            "layout": "IPY_MODEL_d9f3a92c9a1c4e3a81ccb8b9955b3cd0"
          }
        },
        "086bf35db5104c82969972692ad0c3ba": {
          "model_module": "@jupyter-widgets/base",
          "model_module_version": "1.2.0",
          "model_name": "LayoutModel",
          "state": {
            "_model_module": "@jupyter-widgets/base",
            "_model_module_version": "1.2.0",
            "_model_name": "LayoutModel",
            "_view_count": null,
            "_view_module": "@jupyter-widgets/base",
            "_view_module_version": "1.2.0",
            "_view_name": "LayoutView",
            "align_content": null,
            "align_items": null,
            "align_self": null,
            "border": null,
            "bottom": null,
            "display": null,
            "flex": null,
            "flex_flow": null,
            "grid_area": null,
            "grid_auto_columns": null,
            "grid_auto_flow": null,
            "grid_auto_rows": null,
            "grid_column": null,
            "grid_gap": null,
            "grid_row": null,
            "grid_template_areas": null,
            "grid_template_columns": null,
            "grid_template_rows": null,
            "height": null,
            "justify_content": null,
            "justify_items": null,
            "left": null,
            "margin": null,
            "max_height": null,
            "max_width": null,
            "min_height": null,
            "min_width": null,
            "object_fit": null,
            "object_position": null,
            "order": null,
            "overflow": null,
            "overflow_x": null,
            "overflow_y": null,
            "padding": null,
            "right": null,
            "top": null,
            "visibility": null,
            "width": "20px"
          }
        },
        "0c9f04a6131b4e009e9b71cfa2f49fcf": {
          "model_module": "@jupyter-widgets/controls",
          "model_module_version": "1.5.0",
          "model_name": "HBoxModel",
          "state": {
            "_dom_classes": [],
            "_model_module": "@jupyter-widgets/controls",
            "_model_module_version": "1.5.0",
            "_model_name": "HBoxModel",
            "_view_count": null,
            "_view_module": "@jupyter-widgets/controls",
            "_view_module_version": "1.5.0",
            "_view_name": "HBoxView",
            "box_style": "",
            "children": [
              "IPY_MODEL_b207e8eb4f374410a92071156caafd39",
              "IPY_MODEL_d39669890578455f9acca2a45fa74b47",
              "IPY_MODEL_d65c4a23ae2b4a23884d95e4e284886c"
            ],
            "layout": "IPY_MODEL_b5cefc38c64040fb9c04477cb7c3124b"
          }
        },
        "0fa19087250e4df1b7b434268a1c7b53": {
          "model_module": "@jupyter-widgets/base",
          "model_module_version": "1.2.0",
          "model_name": "LayoutModel",
          "state": {
            "_model_module": "@jupyter-widgets/base",
            "_model_module_version": "1.2.0",
            "_model_name": "LayoutModel",
            "_view_count": null,
            "_view_module": "@jupyter-widgets/base",
            "_view_module_version": "1.2.0",
            "_view_name": "LayoutView",
            "align_content": null,
            "align_items": null,
            "align_self": null,
            "border": null,
            "bottom": null,
            "display": null,
            "flex": null,
            "flex_flow": null,
            "grid_area": null,
            "grid_auto_columns": null,
            "grid_auto_flow": null,
            "grid_auto_rows": null,
            "grid_column": null,
            "grid_gap": null,
            "grid_row": null,
            "grid_template_areas": null,
            "grid_template_columns": null,
            "grid_template_rows": null,
            "height": null,
            "justify_content": null,
            "justify_items": null,
            "left": null,
            "margin": null,
            "max_height": null,
            "max_width": null,
            "min_height": null,
            "min_width": null,
            "object_fit": null,
            "object_position": null,
            "order": null,
            "overflow": null,
            "overflow_x": null,
            "overflow_y": null,
            "padding": null,
            "right": null,
            "top": null,
            "visibility": null,
            "width": null
          }
        },
        "121bc3071a64413e934c3c29d5fa6b9e": {
          "model_module": "@jupyter-widgets/base",
          "model_module_version": "1.2.0",
          "model_name": "LayoutModel",
          "state": {
            "_model_module": "@jupyter-widgets/base",
            "_model_module_version": "1.2.0",
            "_model_name": "LayoutModel",
            "_view_count": null,
            "_view_module": "@jupyter-widgets/base",
            "_view_module_version": "1.2.0",
            "_view_name": "LayoutView",
            "align_content": null,
            "align_items": null,
            "align_self": null,
            "border": null,
            "bottom": null,
            "display": null,
            "flex": null,
            "flex_flow": null,
            "grid_area": null,
            "grid_auto_columns": null,
            "grid_auto_flow": null,
            "grid_auto_rows": null,
            "grid_column": null,
            "grid_gap": null,
            "grid_row": null,
            "grid_template_areas": null,
            "grid_template_columns": null,
            "grid_template_rows": null,
            "height": null,
            "justify_content": null,
            "justify_items": null,
            "left": null,
            "margin": null,
            "max_height": null,
            "max_width": null,
            "min_height": null,
            "min_width": null,
            "object_fit": null,
            "object_position": null,
            "order": null,
            "overflow": null,
            "overflow_x": null,
            "overflow_y": null,
            "padding": null,
            "right": null,
            "top": null,
            "visibility": null,
            "width": null
          }
        },
        "12a94f4f503e4e29a069c331a5be16fb": {
          "model_module": "@jupyter-widgets/base",
          "model_module_version": "1.2.0",
          "model_name": "LayoutModel",
          "state": {
            "_model_module": "@jupyter-widgets/base",
            "_model_module_version": "1.2.0",
            "_model_name": "LayoutModel",
            "_view_count": null,
            "_view_module": "@jupyter-widgets/base",
            "_view_module_version": "1.2.0",
            "_view_name": "LayoutView",
            "align_content": null,
            "align_items": null,
            "align_self": null,
            "border": null,
            "bottom": null,
            "display": null,
            "flex": null,
            "flex_flow": null,
            "grid_area": null,
            "grid_auto_columns": null,
            "grid_auto_flow": null,
            "grid_auto_rows": null,
            "grid_column": null,
            "grid_gap": null,
            "grid_row": null,
            "grid_template_areas": null,
            "grid_template_columns": null,
            "grid_template_rows": null,
            "height": null,
            "justify_content": null,
            "justify_items": null,
            "left": null,
            "margin": null,
            "max_height": null,
            "max_width": null,
            "min_height": null,
            "min_width": null,
            "object_fit": null,
            "object_position": null,
            "order": null,
            "overflow": null,
            "overflow_x": null,
            "overflow_y": null,
            "padding": null,
            "right": null,
            "top": null,
            "visibility": null,
            "width": null
          }
        },
        "14081c952e59417ba2254291c33e5de9": {
          "model_module": "@jupyter-widgets/base",
          "model_module_version": "1.2.0",
          "model_name": "LayoutModel",
          "state": {
            "_model_module": "@jupyter-widgets/base",
            "_model_module_version": "1.2.0",
            "_model_name": "LayoutModel",
            "_view_count": null,
            "_view_module": "@jupyter-widgets/base",
            "_view_module_version": "1.2.0",
            "_view_name": "LayoutView",
            "align_content": null,
            "align_items": null,
            "align_self": null,
            "border": null,
            "bottom": null,
            "display": null,
            "flex": null,
            "flex_flow": null,
            "grid_area": null,
            "grid_auto_columns": null,
            "grid_auto_flow": null,
            "grid_auto_rows": null,
            "grid_column": null,
            "grid_gap": null,
            "grid_row": null,
            "grid_template_areas": null,
            "grid_template_columns": null,
            "grid_template_rows": null,
            "height": null,
            "justify_content": null,
            "justify_items": null,
            "left": null,
            "margin": null,
            "max_height": null,
            "max_width": null,
            "min_height": null,
            "min_width": null,
            "object_fit": null,
            "object_position": null,
            "order": null,
            "overflow": null,
            "overflow_x": null,
            "overflow_y": null,
            "padding": null,
            "right": null,
            "top": null,
            "visibility": null,
            "width": null
          }
        },
        "14de9e310e2c4c3f948be29c751b92f1": {
          "model_module": "@jupyter-widgets/controls",
          "model_module_version": "1.5.0",
          "model_name": "DescriptionStyleModel",
          "state": {
            "_model_module": "@jupyter-widgets/controls",
            "_model_module_version": "1.5.0",
            "_model_name": "DescriptionStyleModel",
            "_view_count": null,
            "_view_module": "@jupyter-widgets/base",
            "_view_module_version": "1.2.0",
            "_view_name": "StyleView",
            "description_width": ""
          }
        },
        "18d72b5ba35a4b7695cba5bc3bc49bb5": {
          "model_module": "@jupyter-widgets/base",
          "model_module_version": "1.2.0",
          "model_name": "LayoutModel",
          "state": {
            "_model_module": "@jupyter-widgets/base",
            "_model_module_version": "1.2.0",
            "_model_name": "LayoutModel",
            "_view_count": null,
            "_view_module": "@jupyter-widgets/base",
            "_view_module_version": "1.2.0",
            "_view_name": "LayoutView",
            "align_content": null,
            "align_items": null,
            "align_self": null,
            "border": null,
            "bottom": null,
            "display": null,
            "flex": null,
            "flex_flow": null,
            "grid_area": null,
            "grid_auto_columns": null,
            "grid_auto_flow": null,
            "grid_auto_rows": null,
            "grid_column": null,
            "grid_gap": null,
            "grid_row": null,
            "grid_template_areas": null,
            "grid_template_columns": null,
            "grid_template_rows": null,
            "height": null,
            "justify_content": null,
            "justify_items": null,
            "left": null,
            "margin": null,
            "max_height": null,
            "max_width": null,
            "min_height": null,
            "min_width": null,
            "object_fit": null,
            "object_position": null,
            "order": null,
            "overflow": null,
            "overflow_x": null,
            "overflow_y": null,
            "padding": null,
            "right": null,
            "top": null,
            "visibility": null,
            "width": null
          }
        },
        "2046db7eab864533a4dd530741f2a5f8": {
          "model_module": "@jupyter-widgets/controls",
          "model_module_version": "1.5.0",
          "model_name": "FloatProgressModel",
          "state": {
            "_dom_classes": [],
            "_model_module": "@jupyter-widgets/controls",
            "_model_module_version": "1.5.0",
            "_model_name": "FloatProgressModel",
            "_view_count": null,
            "_view_module": "@jupyter-widgets/controls",
            "_view_module_version": "1.5.0",
            "_view_name": "ProgressView",
            "bar_style": "success",
            "description": "",
            "description_tooltip": null,
            "layout": "IPY_MODEL_a1b7a8c762a742198f5c69d9ce2ce27b",
            "max": 11422822,
            "min": 0,
            "orientation": "horizontal",
            "style": "IPY_MODEL_b083601f09b84d6087dff4c2e105dd60",
            "value": 11422822
          }
        },
        "2c438a6f3cbf49b4ba3916fbba5b1a98": {
          "model_module": "@jupyter-widgets/controls",
          "model_module_version": "1.5.0",
          "model_name": "HTMLModel",
          "state": {
            "_dom_classes": [],
            "_model_module": "@jupyter-widgets/controls",
            "_model_module_version": "1.5.0",
            "_model_name": "HTMLModel",
            "_view_count": null,
            "_view_module": "@jupyter-widgets/controls",
            "_view_module_version": "1.5.0",
            "_view_name": "HTMLView",
            "description": "",
            "description_tooltip": null,
            "layout": "IPY_MODEL_14081c952e59417ba2254291c33e5de9",
            "placeholder": "​",
            "style": "IPY_MODEL_e9c26daa821145cf80c1d1fc7bd4c28c",
            "value": " 7.06kB / 7.06kB            "
          }
        },
        "345343a4257745619ae42e36d9bcef18": {
          "model_module": "@jupyter-widgets/base",
          "model_module_version": "1.2.0",
          "model_name": "LayoutModel",
          "state": {
            "_model_module": "@jupyter-widgets/base",
            "_model_module_version": "1.2.0",
            "_model_name": "LayoutModel",
            "_view_count": null,
            "_view_module": "@jupyter-widgets/base",
            "_view_module_version": "1.2.0",
            "_view_name": "LayoutView",
            "align_content": null,
            "align_items": null,
            "align_self": null,
            "border": null,
            "bottom": null,
            "display": null,
            "flex": null,
            "flex_flow": null,
            "grid_area": null,
            "grid_auto_columns": null,
            "grid_auto_flow": null,
            "grid_auto_rows": null,
            "grid_column": null,
            "grid_gap": null,
            "grid_row": null,
            "grid_template_areas": null,
            "grid_template_columns": null,
            "grid_template_rows": null,
            "height": null,
            "justify_content": null,
            "justify_items": null,
            "left": null,
            "margin": null,
            "max_height": null,
            "max_width": null,
            "min_height": null,
            "min_width": null,
            "object_fit": null,
            "object_position": null,
            "order": null,
            "overflow": null,
            "overflow_x": null,
            "overflow_y": null,
            "padding": null,
            "right": null,
            "top": null,
            "visibility": null,
            "width": null
          }
        },
        "35ea2cae01204025a131de6b2921f429": {
          "model_module": "@jupyter-widgets/base",
          "model_module_version": "1.2.0",
          "model_name": "LayoutModel",
          "state": {
            "_model_module": "@jupyter-widgets/base",
            "_model_module_version": "1.2.0",
            "_model_name": "LayoutModel",
            "_view_count": null,
            "_view_module": "@jupyter-widgets/base",
            "_view_module_version": "1.2.0",
            "_view_name": "LayoutView",
            "align_content": null,
            "align_items": null,
            "align_self": null,
            "border": null,
            "bottom": null,
            "display": null,
            "flex": null,
            "flex_flow": null,
            "grid_area": null,
            "grid_auto_columns": null,
            "grid_auto_flow": null,
            "grid_auto_rows": null,
            "grid_column": null,
            "grid_gap": null,
            "grid_row": null,
            "grid_template_areas": null,
            "grid_template_columns": null,
            "grid_template_rows": null,
            "height": null,
            "justify_content": null,
            "justify_items": null,
            "left": null,
            "margin": null,
            "max_height": null,
            "max_width": null,
            "min_height": null,
            "min_width": null,
            "object_fit": null,
            "object_position": null,
            "order": null,
            "overflow": null,
            "overflow_x": null,
            "overflow_y": null,
            "padding": null,
            "right": null,
            "top": null,
            "visibility": null,
            "width": null
          }
        },
        "361744dc30c64f14a3097fe91645a045": {
          "model_module": "@jupyter-widgets/controls",
          "model_module_version": "1.5.0",
          "model_name": "DescriptionStyleModel",
          "state": {
            "_model_module": "@jupyter-widgets/controls",
            "_model_module_version": "1.5.0",
            "_model_name": "DescriptionStyleModel",
            "_view_count": null,
            "_view_module": "@jupyter-widgets/base",
            "_view_module_version": "1.2.0",
            "_view_name": "StyleView",
            "description_width": ""
          }
        },
        "390bcd47bf7645f6a5270106a93492b9": {
          "model_module": "@jupyter-widgets/controls",
          "model_module_version": "1.5.0",
          "model_name": "HTMLModel",
          "state": {
            "_dom_classes": [],
            "_model_module": "@jupyter-widgets/controls",
            "_model_module_version": "1.5.0",
            "_model_name": "HTMLModel",
            "_view_count": null,
            "_view_module": "@jupyter-widgets/controls",
            "_view_module_version": "1.5.0",
            "_view_name": "HTMLView",
            "description": "",
            "description_tooltip": null,
            "layout": "IPY_MODEL_12a94f4f503e4e29a069c331a5be16fb",
            "placeholder": "​",
            "style": "IPY_MODEL_51a1157bdb154e16b6eac0ab3d09011c",
            "value": "  540MB /  540MB, 56.2MB/s  "
          }
        },
        "3a06dffa9ce94aa6b93e544589e5f2f4": {
          "model_module": "@jupyter-widgets/controls",
          "model_module_version": "1.5.0",
          "model_name": "DescriptionStyleModel",
          "state": {
            "_model_module": "@jupyter-widgets/controls",
            "_model_module_version": "1.5.0",
            "_model_name": "DescriptionStyleModel",
            "_view_count": null,
            "_view_module": "@jupyter-widgets/base",
            "_view_module_version": "1.2.0",
            "_view_name": "StyleView",
            "description_width": ""
          }
        },
        "3d548f17ca774b3e8f5dabce52321d98": {
          "model_module": "@jupyter-widgets/controls",
          "model_module_version": "1.5.0",
          "model_name": "HBoxModel",
          "state": {
            "_dom_classes": [],
            "_model_module": "@jupyter-widgets/controls",
            "_model_module_version": "1.5.0",
            "_model_name": "HBoxModel",
            "_view_count": null,
            "_view_module": "@jupyter-widgets/controls",
            "_view_module_version": "1.5.0",
            "_view_name": "HBoxView",
            "box_style": "",
            "children": [
              "IPY_MODEL_46817854adb9418ba9fcc833076fef7e",
              "IPY_MODEL_689861b69e61417c895d78720c488ad6",
              "IPY_MODEL_390bcd47bf7645f6a5270106a93492b9"
            ],
            "layout": "IPY_MODEL_18d72b5ba35a4b7695cba5bc3bc49bb5"
          }
        },
        "46817854adb9418ba9fcc833076fef7e": {
          "model_module": "@jupyter-widgets/controls",
          "model_module_version": "1.5.0",
          "model_name": "HTMLModel",
          "state": {
            "_dom_classes": [],
            "_model_module": "@jupyter-widgets/controls",
            "_model_module_version": "1.5.0",
            "_model_name": "HTMLModel",
            "_view_count": null,
            "_view_module": "@jupyter-widgets/controls",
            "_view_module_version": "1.5.0",
            "_view_name": "HTMLView",
            "description": "",
            "description_tooltip": null,
            "layout": "IPY_MODEL_da1ab76f4957410cb20b0dd2456a4d13",
            "placeholder": "​",
            "style": "IPY_MODEL_361744dc30c64f14a3097fe91645a045",
            "value": "Processing Files (3 / 3)                : 100%"
          }
        },
        "4e40014f76c0461c8d43433fe4050898": {
          "model_module": "@jupyter-widgets/controls",
          "model_module_version": "1.5.0",
          "model_name": "HTMLModel",
          "state": {
            "_dom_classes": [],
            "_model_module": "@jupyter-widgets/controls",
            "_model_module_version": "1.5.0",
            "_model_name": "HTMLModel",
            "_view_count": null,
            "_view_module": "@jupyter-widgets/controls",
            "_view_module_version": "1.5.0",
            "_view_name": "HTMLView",
            "description": "",
            "description_tooltip": null,
            "layout": "IPY_MODEL_345343a4257745619ae42e36d9bcef18",
            "placeholder": "​",
            "style": "IPY_MODEL_f4442d746c9d4895967cc26c40943a1e",
            "value": "  /content/output-grpo/tokenizer.json   : 100%"
          }
        },
        "4f5c1bb194264d1fa8d2f12b9a494816": {
          "model_module": "@jupyter-widgets/controls",
          "model_module_version": "1.5.0",
          "model_name": "DescriptionStyleModel",
          "state": {
            "_model_module": "@jupyter-widgets/controls",
            "_model_module_version": "1.5.0",
            "_model_name": "DescriptionStyleModel",
            "_view_count": null,
            "_view_module": "@jupyter-widgets/base",
            "_view_module_version": "1.2.0",
            "_view_name": "StyleView",
            "description_width": ""
          }
        },
        "50b0e77e73364abbb07ed465680aad42": {
          "model_module": "@jupyter-widgets/base",
          "model_module_version": "1.2.0",
          "model_name": "LayoutModel",
          "state": {
            "_model_module": "@jupyter-widgets/base",
            "_model_module_version": "1.2.0",
            "_model_name": "LayoutModel",
            "_view_count": null,
            "_view_module": "@jupyter-widgets/base",
            "_view_module_version": "1.2.0",
            "_view_name": "LayoutView",
            "align_content": null,
            "align_items": null,
            "align_self": null,
            "border": null,
            "bottom": null,
            "display": null,
            "flex": null,
            "flex_flow": null,
            "grid_area": null,
            "grid_auto_columns": null,
            "grid_auto_flow": null,
            "grid_auto_rows": null,
            "grid_column": null,
            "grid_gap": null,
            "grid_row": null,
            "grid_template_areas": null,
            "grid_template_columns": null,
            "grid_template_rows": null,
            "height": null,
            "justify_content": null,
            "justify_items": null,
            "left": null,
            "margin": null,
            "max_height": null,
            "max_width": null,
            "min_height": null,
            "min_width": null,
            "object_fit": null,
            "object_position": null,
            "order": null,
            "overflow": null,
            "overflow_x": null,
            "overflow_y": null,
            "padding": null,
            "right": null,
            "top": null,
            "visibility": null,
            "width": "20px"
          }
        },
        "51a1157bdb154e16b6eac0ab3d09011c": {
          "model_module": "@jupyter-widgets/controls",
          "model_module_version": "1.5.0",
          "model_name": "DescriptionStyleModel",
          "state": {
            "_model_module": "@jupyter-widgets/controls",
            "_model_module_version": "1.5.0",
            "_model_name": "DescriptionStyleModel",
            "_view_count": null,
            "_view_module": "@jupyter-widgets/base",
            "_view_module_version": "1.2.0",
            "_view_name": "StyleView",
            "description_width": ""
          }
        },
        "551e1e24a7694585b49a57ee3228387d": {
          "model_module": "@jupyter-widgets/base",
          "model_module_version": "1.2.0",
          "model_name": "LayoutModel",
          "state": {
            "_model_module": "@jupyter-widgets/base",
            "_model_module_version": "1.2.0",
            "_model_name": "LayoutModel",
            "_view_count": null,
            "_view_module": "@jupyter-widgets/base",
            "_view_module_version": "1.2.0",
            "_view_name": "LayoutView",
            "align_content": null,
            "align_items": null,
            "align_self": null,
            "border": null,
            "bottom": null,
            "display": null,
            "flex": null,
            "flex_flow": null,
            "grid_area": null,
            "grid_auto_columns": null,
            "grid_auto_flow": null,
            "grid_auto_rows": null,
            "grid_column": null,
            "grid_gap": null,
            "grid_row": null,
            "grid_template_areas": null,
            "grid_template_columns": null,
            "grid_template_rows": null,
            "height": null,
            "justify_content": null,
            "justify_items": null,
            "left": null,
            "margin": null,
            "max_height": null,
            "max_width": null,
            "min_height": null,
            "min_width": null,
            "object_fit": null,
            "object_position": null,
            "order": null,
            "overflow": null,
            "overflow_x": null,
            "overflow_y": null,
            "padding": null,
            "right": null,
            "top": null,
            "visibility": null,
            "width": null
          }
        },
        "57a22f58e6d9468e915cea6ef3076cbd": {
          "model_module": "@jupyter-widgets/base",
          "model_module_version": "1.2.0",
          "model_name": "LayoutModel",
          "state": {
            "_model_module": "@jupyter-widgets/base",
            "_model_module_version": "1.2.0",
            "_model_name": "LayoutModel",
            "_view_count": null,
            "_view_module": "@jupyter-widgets/base",
            "_view_module_version": "1.2.0",
            "_view_name": "LayoutView",
            "align_content": null,
            "align_items": null,
            "align_self": null,
            "border": null,
            "bottom": null,
            "display": null,
            "flex": null,
            "flex_flow": null,
            "grid_area": null,
            "grid_auto_columns": null,
            "grid_auto_flow": null,
            "grid_auto_rows": null,
            "grid_column": null,
            "grid_gap": null,
            "grid_row": null,
            "grid_template_areas": null,
            "grid_template_columns": null,
            "grid_template_rows": null,
            "height": null,
            "justify_content": null,
            "justify_items": null,
            "left": null,
            "margin": null,
            "max_height": null,
            "max_width": null,
            "min_height": null,
            "min_width": null,
            "object_fit": null,
            "object_position": null,
            "order": null,
            "overflow": null,
            "overflow_x": null,
            "overflow_y": null,
            "padding": null,
            "right": null,
            "top": null,
            "visibility": null,
            "width": null
          }
        },
        "5caaacb5191344eba893fb5d337a81fb": {
          "model_module": "@jupyter-widgets/base",
          "model_module_version": "1.2.0",
          "model_name": "LayoutModel",
          "state": {
            "_model_module": "@jupyter-widgets/base",
            "_model_module_version": "1.2.0",
            "_model_name": "LayoutModel",
            "_view_count": null,
            "_view_module": "@jupyter-widgets/base",
            "_view_module_version": "1.2.0",
            "_view_name": "LayoutView",
            "align_content": null,
            "align_items": null,
            "align_self": null,
            "border": null,
            "bottom": null,
            "display": null,
            "flex": null,
            "flex_flow": null,
            "grid_area": null,
            "grid_auto_columns": null,
            "grid_auto_flow": null,
            "grid_auto_rows": null,
            "grid_column": null,
            "grid_gap": null,
            "grid_row": null,
            "grid_template_areas": null,
            "grid_template_columns": null,
            "grid_template_rows": null,
            "height": null,
            "justify_content": null,
            "justify_items": null,
            "left": null,
            "margin": null,
            "max_height": null,
            "max_width": null,
            "min_height": null,
            "min_width": null,
            "object_fit": null,
            "object_position": null,
            "order": null,
            "overflow": null,
            "overflow_x": null,
            "overflow_y": null,
            "padding": null,
            "right": null,
            "top": null,
            "visibility": null,
            "width": null
          }
        },
        "64615315d02c44f4b3ade978311d56a4": {
          "model_module": "@jupyter-widgets/base",
          "model_module_version": "1.2.0",
          "model_name": "LayoutModel",
          "state": {
            "_model_module": "@jupyter-widgets/base",
            "_model_module_version": "1.2.0",
            "_model_name": "LayoutModel",
            "_view_count": null,
            "_view_module": "@jupyter-widgets/base",
            "_view_module_version": "1.2.0",
            "_view_name": "LayoutView",
            "align_content": null,
            "align_items": null,
            "align_self": null,
            "border": null,
            "bottom": null,
            "display": null,
            "flex": null,
            "flex_flow": null,
            "grid_area": null,
            "grid_auto_columns": null,
            "grid_auto_flow": null,
            "grid_auto_rows": null,
            "grid_column": null,
            "grid_gap": null,
            "grid_row": null,
            "grid_template_areas": null,
            "grid_template_columns": null,
            "grid_template_rows": null,
            "height": null,
            "justify_content": null,
            "justify_items": null,
            "left": null,
            "margin": null,
            "max_height": null,
            "max_width": null,
            "min_height": null,
            "min_width": null,
            "object_fit": null,
            "object_position": null,
            "order": null,
            "overflow": null,
            "overflow_x": null,
            "overflow_y": null,
            "padding": null,
            "right": null,
            "top": null,
            "visibility": null,
            "width": null
          }
        },
        "65713b9ba5fb4897b7c51ab09624ef63": {
          "model_module": "@jupyter-widgets/base",
          "model_module_version": "1.2.0",
          "model_name": "LayoutModel",
          "state": {
            "_model_module": "@jupyter-widgets/base",
            "_model_module_version": "1.2.0",
            "_model_name": "LayoutModel",
            "_view_count": null,
            "_view_module": "@jupyter-widgets/base",
            "_view_module_version": "1.2.0",
            "_view_name": "LayoutView",
            "align_content": null,
            "align_items": null,
            "align_self": null,
            "border": null,
            "bottom": null,
            "display": null,
            "flex": null,
            "flex_flow": null,
            "grid_area": null,
            "grid_auto_columns": null,
            "grid_auto_flow": null,
            "grid_auto_rows": null,
            "grid_column": null,
            "grid_gap": null,
            "grid_row": null,
            "grid_template_areas": null,
            "grid_template_columns": null,
            "grid_template_rows": null,
            "height": null,
            "justify_content": null,
            "justify_items": null,
            "left": null,
            "margin": null,
            "max_height": null,
            "max_width": null,
            "min_height": null,
            "min_width": null,
            "object_fit": null,
            "object_position": null,
            "order": null,
            "overflow": null,
            "overflow_x": null,
            "overflow_y": null,
            "padding": null,
            "right": null,
            "top": null,
            "visibility": null,
            "width": null
          }
        },
        "689861b69e61417c895d78720c488ad6": {
          "model_module": "@jupyter-widgets/controls",
          "model_module_version": "1.5.0",
          "model_name": "FloatProgressModel",
          "state": {
            "_dom_classes": [],
            "_model_module": "@jupyter-widgets/controls",
            "_model_module_version": "1.5.0",
            "_model_name": "FloatProgressModel",
            "_view_count": null,
            "_view_module": "@jupyter-widgets/controls",
            "_view_module_version": "1.5.0",
            "_view_name": "ProgressView",
            "bar_style": "success",
            "description": "",
            "description_tooltip": null,
            "layout": "IPY_MODEL_50b0e77e73364abbb07ed465680aad42",
            "max": 1,
            "min": 0,
            "orientation": "horizontal",
            "style": "IPY_MODEL_bffd76496a7342bd9e05cd23ba47cf88",
            "value": 1
          }
        },
        "694c172e8fbd413bb10344a3eeb1dbdf": {
          "model_module": "@jupyter-widgets/controls",
          "model_module_version": "1.5.0",
          "model_name": "HBoxModel",
          "state": {
            "_dom_classes": [],
            "_model_module": "@jupyter-widgets/controls",
            "_model_module_version": "1.5.0",
            "_model_name": "HBoxModel",
            "_view_count": null,
            "_view_module": "@jupyter-widgets/controls",
            "_view_module_version": "1.5.0",
            "_view_name": "HBoxView",
            "box_style": "",
            "children": [
              "IPY_MODEL_eda906b2f66c498592ed911fa24b1599",
              "IPY_MODEL_97528d800d074954a9eff6d221e06afe",
              "IPY_MODEL_2c438a6f3cbf49b4ba3916fbba5b1a98"
            ],
            "layout": "IPY_MODEL_b75f928bf4ce4dc0a6d110d70a7f8c31"
          }
        },
        "85c831c804f1482194512defaf16058e": {
          "model_module": "@jupyter-widgets/controls",
          "model_module_version": "1.5.0",
          "model_name": "ProgressStyleModel",
          "state": {
            "_model_module": "@jupyter-widgets/controls",
            "_model_module_version": "1.5.0",
            "_model_name": "ProgressStyleModel",
            "_view_count": null,
            "_view_module": "@jupyter-widgets/base",
            "_view_module_version": "1.2.0",
            "_view_name": "StyleView",
            "bar_color": null,
            "description_width": ""
          }
        },
        "91940817087046a3899d8eeee17b11cf": {
          "model_module": "@jupyter-widgets/controls",
          "model_module_version": "1.5.0",
          "model_name": "DescriptionStyleModel",
          "state": {
            "_model_module": "@jupyter-widgets/controls",
            "_model_module_version": "1.5.0",
            "_model_name": "DescriptionStyleModel",
            "_view_count": null,
            "_view_module": "@jupyter-widgets/base",
            "_view_module_version": "1.2.0",
            "_view_name": "StyleView",
            "description_width": ""
          }
        },
        "97528d800d074954a9eff6d221e06afe": {
          "model_module": "@jupyter-widgets/controls",
          "model_module_version": "1.5.0",
          "model_name": "FloatProgressModel",
          "state": {
            "_dom_classes": [],
            "_model_module": "@jupyter-widgets/controls",
            "_model_module_version": "1.5.0",
            "_model_name": "FloatProgressModel",
            "_view_count": null,
            "_view_module": "@jupyter-widgets/controls",
            "_view_module_version": "1.5.0",
            "_view_name": "ProgressView",
            "bar_style": "success",
            "description": "",
            "description_tooltip": null,
            "layout": "IPY_MODEL_121bc3071a64413e934c3c29d5fa6b9e",
            "max": 7057,
            "min": 0,
            "orientation": "horizontal",
            "style": "IPY_MODEL_85c831c804f1482194512defaf16058e",
            "value": 7057
          }
        },
        "a1b7a8c762a742198f5c69d9ce2ce27b": {
          "model_module": "@jupyter-widgets/base",
          "model_module_version": "1.2.0",
          "model_name": "LayoutModel",
          "state": {
            "_model_module": "@jupyter-widgets/base",
            "_model_module_version": "1.2.0",
            "_model_name": "LayoutModel",
            "_view_count": null,
            "_view_module": "@jupyter-widgets/base",
            "_view_module_version": "1.2.0",
            "_view_name": "LayoutView",
            "align_content": null,
            "align_items": null,
            "align_self": null,
            "border": null,
            "bottom": null,
            "display": null,
            "flex": null,
            "flex_flow": null,
            "grid_area": null,
            "grid_auto_columns": null,
            "grid_auto_flow": null,
            "grid_auto_rows": null,
            "grid_column": null,
            "grid_gap": null,
            "grid_row": null,
            "grid_template_areas": null,
            "grid_template_columns": null,
            "grid_template_rows": null,
            "height": null,
            "justify_content": null,
            "justify_items": null,
            "left": null,
            "margin": null,
            "max_height": null,
            "max_width": null,
            "min_height": null,
            "min_width": null,
            "object_fit": null,
            "object_position": null,
            "order": null,
            "overflow": null,
            "overflow_x": null,
            "overflow_y": null,
            "padding": null,
            "right": null,
            "top": null,
            "visibility": null,
            "width": null
          }
        },
        "a5f87acd7de640d9a290c5eed9333e7a": {
          "model_module": "@jupyter-widgets/controls",
          "model_module_version": "1.5.0",
          "model_name": "DescriptionStyleModel",
          "state": {
            "_model_module": "@jupyter-widgets/controls",
            "_model_module_version": "1.5.0",
            "_model_name": "DescriptionStyleModel",
            "_view_count": null,
            "_view_module": "@jupyter-widgets/base",
            "_view_module_version": "1.2.0",
            "_view_name": "StyleView",
            "description_width": ""
          }
        },
        "a6d9144b7c8e449bb2a6f6c45adf3b3e": {
          "model_module": "@jupyter-widgets/controls",
          "model_module_version": "1.5.0",
          "model_name": "HTMLModel",
          "state": {
            "_dom_classes": [],
            "_model_module": "@jupyter-widgets/controls",
            "_model_module_version": "1.5.0",
            "_model_name": "HTMLModel",
            "_view_count": null,
            "_view_module": "@jupyter-widgets/controls",
            "_view_module_version": "1.5.0",
            "_view_name": "HTMLView",
            "description": "",
            "description_tooltip": null,
            "layout": "IPY_MODEL_35ea2cae01204025a131de6b2921f429",
            "placeholder": "​",
            "style": "IPY_MODEL_14de9e310e2c4c3f948be29c751b92f1",
            "value": "  529MB /  529MB            "
          }
        },
        "b083601f09b84d6087dff4c2e105dd60": {
          "model_module": "@jupyter-widgets/controls",
          "model_module_version": "1.5.0",
          "model_name": "ProgressStyleModel",
          "state": {
            "_model_module": "@jupyter-widgets/controls",
            "_model_module_version": "1.5.0",
            "_model_name": "ProgressStyleModel",
            "_view_count": null,
            "_view_module": "@jupyter-widgets/base",
            "_view_module_version": "1.2.0",
            "_view_name": "StyleView",
            "bar_color": null,
            "description_width": ""
          }
        },
        "b0e6ef479ab04d809090db9d4ab7ec96": {
          "model_module": "@jupyter-widgets/controls",
          "model_module_version": "1.5.0",
          "model_name": "HBoxModel",
          "state": {
            "_dom_classes": [],
            "_model_module": "@jupyter-widgets/controls",
            "_model_module_version": "1.5.0",
            "_model_name": "HBoxModel",
            "_view_count": null,
            "_view_module": "@jupyter-widgets/controls",
            "_view_module_version": "1.5.0",
            "_view_name": "HBoxView",
            "box_style": "",
            "children": [
              "IPY_MODEL_4e40014f76c0461c8d43433fe4050898",
              "IPY_MODEL_2046db7eab864533a4dd530741f2a5f8",
              "IPY_MODEL_d63b7e9dea9447c0921f160d52d16bf8"
            ],
            "layout": "IPY_MODEL_5caaacb5191344eba893fb5d337a81fb"
          }
        },
        "b204e6dc705847afad160a042cb0c25f": {
          "model_module": "@jupyter-widgets/controls",
          "model_module_version": "1.5.0",
          "model_name": "ProgressStyleModel",
          "state": {
            "_model_module": "@jupyter-widgets/controls",
            "_model_module_version": "1.5.0",
            "_model_name": "ProgressStyleModel",
            "_view_count": null,
            "_view_module": "@jupyter-widgets/base",
            "_view_module_version": "1.2.0",
            "_view_name": "StyleView",
            "bar_color": null,
            "description_width": ""
          }
        },
        "b207e8eb4f374410a92071156caafd39": {
          "model_module": "@jupyter-widgets/controls",
          "model_module_version": "1.5.0",
          "model_name": "HTMLModel",
          "state": {
            "_dom_classes": [],
            "_model_module": "@jupyter-widgets/controls",
            "_model_module_version": "1.5.0",
            "_model_name": "HTMLModel",
            "_view_count": null,
            "_view_module": "@jupyter-widgets/controls",
            "_view_module_version": "1.5.0",
            "_view_name": "HTMLView",
            "description": "",
            "description_tooltip": null,
            "layout": "IPY_MODEL_0fa19087250e4df1b7b434268a1c7b53",
            "placeholder": "​",
            "style": "IPY_MODEL_a5f87acd7de640d9a290c5eed9333e7a",
            "value": "New Data Upload                         : 100%"
          }
        },
        "b5cefc38c64040fb9c04477cb7c3124b": {
          "model_module": "@jupyter-widgets/base",
          "model_module_version": "1.2.0",
          "model_name": "LayoutModel",
          "state": {
            "_model_module": "@jupyter-widgets/base",
            "_model_module_version": "1.2.0",
            "_model_name": "LayoutModel",
            "_view_count": null,
            "_view_module": "@jupyter-widgets/base",
            "_view_module_version": "1.2.0",
            "_view_name": "LayoutView",
            "align_content": null,
            "align_items": null,
            "align_self": null,
            "border": null,
            "bottom": null,
            "display": null,
            "flex": null,
            "flex_flow": null,
            "grid_area": null,
            "grid_auto_columns": null,
            "grid_auto_flow": null,
            "grid_auto_rows": null,
            "grid_column": null,
            "grid_gap": null,
            "grid_row": null,
            "grid_template_areas": null,
            "grid_template_columns": null,
            "grid_template_rows": null,
            "height": null,
            "justify_content": null,
            "justify_items": null,
            "left": null,
            "margin": null,
            "max_height": null,
            "max_width": null,
            "min_height": null,
            "min_width": null,
            "object_fit": null,
            "object_position": null,
            "order": null,
            "overflow": null,
            "overflow_x": null,
            "overflow_y": null,
            "padding": null,
            "right": null,
            "top": null,
            "visibility": null,
            "width": null
          }
        },
        "b75f928bf4ce4dc0a6d110d70a7f8c31": {
          "model_module": "@jupyter-widgets/base",
          "model_module_version": "1.2.0",
          "model_name": "LayoutModel",
          "state": {
            "_model_module": "@jupyter-widgets/base",
            "_model_module_version": "1.2.0",
            "_model_name": "LayoutModel",
            "_view_count": null,
            "_view_module": "@jupyter-widgets/base",
            "_view_module_version": "1.2.0",
            "_view_name": "LayoutView",
            "align_content": null,
            "align_items": null,
            "align_self": null,
            "border": null,
            "bottom": null,
            "display": null,
            "flex": null,
            "flex_flow": null,
            "grid_area": null,
            "grid_auto_columns": null,
            "grid_auto_flow": null,
            "grid_auto_rows": null,
            "grid_column": null,
            "grid_gap": null,
            "grid_row": null,
            "grid_template_areas": null,
            "grid_template_columns": null,
            "grid_template_rows": null,
            "height": null,
            "justify_content": null,
            "justify_items": null,
            "left": null,
            "margin": null,
            "max_height": null,
            "max_width": null,
            "min_height": null,
            "min_width": null,
            "object_fit": null,
            "object_position": null,
            "order": null,
            "overflow": null,
            "overflow_x": null,
            "overflow_y": null,
            "padding": null,
            "right": null,
            "top": null,
            "visibility": null,
            "width": null
          }
        },
        "bdda7135c27146c59a9606beb00f0221": {
          "model_module": "@jupyter-widgets/controls",
          "model_module_version": "1.5.0",
          "model_name": "VBoxModel",
          "state": {
            "_dom_classes": [],
            "_model_module": "@jupyter-widgets/controls",
            "_model_module_version": "1.5.0",
            "_model_name": "VBoxModel",
            "_view_count": null,
            "_view_module": "@jupyter-widgets/controls",
            "_view_module_version": "1.5.0",
            "_view_name": "VBoxView",
            "box_style": "",
            "children": [],
            "layout": "IPY_MODEL_e842f26c3115442da2f4bb0efaebb896"
          }
        },
        "bffd76496a7342bd9e05cd23ba47cf88": {
          "model_module": "@jupyter-widgets/controls",
          "model_module_version": "1.5.0",
          "model_name": "ProgressStyleModel",
          "state": {
            "_model_module": "@jupyter-widgets/controls",
            "_model_module_version": "1.5.0",
            "_model_name": "ProgressStyleModel",
            "_view_count": null,
            "_view_module": "@jupyter-widgets/base",
            "_view_module_version": "1.2.0",
            "_view_name": "StyleView",
            "bar_color": null,
            "description_width": ""
          }
        },
        "cfb263abb60c4dbb864bbda5ed686bde": {
          "model_module": "@jupyter-widgets/base",
          "model_module_version": "1.2.0",
          "model_name": "LayoutModel",
          "state": {
            "_model_module": "@jupyter-widgets/base",
            "_model_module_version": "1.2.0",
            "_model_name": "LayoutModel",
            "_view_count": null,
            "_view_module": "@jupyter-widgets/base",
            "_view_module_version": "1.2.0",
            "_view_name": "LayoutView",
            "align_content": null,
            "align_items": null,
            "align_self": null,
            "border": null,
            "bottom": null,
            "display": null,
            "flex": null,
            "flex_flow": null,
            "grid_area": null,
            "grid_auto_columns": null,
            "grid_auto_flow": null,
            "grid_auto_rows": null,
            "grid_column": null,
            "grid_gap": null,
            "grid_row": null,
            "grid_template_areas": null,
            "grid_template_columns": null,
            "grid_template_rows": null,
            "height": null,
            "justify_content": null,
            "justify_items": null,
            "left": null,
            "margin": null,
            "max_height": null,
            "max_width": null,
            "min_height": null,
            "min_width": null,
            "object_fit": null,
            "object_position": null,
            "order": null,
            "overflow": null,
            "overflow_x": null,
            "overflow_y": null,
            "padding": null,
            "right": null,
            "top": null,
            "visibility": null,
            "width": null
          }
        },
        "d0d271cb47bc43dfa7ce1027679c066e": {
          "model_module": "@jupyter-widgets/controls",
          "model_module_version": "1.5.0",
          "model_name": "FloatProgressModel",
          "state": {
            "_dom_classes": [],
            "_model_module": "@jupyter-widgets/controls",
            "_model_module_version": "1.5.0",
            "_model_name": "FloatProgressModel",
            "_view_count": null,
            "_view_module": "@jupyter-widgets/controls",
            "_view_module_version": "1.5.0",
            "_view_name": "ProgressView",
            "bar_style": "success",
            "description": "",
            "description_tooltip": null,
            "layout": "IPY_MODEL_57a22f58e6d9468e915cea6ef3076cbd",
            "max": 528550256,
            "min": 0,
            "orientation": "horizontal",
            "style": "IPY_MODEL_b204e6dc705847afad160a042cb0c25f",
            "value": 528550256
          }
        },
        "d39669890578455f9acca2a45fa74b47": {
          "model_module": "@jupyter-widgets/controls",
          "model_module_version": "1.5.0",
          "model_name": "FloatProgressModel",
          "state": {
            "_dom_classes": [],
            "_model_module": "@jupyter-widgets/controls",
            "_model_module_version": "1.5.0",
            "_model_name": "FloatProgressModel",
            "_view_count": null,
            "_view_module": "@jupyter-widgets/controls",
            "_view_module_version": "1.5.0",
            "_view_name": "ProgressView",
            "bar_style": "success",
            "description": "",
            "description_tooltip": null,
            "layout": "IPY_MODEL_086bf35db5104c82969972692ad0c3ba",
            "max": 1,
            "min": 0,
            "orientation": "horizontal",
            "style": "IPY_MODEL_f59354119db144d496fe391dec2d417a",
            "value": 1
          }
        },
        "d63b7e9dea9447c0921f160d52d16bf8": {
          "model_module": "@jupyter-widgets/controls",
          "model_module_version": "1.5.0",
          "model_name": "HTMLModel",
          "state": {
            "_dom_classes": [],
            "_model_module": "@jupyter-widgets/controls",
            "_model_module_version": "1.5.0",
            "_model_name": "HTMLModel",
            "_view_count": null,
            "_view_module": "@jupyter-widgets/controls",
            "_view_module_version": "1.5.0",
            "_view_name": "HTMLView",
            "description": "",
            "description_tooltip": null,
            "layout": "IPY_MODEL_cfb263abb60c4dbb864bbda5ed686bde",
            "placeholder": "​",
            "style": "IPY_MODEL_3a06dffa9ce94aa6b93e544589e5f2f4",
            "value": " 11.4MB / 11.4MB            "
          }
        },
        "d65c4a23ae2b4a23884d95e4e284886c": {
          "model_module": "@jupyter-widgets/controls",
          "model_module_version": "1.5.0",
          "model_name": "HTMLModel",
          "state": {
            "_dom_classes": [],
            "_model_module": "@jupyter-widgets/controls",
            "_model_module_version": "1.5.0",
            "_model_name": "HTMLModel",
            "_view_count": null,
            "_view_module": "@jupyter-widgets/controls",
            "_view_module_version": "1.5.0",
            "_view_name": "HTMLView",
            "description": "",
            "description_tooltip": null,
            "layout": "IPY_MODEL_65713b9ba5fb4897b7c51ab09624ef63",
            "placeholder": "​",
            "style": "IPY_MODEL_4f5c1bb194264d1fa8d2f12b9a494816",
            "value": "  528MB /  528MB, 55.0MB/s  "
          }
        },
        "d9f3a92c9a1c4e3a81ccb8b9955b3cd0": {
          "model_module": "@jupyter-widgets/base",
          "model_module_version": "1.2.0",
          "model_name": "LayoutModel",
          "state": {
            "_model_module": "@jupyter-widgets/base",
            "_model_module_version": "1.2.0",
            "_model_name": "LayoutModel",
            "_view_count": null,
            "_view_module": "@jupyter-widgets/base",
            "_view_module_version": "1.2.0",
            "_view_name": "LayoutView",
            "align_content": null,
            "align_items": null,
            "align_self": null,
            "border": null,
            "bottom": null,
            "display": null,
            "flex": null,
            "flex_flow": null,
            "grid_area": null,
            "grid_auto_columns": null,
            "grid_auto_flow": null,
            "grid_auto_rows": null,
            "grid_column": null,
            "grid_gap": null,
            "grid_row": null,
            "grid_template_areas": null,
            "grid_template_columns": null,
            "grid_template_rows": null,
            "height": null,
            "justify_content": null,
            "justify_items": null,
            "left": null,
            "margin": null,
            "max_height": null,
            "max_width": null,
            "min_height": null,
            "min_width": null,
            "object_fit": null,
            "object_position": null,
            "order": null,
            "overflow": null,
            "overflow_x": null,
            "overflow_y": null,
            "padding": null,
            "right": null,
            "top": null,
            "visibility": null,
            "width": null
          }
        },
        "da1ab76f4957410cb20b0dd2456a4d13": {
          "model_module": "@jupyter-widgets/base",
          "model_module_version": "1.2.0",
          "model_name": "LayoutModel",
          "state": {
            "_model_module": "@jupyter-widgets/base",
            "_model_module_version": "1.2.0",
            "_model_name": "LayoutModel",
            "_view_count": null,
            "_view_module": "@jupyter-widgets/base",
            "_view_module_version": "1.2.0",
            "_view_name": "LayoutView",
            "align_content": null,
            "align_items": null,
            "align_self": null,
            "border": null,
            "bottom": null,
            "display": null,
            "flex": null,
            "flex_flow": null,
            "grid_area": null,
            "grid_auto_columns": null,
            "grid_auto_flow": null,
            "grid_auto_rows": null,
            "grid_column": null,
            "grid_gap": null,
            "grid_row": null,
            "grid_template_areas": null,
            "grid_template_columns": null,
            "grid_template_rows": null,
            "height": null,
            "justify_content": null,
            "justify_items": null,
            "left": null,
            "margin": null,
            "max_height": null,
            "max_width": null,
            "min_height": null,
            "min_width": null,
            "object_fit": null,
            "object_position": null,
            "order": null,
            "overflow": null,
            "overflow_x": null,
            "overflow_y": null,
            "padding": null,
            "right": null,
            "top": null,
            "visibility": null,
            "width": null
          }
        },
        "e1a964ead9d54044ba2e1922b4bd77f1": {
          "model_module": "@jupyter-widgets/controls",
          "model_module_version": "1.5.0",
          "model_name": "DescriptionStyleModel",
          "state": {
            "_model_module": "@jupyter-widgets/controls",
            "_model_module_version": "1.5.0",
            "_model_name": "DescriptionStyleModel",
            "_view_count": null,
            "_view_module": "@jupyter-widgets/base",
            "_view_module_version": "1.2.0",
            "_view_name": "StyleView",
            "description_width": ""
          }
        },
        "e842f26c3115442da2f4bb0efaebb896": {
          "model_module": "@jupyter-widgets/base",
          "model_module_version": "1.2.0",
          "model_name": "LayoutModel",
          "state": {
            "_model_module": "@jupyter-widgets/base",
            "_model_module_version": "1.2.0",
            "_model_name": "LayoutModel",
            "_view_count": null,
            "_view_module": "@jupyter-widgets/base",
            "_view_module_version": "1.2.0",
            "_view_name": "LayoutView",
            "align_content": null,
            "align_items": "center",
            "align_self": null,
            "border": null,
            "bottom": null,
            "display": "flex",
            "flex": null,
            "flex_flow": "column",
            "grid_area": null,
            "grid_auto_columns": null,
            "grid_auto_flow": null,
            "grid_auto_rows": null,
            "grid_column": null,
            "grid_gap": null,
            "grid_row": null,
            "grid_template_areas": null,
            "grid_template_columns": null,
            "grid_template_rows": null,
            "height": null,
            "justify_content": null,
            "justify_items": null,
            "left": null,
            "margin": null,
            "max_height": null,
            "max_width": null,
            "min_height": null,
            "min_width": null,
            "object_fit": null,
            "object_position": null,
            "order": null,
            "overflow": null,
            "overflow_x": null,
            "overflow_y": null,
            "padding": null,
            "right": null,
            "top": null,
            "visibility": null,
            "width": "50%"
          }
        },
        "e9c26daa821145cf80c1d1fc7bd4c28c": {
          "model_module": "@jupyter-widgets/controls",
          "model_module_version": "1.5.0",
          "model_name": "DescriptionStyleModel",
          "state": {
            "_model_module": "@jupyter-widgets/controls",
            "_model_module_version": "1.5.0",
            "_model_name": "DescriptionStyleModel",
            "_view_count": null,
            "_view_module": "@jupyter-widgets/base",
            "_view_module_version": "1.2.0",
            "_view_name": "StyleView",
            "description_width": ""
          }
        },
        "ed0c4de1747546b68fc470dffca21587": {
          "model_module": "@jupyter-widgets/controls",
          "model_module_version": "1.5.0",
          "model_name": "HTMLModel",
          "state": {
            "_dom_classes": [],
            "_model_module": "@jupyter-widgets/controls",
            "_model_module_version": "1.5.0",
            "_model_name": "HTMLModel",
            "_view_count": null,
            "_view_module": "@jupyter-widgets/controls",
            "_view_module_version": "1.5.0",
            "_view_name": "HTMLView",
            "description": "",
            "description_tooltip": null,
            "layout": "IPY_MODEL_64615315d02c44f4b3ade978311d56a4",
            "placeholder": "​",
            "style": "IPY_MODEL_91940817087046a3899d8eeee17b11cf",
            "value": "  ...tput-grpo/adapter_model.safetensors: 100%"
          }
        },
        "eda906b2f66c498592ed911fa24b1599": {
          "model_module": "@jupyter-widgets/controls",
          "model_module_version": "1.5.0",
          "model_name": "HTMLModel",
          "state": {
            "_dom_classes": [],
            "_model_module": "@jupyter-widgets/controls",
            "_model_module_version": "1.5.0",
            "_model_name": "HTMLModel",
            "_view_count": null,
            "_view_module": "@jupyter-widgets/controls",
            "_view_module_version": "1.5.0",
            "_view_name": "HTMLView",
            "description": "",
            "description_tooltip": null,
            "layout": "IPY_MODEL_551e1e24a7694585b49a57ee3228387d",
            "placeholder": "​",
            "style": "IPY_MODEL_e1a964ead9d54044ba2e1922b4bd77f1",
            "value": "  /content/output-grpo/training_args.bin: 100%"
          }
        },
        "f4442d746c9d4895967cc26c40943a1e": {
          "model_module": "@jupyter-widgets/controls",
          "model_module_version": "1.5.0",
          "model_name": "DescriptionStyleModel",
          "state": {
            "_model_module": "@jupyter-widgets/controls",
            "_model_module_version": "1.5.0",
            "_model_name": "DescriptionStyleModel",
            "_view_count": null,
            "_view_module": "@jupyter-widgets/base",
            "_view_module_version": "1.2.0",
            "_view_name": "StyleView",
            "description_width": ""
          }
        },
        "f59354119db144d496fe391dec2d417a": {
          "model_module": "@jupyter-widgets/controls",
          "model_module_version": "1.5.0",
          "model_name": "ProgressStyleModel",
          "state": {
            "_model_module": "@jupyter-widgets/controls",
            "_model_module_version": "1.5.0",
            "_model_name": "ProgressStyleModel",
            "_view_count": null,
            "_view_module": "@jupyter-widgets/base",
            "_view_module_version": "1.2.0",
            "_view_name": "StyleView",
            "bar_color": null,
            "description_width": ""
          }
        }
      }
    }
  },
  "nbformat": 4,
  "nbformat_minor": 0
}
